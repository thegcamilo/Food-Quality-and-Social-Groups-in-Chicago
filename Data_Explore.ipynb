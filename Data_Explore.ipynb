{
 "cells": [
  {
   "cell_type": "code",
   "execution_count": 7,
   "metadata": {},
   "outputs": [],
   "source": [
    "#from geopy.geocoders import Nominatim\n",
    "import pandas as pd\n",
    "#import folium\n",
    "import json\n",
    "import datetime\n",
    "#import geopandas as gpd\n",
    "#from shapely.geometry import Point, Polygon\n",
    "import requests\n",
    "from bs4 import BeautifulSoup\n",
    "#from geopandas.tools import sjoin"
   ]
  },
  {
   "cell_type": "markdown",
   "metadata": {},
   "source": [
    "### Basic Map with Boundaries"
   ]
  },
  {
   "cell_type": "code",
   "execution_count": 6,
   "metadata": {},
   "outputs": [
    {
     "data": {
      "text/plain": [
       "'Andersonville Park, 5233, Summerdale, Edgewater, Chicago, Cook County, Illinois, 60640, United States'"
      ]
     },
     "execution_count": 6,
     "metadata": {},
     "output_type": "execute_result"
    }
   ],
   "source": [
    "geolocator = Nominatim(user_agent=\"NMKG\")\n",
    "chicago_location = geolocator.geocode(\"Andersonville Chicago\")\n",
    "chicago_location.address"
   ]
  },
  {
   "cell_type": "code",
   "execution_count": 3,
   "metadata": {},
   "outputs": [
    {
     "name": "stdout",
     "output_type": "stream",
     "text": [
      "True\n"
     ]
    },
    {
     "data": {
      "text/html": [
       "<div>\n",
       "<style scoped>\n",
       "    .dataframe tbody tr th:only-of-type {\n",
       "        vertical-align: middle;\n",
       "    }\n",
       "\n",
       "    .dataframe tbody tr th {\n",
       "        vertical-align: top;\n",
       "    }\n",
       "\n",
       "    .dataframe thead th {\n",
       "        text-align: right;\n",
       "    }\n",
       "</style>\n",
       "<table border=\"1\" class=\"dataframe\">\n",
       "  <thead>\n",
       "    <tr style=\"text-align: right;\">\n",
       "      <th></th>\n",
       "      <th>pri_neigh</th>\n",
       "      <th>sec_neigh</th>\n",
       "      <th>shape_area</th>\n",
       "      <th>shape_len</th>\n",
       "      <th>geometry</th>\n",
       "    </tr>\n",
       "  </thead>\n",
       "  <tbody>\n",
       "    <tr>\n",
       "      <td>52</td>\n",
       "      <td>Albany Park</td>\n",
       "      <td>NORTH PARK,ALBANY PARK</td>\n",
       "      <td>53542230.819</td>\n",
       "      <td>39339.016439</td>\n",
       "      <td>(POLYGON ((-87.70403771340104 41.9735515838182...</td>\n",
       "    </tr>\n",
       "    <tr>\n",
       "      <td>42</td>\n",
       "      <td>Andersonville</td>\n",
       "      <td>ANDERSONVILLE</td>\n",
       "      <td>9584592.89906</td>\n",
       "      <td>12534.092625</td>\n",
       "      <td>(POLYGON ((-87.66114249176968 41.9763032707800...</td>\n",
       "    </tr>\n",
       "    <tr>\n",
       "      <td>78</td>\n",
       "      <td>Archer Heights</td>\n",
       "      <td>ARCHER HEIGHTS,WEST ELSDON</td>\n",
       "      <td>55922505.7212</td>\n",
       "      <td>31880.02103</td>\n",
       "      <td>(POLYGON ((-87.71436934735939 41.8260405636423...</td>\n",
       "    </tr>\n",
       "    <tr>\n",
       "      <td>8</td>\n",
       "      <td>Armour Square</td>\n",
       "      <td>ARMOUR SQUARE,CHINATOWN</td>\n",
       "      <td>17141468.6356</td>\n",
       "      <td>24359.189625</td>\n",
       "      <td>(POLYGON ((-87.62920071904188 41.8471270613852...</td>\n",
       "    </tr>\n",
       "    <tr>\n",
       "      <td>21</td>\n",
       "      <td>Ashburn</td>\n",
       "      <td>ASHBURN</td>\n",
       "      <td>135460337.208</td>\n",
       "      <td>54818.154632</td>\n",
       "      <td>(POLYGON ((-87.71254775561138 41.7573373338274...</td>\n",
       "    </tr>\n",
       "  </tbody>\n",
       "</table>\n",
       "</div>"
      ],
      "text/plain": [
       "         pri_neigh                   sec_neigh     shape_area     shape_len  \\\n",
       "52     Albany Park      NORTH PARK,ALBANY PARK   53542230.819  39339.016439   \n",
       "42   Andersonville               ANDERSONVILLE  9584592.89906  12534.092625   \n",
       "78  Archer Heights  ARCHER HEIGHTS,WEST ELSDON  55922505.7212   31880.02103   \n",
       "8    Armour Square     ARMOUR SQUARE,CHINATOWN  17141468.6356  24359.189625   \n",
       "21         Ashburn                     ASHBURN  135460337.208  54818.154632   \n",
       "\n",
       "                                             geometry  \n",
       "52  (POLYGON ((-87.70403771340104 41.9735515838182...  \n",
       "42  (POLYGON ((-87.66114249176968 41.9763032707800...  \n",
       "78  (POLYGON ((-87.71436934735939 41.8260405636423...  \n",
       "8   (POLYGON ((-87.62920071904188 41.8471270613852...  \n",
       "21  (POLYGON ((-87.71254775561138 41.7573373338274...  "
      ]
     },
     "execution_count": 3,
     "metadata": {},
     "output_type": "execute_result"
    }
   ],
   "source": [
    "## reasing geojson\n",
    "geo_df = gpd.read_file(\"data/chicago_boundaries.geojson\")\n",
    "print(geo_df[\"pri_neigh\"].nunique() == len(geo_df))\n",
    "geo_df.sort_values(\"pri_neigh\").head()"
   ]
  },
  {
   "cell_type": "code",
   "execution_count": 35,
   "metadata": {
    "scrolled": true
   },
   "outputs": [],
   "source": [
    "m = folium.Map(location=[chicago_location.latitude, chicago_location.longitude], zoom_start=11)"
   ]
  },
  {
   "cell_type": "code",
   "execution_count": 36,
   "metadata": {},
   "outputs": [
    {
     "data": {
      "text/plain": [
       "<folium.features.GeoJson at 0x1a1d79ac508>"
      ]
     },
     "execution_count": 36,
     "metadata": {},
     "output_type": "execute_result"
    }
   ],
   "source": [
    "geojson_data = json.load(open(\"data/chicago_boundaries.geojson\"))\n",
    "folium.GeoJson(\n",
    "    geojson_data,\n",
    "    name='geojson'\n",
    ").add_to(m)"
   ]
  },
  {
   "cell_type": "markdown",
   "metadata": {},
   "source": [
    "### Get Neighbourhood <-> Community Area - Maybe will be useful?"
   ]
  },
  {
   "cell_type": "code",
   "execution_count": 131,
   "metadata": {},
   "outputs": [
    {
     "data": {
      "text/html": [
       "<div>\n",
       "<style scoped>\n",
       "    .dataframe tbody tr th:only-of-type {\n",
       "        vertical-align: middle;\n",
       "    }\n",
       "\n",
       "    .dataframe tbody tr th {\n",
       "        vertical-align: top;\n",
       "    }\n",
       "\n",
       "    .dataframe thead th {\n",
       "        text-align: right;\n",
       "    }\n",
       "</style>\n",
       "<table border=\"1\" class=\"dataframe\">\n",
       "  <thead>\n",
       "    <tr style=\"text-align: right;\">\n",
       "      <th></th>\n",
       "      <th>neigh</th>\n",
       "      <th>community</th>\n",
       "    </tr>\n",
       "  </thead>\n",
       "  <tbody>\n",
       "    <tr>\n",
       "      <td>0</td>\n",
       "      <td>Albany Park</td>\n",
       "      <td>Albany Park</td>\n",
       "    </tr>\n",
       "    <tr>\n",
       "      <td>1</td>\n",
       "      <td>Altgeld Gardens</td>\n",
       "      <td>Riverdale</td>\n",
       "    </tr>\n",
       "    <tr>\n",
       "      <td>2</td>\n",
       "      <td>Andersonville</td>\n",
       "      <td>Edgewater</td>\n",
       "    </tr>\n",
       "    <tr>\n",
       "      <td>3</td>\n",
       "      <td>Archer Heights</td>\n",
       "      <td>Archer Heights</td>\n",
       "    </tr>\n",
       "    <tr>\n",
       "      <td>4</td>\n",
       "      <td>Armour Square</td>\n",
       "      <td>Armour Square</td>\n",
       "    </tr>\n",
       "  </tbody>\n",
       "</table>\n",
       "</div>"
      ],
      "text/plain": [
       "             neigh       community\n",
       "0      Albany Park     Albany Park\n",
       "1  Altgeld Gardens       Riverdale\n",
       "2    Andersonville       Edgewater\n",
       "3   Archer Heights  Archer Heights\n",
       "4    Armour Square   Armour Square"
      ]
     },
     "execution_count": 131,
     "metadata": {},
     "output_type": "execute_result"
    }
   ],
   "source": [
    "url = \"https://en.wikipedia.org/wiki/List_of_neighborhoods_in_Chicago\"\n",
    "response = requests.get(url)\n",
    "html_soup = BeautifulSoup(response.text, 'html.parser')\n",
    "table_content = html_soup.find(\"tbody\").find_all(\"tr\")[1:]\n",
    "map_list = []\n",
    "i = 0\n",
    "for entry in table_content:\n",
    "    neigh_community = entry.find_all(\"td\")\n",
    "    if len(neigh_community) > 0:\n",
    "        neigh = neigh_community[0].text if \"<a>\" not in neigh_community[0].text else neigh_community.find_all(a)[0].text\n",
    "        community = neigh_community[1].text if \"<a>\" not in neigh_community[1].text else neigh_community.find_all(a)[0].text\n",
    "        map_list.append([neigh.strip(), community.strip()])\n",
    "\n",
    "map_list = pd.DataFrame(map_list, columns=[\"neigh\", \"community\"])\n",
    "map_list.head()"
   ]
  },
  {
   "cell_type": "markdown",
   "metadata": {},
   "source": [
    "<h3>Inspection -- out of order businesses</h3>"
   ]
  },
  {
   "cell_type": "code",
   "execution_count": 38,
   "metadata": {},
   "outputs": [],
   "source": [
    "food_df = pd.read_csv(\"data/food-inspections.csv\")\n",
    "food_df.head()\n",
    "food_df = food_df.dropna(subset=[\"Latitude\", \"Longitude\"])\n",
    "food_df['date'] = pd.to_datetime(food_df[\"Inspection Date\"])"
   ]
  },
  {
   "cell_type": "code",
   "execution_count": null,
   "metadata": {},
   "outputs": [],
   "source": [
    "#food_df.groupby('Results').count()\n",
    "pd.set_option('display.max_columns', None)\n",
    "\n",
    "numShutDown = 0\n",
    "numShutDownwithFail = 0\n",
    "out_of_business_df = food_df[food_df.Results == 'Out of Business']\n",
    "out_of_business_companies = out_of_business_df['DBA Name'].unique()\n",
    "for company in out_of_business_companies:\n",
    "    numShutDown += 1\n",
    "    company_results = food_df[food_df['DBA Name'] == company]['Results']\n",
    "    if 'Fail' in company_results.values:\n",
    "        numShutDownwithFail += 1"
   ]
  },
  {
   "cell_type": "code",
   "execution_count": 72,
   "metadata": {},
   "outputs": [
    {
     "name": "stdout",
     "output_type": "stream",
     "text": [
      "6817 13997 0.48703293562906336\n"
     ]
    }
   ],
   "source": [
    "print(numShutDownwithFail, numShutDown, numShutDownwithFail / numShutDown)"
   ]
  },
  {
   "cell_type": "markdown",
   "metadata": {},
   "source": [
    "So 48% of the out of business restaurants have had at least 1 fail in their past. Now let's look at it the other way around. What percentage of restaurants got out of order if they have had at least 1 fail in their past."
   ]
  },
  {
   "cell_type": "code",
   "execution_count": 75,
   "metadata": {},
   "outputs": [],
   "source": [
    "numFail = 0\n",
    "numFailwithShutDown = 0\n",
    "fail_df = food_df[food_df.Results == 'Fail']\n",
    "fail_companies = fail_df['DBA Name'].unique()\n",
    "for company in fail_companies:\n",
    "    numFail += 1\n",
    "    company_results = food_df[food_df['DBA Name'] == company]['Results']\n",
    "    if 'Out of Business' in company_results.values:\n",
    "        numFailwithShutDown += 1\n"
   ]
  },
  {
   "cell_type": "code",
   "execution_count": 76,
   "metadata": {},
   "outputs": [
    {
     "name": "stdout",
     "output_type": "stream",
     "text": [
      "6817 15462 0.440887336696417\n"
     ]
    }
   ],
   "source": [
    "print(numFailwithShutDown, numFail, numFailwithShutDown / numFail)"
   ]
  },
  {
   "cell_type": "markdown",
   "metadata": {},
   "source": [
    "44% of the restaurants got out of business after having received at least 1 fail."
   ]
  },
  {
   "cell_type": "markdown",
   "metadata": {},
   "source": [
    "### Map with Inspections"
   ]
  },
  {
   "cell_type": "code",
   "execution_count": 8,
   "metadata": {},
   "outputs": [],
   "source": [
    "inspections = pd.read_csv(\"data/food-inspections.csv\")\n",
    "inspections.head()\n",
    "inspections = inspections.dropna(subset=[\"Latitude\", \"Longitude\"])"
   ]
  },
  {
   "cell_type": "code",
   "execution_count": 67,
   "metadata": {},
   "outputs": [
    {
     "data": {
      "text/plain": [
       "Index(['Inspection ID', 'DBA Name', 'AKA Name', 'License #', 'Facility Type',\n",
       "       'Risk', 'Address', 'City', 'State', 'Zip', 'Inspection Date',\n",
       "       'Inspection Type', 'Results', 'Violations', 'Latitude', 'Longitude',\n",
       "       'Location', 'Historical Wards 2003-2015', 'Zip Codes',\n",
       "       'Community Areas', 'Census Tracts', 'Wards'],\n",
       "      dtype='object')"
      ]
     },
     "execution_count": 67,
     "metadata": {},
     "output_type": "execute_result"
    }
   ],
   "source": [
    "inspections.columns"
   ]
  },
  {
   "cell_type": "code",
   "execution_count": 68,
   "metadata": {},
   "outputs": [],
   "source": [
    "inspections[\"date\"] = pd.to_datetime(inspections[\"Inspection Date\"])"
   ]
  },
  {
   "cell_type": "code",
   "execution_count": 69,
   "metadata": {},
   "outputs": [
    {
     "data": {
      "text/plain": [
       "14130   2019-01-02\n",
       "14131   2019-01-02\n",
       "14132   2019-01-02\n",
       "14133   2019-01-02\n",
       "14134   2019-01-02\n",
       "Name: date, dtype: datetime64[ns]"
      ]
     },
     "execution_count": 69,
     "metadata": {},
     "output_type": "execute_result"
    }
   ],
   "source": [
    "## getting only 2019 to make it easier\n",
    "inspections_2019 = inspections[inspections[\"date\"].dt.year == 2019]\n",
    "inspections_2019[\"date\"].tail()"
   ]
  },
  {
   "cell_type": "code",
   "execution_count": 71,
   "metadata": {},
   "outputs": [
    {
     "data": {
      "text/html": [
       "<div>\n",
       "<style scoped>\n",
       "    .dataframe tbody tr th:only-of-type {\n",
       "        vertical-align: middle;\n",
       "    }\n",
       "\n",
       "    .dataframe tbody tr th {\n",
       "        vertical-align: top;\n",
       "    }\n",
       "\n",
       "    .dataframe thead th {\n",
       "        text-align: right;\n",
       "    }\n",
       "</style>\n",
       "<table border=\"1\" class=\"dataframe\">\n",
       "  <thead>\n",
       "    <tr style=\"text-align: right;\">\n",
       "      <th></th>\n",
       "      <th>Inspection ID</th>\n",
       "      <th>Latitude</th>\n",
       "      <th>Longitude</th>\n",
       "      <th>geometry</th>\n",
       "    </tr>\n",
       "  </thead>\n",
       "  <tbody>\n",
       "    <tr>\n",
       "      <td>0</td>\n",
       "      <td>2320315</td>\n",
       "      <td>41.714168</td>\n",
       "      <td>-87.655291</td>\n",
       "      <td>POINT (41.7141680989703 -87.65529116028439)</td>\n",
       "    </tr>\n",
       "    <tr>\n",
       "      <td>1</td>\n",
       "      <td>2320342</td>\n",
       "      <td>41.913588</td>\n",
       "      <td>-87.682203</td>\n",
       "      <td>POINT (41.9135877900482 -87.6822028354253)</td>\n",
       "    </tr>\n",
       "    <tr>\n",
       "      <td>2</td>\n",
       "      <td>2320328</td>\n",
       "      <td>41.808025</td>\n",
       "      <td>-87.720037</td>\n",
       "      <td>POINT (41.80802515275297 -87.72003743037237)</td>\n",
       "    </tr>\n",
       "    <tr>\n",
       "      <td>3</td>\n",
       "      <td>2320319</td>\n",
       "      <td>41.808025</td>\n",
       "      <td>-87.720037</td>\n",
       "      <td>POINT (41.80802515275297 -87.72003743037237)</td>\n",
       "    </tr>\n",
       "    <tr>\n",
       "      <td>4</td>\n",
       "      <td>2320228</td>\n",
       "      <td>41.807662</td>\n",
       "      <td>-87.731480</td>\n",
       "      <td>POINT (41.8076619936005 -87.7314802731113)</td>\n",
       "    </tr>\n",
       "  </tbody>\n",
       "</table>\n",
       "</div>"
      ],
      "text/plain": [
       "   Inspection ID   Latitude  Longitude  \\\n",
       "0        2320315  41.714168 -87.655291   \n",
       "1        2320342  41.913588 -87.682203   \n",
       "2        2320328  41.808025 -87.720037   \n",
       "3        2320319  41.808025 -87.720037   \n",
       "4        2320228  41.807662 -87.731480   \n",
       "\n",
       "                                       geometry  \n",
       "0   POINT (41.7141680989703 -87.65529116028439)  \n",
       "1    POINT (41.9135877900482 -87.6822028354253)  \n",
       "2  POINT (41.80802515275297 -87.72003743037237)  \n",
       "3  POINT (41.80802515275297 -87.72003743037237)  \n",
       "4    POINT (41.8076619936005 -87.7314802731113)  "
      ]
     },
     "execution_count": 71,
     "metadata": {},
     "output_type": "execute_result"
    }
   ],
   "source": [
    "## create a geodataframe with the location info of inspections\n",
    "geometry = [Point(x, y) for x, y in zip(inspections_2019.Longitude, inspections_2019.Latitude)]\n",
    "crs = {'init': 'epsg:4326'}\n",
    "inspections_to_join = gpd.GeoDataFrame(inspections_2019[[\"Inspection ID\", \"Latitude\", \"Longitude\"]], \n",
    "                                       crs=crs,\n",
    "                                       geometry=geometry)\n",
    "inspections_to_join.head()"
   ]
  },
  {
   "cell_type": "code",
   "execution_count": 72,
   "metadata": {},
   "outputs": [
    {
     "data": {
      "text/html": [
       "<div>\n",
       "<style scoped>\n",
       "    .dataframe tbody tr th:only-of-type {\n",
       "        vertical-align: middle;\n",
       "    }\n",
       "\n",
       "    .dataframe tbody tr th {\n",
       "        vertical-align: top;\n",
       "    }\n",
       "\n",
       "    .dataframe thead th {\n",
       "        text-align: right;\n",
       "    }\n",
       "</style>\n",
       "<table border=\"1\" class=\"dataframe\">\n",
       "  <thead>\n",
       "    <tr style=\"text-align: right;\">\n",
       "      <th></th>\n",
       "      <th>Inspection ID</th>\n",
       "      <th>DBA Name</th>\n",
       "      <th>AKA Name</th>\n",
       "      <th>License #</th>\n",
       "      <th>Facility Type</th>\n",
       "      <th>Risk</th>\n",
       "      <th>Address</th>\n",
       "      <th>City</th>\n",
       "      <th>State</th>\n",
       "      <th>Zip</th>\n",
       "      <th>...</th>\n",
       "      <th>Wards</th>\n",
       "      <th>date</th>\n",
       "      <th>Latitude_y</th>\n",
       "      <th>Longitude_y</th>\n",
       "      <th>geometry</th>\n",
       "      <th>index_right</th>\n",
       "      <th>pri_neigh</th>\n",
       "      <th>sec_neigh</th>\n",
       "      <th>shape_area</th>\n",
       "      <th>shape_len</th>\n",
       "    </tr>\n",
       "  </thead>\n",
       "  <tbody>\n",
       "    <tr>\n",
       "      <td>0</td>\n",
       "      <td>2320315</td>\n",
       "      <td>SERENDIPITY CHILDCARE</td>\n",
       "      <td>SERENDIPITY CHILDCARE</td>\n",
       "      <td>2216009.0</td>\n",
       "      <td>Daycare Above and Under 2 Years</td>\n",
       "      <td>Risk 1 (High)</td>\n",
       "      <td>1300 W 99TH ST</td>\n",
       "      <td>CHICAGO</td>\n",
       "      <td>IL</td>\n",
       "      <td>60643.0</td>\n",
       "      <td>...</td>\n",
       "      <td>NaN</td>\n",
       "      <td>2019-10-23</td>\n",
       "      <td>41.714168</td>\n",
       "      <td>-87.655291</td>\n",
       "      <td>POINT (41.7141680989703 -87.65529116028439)</td>\n",
       "      <td>NaN</td>\n",
       "      <td>NaN</td>\n",
       "      <td>NaN</td>\n",
       "      <td>NaN</td>\n",
       "      <td>NaN</td>\n",
       "    </tr>\n",
       "    <tr>\n",
       "      <td>1</td>\n",
       "      <td>2320342</td>\n",
       "      <td>YOLK TEST KITCHEN</td>\n",
       "      <td>YOLK TEST KITCHEN</td>\n",
       "      <td>2589655.0</td>\n",
       "      <td>Restaurant</td>\n",
       "      <td>Risk 1 (High)</td>\n",
       "      <td>1767 N MILWAUKEE AVE</td>\n",
       "      <td>CHICAGO</td>\n",
       "      <td>IL</td>\n",
       "      <td>60647.0</td>\n",
       "      <td>...</td>\n",
       "      <td>NaN</td>\n",
       "      <td>2019-10-23</td>\n",
       "      <td>41.913588</td>\n",
       "      <td>-87.682203</td>\n",
       "      <td>POINT (41.9135877900482 -87.6822028354253)</td>\n",
       "      <td>NaN</td>\n",
       "      <td>NaN</td>\n",
       "      <td>NaN</td>\n",
       "      <td>NaN</td>\n",
       "      <td>NaN</td>\n",
       "    </tr>\n",
       "    <tr>\n",
       "      <td>2</td>\n",
       "      <td>2320328</td>\n",
       "      <td>LAS ASADAS MEXICAN GRILL</td>\n",
       "      <td>LAS ASADAS MEXICAN GRILL</td>\n",
       "      <td>2583309.0</td>\n",
       "      <td>Restaurant</td>\n",
       "      <td>Risk 1 (High)</td>\n",
       "      <td>3834 W 47TH ST</td>\n",
       "      <td>CHICAGO</td>\n",
       "      <td>IL</td>\n",
       "      <td>60632.0</td>\n",
       "      <td>...</td>\n",
       "      <td>NaN</td>\n",
       "      <td>2019-10-23</td>\n",
       "      <td>41.808025</td>\n",
       "      <td>-87.720037</td>\n",
       "      <td>POINT (41.80802515275297 -87.72003743037237)</td>\n",
       "      <td>NaN</td>\n",
       "      <td>NaN</td>\n",
       "      <td>NaN</td>\n",
       "      <td>NaN</td>\n",
       "      <td>NaN</td>\n",
       "    </tr>\n",
       "    <tr>\n",
       "      <td>3</td>\n",
       "      <td>2320319</td>\n",
       "      <td>LA PALAPITA</td>\n",
       "      <td>LA PALAPITA</td>\n",
       "      <td>2694702.0</td>\n",
       "      <td>Restaurant</td>\n",
       "      <td>Risk 1 (High)</td>\n",
       "      <td>3834 W 47TH ST</td>\n",
       "      <td>CHICAGO</td>\n",
       "      <td>IL</td>\n",
       "      <td>60632.0</td>\n",
       "      <td>...</td>\n",
       "      <td>NaN</td>\n",
       "      <td>2019-10-23</td>\n",
       "      <td>41.808025</td>\n",
       "      <td>-87.720037</td>\n",
       "      <td>POINT (41.80802515275297 -87.72003743037237)</td>\n",
       "      <td>NaN</td>\n",
       "      <td>NaN</td>\n",
       "      <td>NaN</td>\n",
       "      <td>NaN</td>\n",
       "      <td>NaN</td>\n",
       "    </tr>\n",
       "    <tr>\n",
       "      <td>4</td>\n",
       "      <td>2320228</td>\n",
       "      <td>47TH ST CANTINA</td>\n",
       "      <td>47TH ST CANTINA</td>\n",
       "      <td>2678250.0</td>\n",
       "      <td>Liquor</td>\n",
       "      <td>Risk 3 (Low)</td>\n",
       "      <td>4311 W 47TH ST</td>\n",
       "      <td>CHICAGO</td>\n",
       "      <td>IL</td>\n",
       "      <td>60632.0</td>\n",
       "      <td>...</td>\n",
       "      <td>NaN</td>\n",
       "      <td>2019-10-22</td>\n",
       "      <td>41.807662</td>\n",
       "      <td>-87.731480</td>\n",
       "      <td>POINT (41.8076619936005 -87.7314802731113)</td>\n",
       "      <td>NaN</td>\n",
       "      <td>NaN</td>\n",
       "      <td>NaN</td>\n",
       "      <td>NaN</td>\n",
       "      <td>NaN</td>\n",
       "    </tr>\n",
       "  </tbody>\n",
       "</table>\n",
       "<p>5 rows × 31 columns</p>\n",
       "</div>"
      ],
      "text/plain": [
       "   Inspection ID                  DBA Name                  AKA Name  \\\n",
       "0        2320315     SERENDIPITY CHILDCARE     SERENDIPITY CHILDCARE   \n",
       "1        2320342         YOLK TEST KITCHEN         YOLK TEST KITCHEN   \n",
       "2        2320328  LAS ASADAS MEXICAN GRILL  LAS ASADAS MEXICAN GRILL   \n",
       "3        2320319               LA PALAPITA               LA PALAPITA   \n",
       "4        2320228           47TH ST CANTINA           47TH ST CANTINA   \n",
       "\n",
       "   License #                    Facility Type           Risk  \\\n",
       "0  2216009.0  Daycare Above and Under 2 Years  Risk 1 (High)   \n",
       "1  2589655.0                       Restaurant  Risk 1 (High)   \n",
       "2  2583309.0                       Restaurant  Risk 1 (High)   \n",
       "3  2694702.0                       Restaurant  Risk 1 (High)   \n",
       "4  2678250.0                           Liquor   Risk 3 (Low)   \n",
       "\n",
       "                 Address     City State      Zip  ... Wards       date  \\\n",
       "0        1300 W 99TH ST   CHICAGO    IL  60643.0  ...   NaN 2019-10-23   \n",
       "1  1767 N MILWAUKEE AVE   CHICAGO    IL  60647.0  ...   NaN 2019-10-23   \n",
       "2        3834 W 47TH ST   CHICAGO    IL  60632.0  ...   NaN 2019-10-23   \n",
       "3        3834 W 47TH ST   CHICAGO    IL  60632.0  ...   NaN 2019-10-23   \n",
       "4        4311 W 47TH ST   CHICAGO    IL  60632.0  ...   NaN 2019-10-22   \n",
       "\n",
       "  Latitude_y Longitude_y                                      geometry  \\\n",
       "0  41.714168  -87.655291   POINT (41.7141680989703 -87.65529116028439)   \n",
       "1  41.913588  -87.682203    POINT (41.9135877900482 -87.6822028354253)   \n",
       "2  41.808025  -87.720037  POINT (41.80802515275297 -87.72003743037237)   \n",
       "3  41.808025  -87.720037  POINT (41.80802515275297 -87.72003743037237)   \n",
       "4  41.807662  -87.731480    POINT (41.8076619936005 -87.7314802731113)   \n",
       "\n",
       "   index_right pri_neigh  sec_neigh  shape_area  shape_len  \n",
       "0          NaN       NaN        NaN         NaN        NaN  \n",
       "1          NaN       NaN        NaN         NaN        NaN  \n",
       "2          NaN       NaN        NaN         NaN        NaN  \n",
       "3          NaN       NaN        NaN         NaN        NaN  \n",
       "4          NaN       NaN        NaN         NaN        NaN  \n",
       "\n",
       "[5 rows x 31 columns]"
      ]
     },
     "execution_count": 72,
     "metadata": {},
     "output_type": "execute_result"
    }
   ],
   "source": [
    "## merging locations and polygons to find the neighbourhood\n",
    "\n",
    "points_to_neigh = sjoin(inspections_to_join, geo_df, how='left')\n",
    "inspections_2019 = inspections_2019.merge(points_to_neigh, left_on=\"Inspection ID\", right_on=\"Inspection ID\")\n",
    "inspections_2019.head()"
   ]
  },
  {
   "cell_type": "code",
   "execution_count": 74,
   "metadata": {},
   "outputs": [
    {
     "data": {
      "text/plain": [
       "Series([], Name: Inspection ID, dtype: int64)"
      ]
     },
     "execution_count": 74,
     "metadata": {},
     "output_type": "execute_result"
    }
   ],
   "source": [
    "inspection_per_neigh = inspections_2019.groupby(\"pri_neigh\").count()[\"Inspection ID\"]\n",
    "inspection_per_neigh.head()"
   ]
  },
  {
   "cell_type": "code",
   "execution_count": 48,
   "metadata": {},
   "outputs": [
    {
     "data": {
      "text/plain": [
       "<folium.features.Choropleth at 0x1a1ddd50bc8>"
      ]
     },
     "execution_count": 48,
     "metadata": {},
     "output_type": "execute_result"
    }
   ],
   "source": [
    "m = folium.Map(location=[chicago_location.latitude, chicago_location.longitude], tiles='Mapbox Bright', zoom_start=11)\n",
    "\n",
    "folium.Choropleth(\n",
    "    geo_data=geo_df,\n",
    "    name='choropleth',\n",
    "    data=inspection_per_neigh,\n",
    "    columns=[\"pri_neigh\", \"Inspection ID\"],\n",
    "    key_on='feature.properties.pri_neigh',\n",
    "    fill_color='YlGn',\n",
    "    fill_opacity=0.7,\n",
    "    line_opacity=0.2\n",
    ").add_to(m)"
   ]
  },
  {
   "cell_type": "code",
   "execution_count": 49,
   "metadata": {},
   "outputs": [
    {
     "data": {
      "text/plain": [
       "{'Burnside', 'Grant Park'}"
      ]
     },
     "execution_count": 49,
     "metadata": {},
     "output_type": "execute_result"
    }
   ],
   "source": [
    "set(geo_df[\"pri_neigh\"].unique()) - set(inspections_2019[\"pri_neigh\"].unique())\n",
    "## These are the neighborhood without inspections in 2019"
   ]
  },
  {
   "cell_type": "code",
   "execution_count": 50,
   "metadata": {},
   "outputs": [
    {
     "data": {
      "text/plain": [
       "{nan}"
      ]
     },
     "execution_count": 50,
     "metadata": {},
     "output_type": "execute_result"
    }
   ],
   "source": [
    "set(inspections_2019[\"pri_neigh\"].unique()) - set(geo_df[\"pri_neigh\"].unique())\n",
    "## There are NaN because they are outside the boundary given by the city"
   ]
  },
  {
   "cell_type": "code",
   "execution_count": 51,
   "metadata": {},
   "outputs": [],
   "source": [
    "not_in_map = inspections_2019[inspections_2019[\"pri_neigh\"].isna()]\n",
    "for idx, row in not_in_map.iterrows():\n",
    "    folium.Marker([row.Latitude_x, row.Longitude_x], popup=idx).add_to(m)"
   ]
  },
  {
   "cell_type": "code",
   "execution_count": 52,
   "metadata": {},
   "outputs": [],
   "source": [
    "m.save(\"map.html\")"
   ]
  },
  {
   "cell_type": "code",
   "execution_count": 182,
   "metadata": {},
   "outputs": [
    {
     "data": {
      "text/plain": [
       "(array([42.0085364 , 41.89224916, 41.89233781]),\n",
       " array([-87.91442844, -87.60951805, -87.60404476]))"
      ]
     },
     "execution_count": 182,
     "metadata": {},
     "output_type": "execute_result"
    }
   ],
   "source": [
    "(not_in_map.Latitude_y.unique(), not_in_map.Longitude_y.unique())"
   ]
  },
  {
   "cell_type": "markdown",
   "metadata": {},
   "source": [
    "#### If you check this map, you will see two things that look weird\n",
    "1) If we intersect the polygons provided by the government and the points of inspections, there are 3 points (and 263 inspections) that are \"not anywhere\". However the problem is because of really small erorrs in measurement, it is actually quite easy to set it by hand. Have a look at the map.\n",
    "2) The black neighbourhood actually did not have any inspections lol"
   ]
  },
  {
   "cell_type": "markdown",
   "metadata": {},
   "source": [
    "### Map with Income"
   ]
  },
  {
   "cell_type": "code",
   "execution_count": 217,
   "metadata": {},
   "outputs": [
    {
     "data": {
      "text/html": [
       "<div>\n",
       "<style scoped>\n",
       "    .dataframe tbody tr th:only-of-type {\n",
       "        vertical-align: middle;\n",
       "    }\n",
       "\n",
       "    .dataframe tbody tr th {\n",
       "        vertical-align: top;\n",
       "    }\n",
       "\n",
       "    .dataframe thead th {\n",
       "        text-align: right;\n",
       "    }\n",
       "</style>\n",
       "<table border=\"1\" class=\"dataframe\">\n",
       "  <thead>\n",
       "    <tr style=\"text-align: right;\">\n",
       "      <th></th>\n",
       "      <th>area_number</th>\n",
       "      <th>area_name</th>\n",
       "      <th>housing_crowded</th>\n",
       "      <th>household_below_poverty</th>\n",
       "      <th>unemployment_16</th>\n",
       "      <th>wo_hs_25</th>\n",
       "      <th>aged_18_64</th>\n",
       "      <th>per_capita_income</th>\n",
       "      <th>hardship_index</th>\n",
       "    </tr>\n",
       "  </thead>\n",
       "  <tbody>\n",
       "    <tr>\n",
       "      <td>0</td>\n",
       "      <td>1</td>\n",
       "      <td>Rogers Park</td>\n",
       "      <td>7.7</td>\n",
       "      <td>23.6</td>\n",
       "      <td>8.7</td>\n",
       "      <td>18.2</td>\n",
       "      <td>27.5</td>\n",
       "      <td>23939</td>\n",
       "      <td>39</td>\n",
       "    </tr>\n",
       "    <tr>\n",
       "      <td>1</td>\n",
       "      <td>2</td>\n",
       "      <td>West Ridge</td>\n",
       "      <td>7.8</td>\n",
       "      <td>17.2</td>\n",
       "      <td>8.8</td>\n",
       "      <td>20.8</td>\n",
       "      <td>38.5</td>\n",
       "      <td>23040</td>\n",
       "      <td>46</td>\n",
       "    </tr>\n",
       "    <tr>\n",
       "      <td>2</td>\n",
       "      <td>3</td>\n",
       "      <td>Uptown</td>\n",
       "      <td>3.8</td>\n",
       "      <td>24.0</td>\n",
       "      <td>8.9</td>\n",
       "      <td>11.8</td>\n",
       "      <td>22.2</td>\n",
       "      <td>35787</td>\n",
       "      <td>20</td>\n",
       "    </tr>\n",
       "    <tr>\n",
       "      <td>3</td>\n",
       "      <td>4</td>\n",
       "      <td>Lincoln Square</td>\n",
       "      <td>3.4</td>\n",
       "      <td>10.9</td>\n",
       "      <td>8.2</td>\n",
       "      <td>13.4</td>\n",
       "      <td>25.5</td>\n",
       "      <td>37524</td>\n",
       "      <td>17</td>\n",
       "    </tr>\n",
       "    <tr>\n",
       "      <td>4</td>\n",
       "      <td>5</td>\n",
       "      <td>North Center</td>\n",
       "      <td>0.3</td>\n",
       "      <td>7.5</td>\n",
       "      <td>5.2</td>\n",
       "      <td>4.5</td>\n",
       "      <td>26.2</td>\n",
       "      <td>57123</td>\n",
       "      <td>6</td>\n",
       "    </tr>\n",
       "  </tbody>\n",
       "</table>\n",
       "</div>"
      ],
      "text/plain": [
       "   area_number       area_name  housing_crowded  household_below_poverty  \\\n",
       "0            1     Rogers Park              7.7                     23.6   \n",
       "1            2      West Ridge              7.8                     17.2   \n",
       "2            3          Uptown              3.8                     24.0   \n",
       "3            4  Lincoln Square              3.4                     10.9   \n",
       "4            5    North Center              0.3                      7.5   \n",
       "\n",
       "   unemployment_16  wo_hs_25  aged_18_64  per_capita_income  hardship_index  \n",
       "0              8.7      18.2        27.5              23939              39  \n",
       "1              8.8      20.8        38.5              23040              46  \n",
       "2              8.9      11.8        22.2              35787              20  \n",
       "3              8.2      13.4        25.5              37524              17  \n",
       "4              5.2       4.5        26.2              57123               6  "
      ]
     },
     "execution_count": 217,
     "metadata": {},
     "output_type": "execute_result"
    }
   ],
   "source": [
    "eco_info = pd.read_csv(\"data/economic-info.csv\")\n",
    "eco_info.head()"
   ]
  },
  {
   "cell_type": "code",
   "execution_count": 218,
   "metadata": {},
   "outputs": [
    {
     "data": {
      "text/plain": [
       "<folium.features.Choropleth at 0x1de3489c988>"
      ]
     },
     "execution_count": 218,
     "metadata": {},
     "output_type": "execute_result"
    }
   ],
   "source": [
    "m = folium.Map(location=[chicago_location.latitude, chicago_location.longitude], zoom_start=11)\n",
    "\n",
    "folium.Choropleth(\n",
    "    geo_data=geo_df,\n",
    "    name='choropleth',\n",
    "    data=eco_info,\n",
    "    columns=[\"area_name\", \"per_capita_income\"],\n",
    "    key_on='feature.properties.pri_neigh',\n",
    "    fill_color='YlGn',\n",
    "    fill_opacity=0.7,\n",
    "    line_opacity=0.2\n",
    ").add_to(m)"
   ]
  },
  {
   "cell_type": "code",
   "execution_count": 219,
   "metadata": {},
   "outputs": [],
   "source": [
    "m.save(\"map.html\")"
   ]
  },
  {
   "cell_type": "code",
   "execution_count": 220,
   "metadata": {},
   "outputs": [
    {
     "data": {
      "text/plain": [
       "{'East Garfield Park',\n",
       " 'Forest Glen',\n",
       " 'Greater Grand Crossing',\n",
       " 'Humboldt park',\n",
       " 'McKinley Park',\n",
       " 'Montclaire',\n",
       " 'Near North Side',\n",
       " 'Near West Side',\n",
       " 'South Lawndale',\n",
       " 'Washington Height',\n",
       " 'West Englewood',\n",
       " 'West Garfield Park'}"
      ]
     },
     "execution_count": 220,
     "metadata": {},
     "output_type": "execute_result"
    }
   ],
   "source": [
    "set(eco_info[\"area_name\"]) - set(geo_df[\"pri_neigh\"].unique())"
   ]
  },
  {
   "cell_type": "code",
   "execution_count": 221,
   "metadata": {},
   "outputs": [
    {
     "data": {
      "text/plain": [
       "{'Andersonville',\n",
       " 'Boystown',\n",
       " 'Bucktown',\n",
       " 'Chinatown',\n",
       " 'East Village',\n",
       " 'Galewood',\n",
       " 'Garfield Park',\n",
       " 'Gold Coast',\n",
       " 'Grand Crossing',\n",
       " 'Grant Park',\n",
       " 'Greektown',\n",
       " 'Humboldt Park',\n",
       " 'Jackson Park',\n",
       " 'Little Italy, UIC',\n",
       " 'Little Village',\n",
       " 'Magnificent Mile',\n",
       " 'Mckinley Park',\n",
       " 'Millenium Park',\n",
       " 'Montclare',\n",
       " 'Museum Campus',\n",
       " 'Old Town',\n",
       " 'Printers Row',\n",
       " 'River North',\n",
       " 'Rush & Division',\n",
       " 'Sauganash,Forest Glen',\n",
       " 'Sheffield & DePaul',\n",
       " 'Streeterville',\n",
       " 'Ukrainian Village',\n",
       " 'United Center',\n",
       " 'Washington Heights',\n",
       " 'West Loop',\n",
       " 'Wicker Park',\n",
       " 'Wrigleyville'}"
      ]
     },
     "execution_count": 221,
     "metadata": {},
     "output_type": "execute_result"
    }
   ],
   "source": [
    "set(geo_df[\"pri_neigh\"].unique()) - set(eco_info[\"area_name\"])"
   ]
  },
  {
   "cell_type": "code",
   "execution_count": 224,
   "metadata": {},
   "outputs": [
    {
     "data": {
      "text/plain": [
       "Location(Jackson Park, Woodlawn, Chicago, Cook County, Illinois, United States of America, (41.78323175, -87.5804432439724, 0.0))"
      ]
     },
     "execution_count": 224,
     "metadata": {},
     "output_type": "execute_result"
    }
   ],
   "source": [
    "geolocator = Nominatim(user_agent=\"NMKG\")\n",
    "geolocator.geocode(\"Jackson Park Chicago\")"
   ]
  },
  {
   "cell_type": "code",
   "execution_count": 228,
   "metadata": {},
   "outputs": [
    {
     "data": {
      "text/plain": [
       "Location(North Chicago, Lake County, Illinois, USA, (42.325578, -87.8411818, 0.0))"
      ]
     },
     "execution_count": 228,
     "metadata": {},
     "output_type": "execute_result"
    }
   ],
   "source": [
    "geolocator = Nominatim(user_agent=\"NMKG\")\n",
    "geolocator.geocode(\"River North Chicago\")"
   ]
  },
  {
   "cell_type": "markdown",
   "metadata": {},
   "source": [
    "See that there are some areas that are actually in other regions but it is not necessarily a neighborhood. Gotta clean it somehow.\n",
    "\n",
    "### How I imagine working with it: we can define the neighbourhood we have in the geojson. With these neighbourhoods set, whenever we have a dataset we clean it and fix it so it fits the neighbourhoods we have. If we use another as reference, we will never be able to plot it."
   ]
  },
  {
   "cell_type": "markdown",
   "metadata": {},
   "source": [
    "### Map with Crime"
   ]
  },
  {
   "cell_type": "code",
   "execution_count": 4,
   "metadata": {},
   "outputs": [
    {
     "data": {
      "text/html": [
       "<div>\n",
       "<style scoped>\n",
       "    .dataframe tbody tr th:only-of-type {\n",
       "        vertical-align: middle;\n",
       "    }\n",
       "\n",
       "    .dataframe tbody tr th {\n",
       "        vertical-align: top;\n",
       "    }\n",
       "\n",
       "    .dataframe thead th {\n",
       "        text-align: right;\n",
       "    }\n",
       "</style>\n",
       "<table border=\"1\" class=\"dataframe\">\n",
       "  <thead>\n",
       "    <tr style=\"text-align: right;\">\n",
       "      <th></th>\n",
       "      <th>id</th>\n",
       "      <th>case number</th>\n",
       "      <th>date</th>\n",
       "      <th>block</th>\n",
       "      <th>iucr</th>\n",
       "      <th>primary type</th>\n",
       "      <th>description</th>\n",
       "      <th>location description</th>\n",
       "      <th>arrest</th>\n",
       "      <th>domestic</th>\n",
       "      <th>...</th>\n",
       "      <th>ward</th>\n",
       "      <th>community area</th>\n",
       "      <th>fbi code</th>\n",
       "      <th>x coordinate</th>\n",
       "      <th>y coordinate</th>\n",
       "      <th>year</th>\n",
       "      <th>updated on</th>\n",
       "      <th>latitude</th>\n",
       "      <th>longitude</th>\n",
       "      <th>location</th>\n",
       "    </tr>\n",
       "  </thead>\n",
       "  <tbody>\n",
       "    <tr>\n",
       "      <td>1</td>\n",
       "      <td>11863954</td>\n",
       "      <td>JC476438</td>\n",
       "      <td>2019-01-01 00:01:00</td>\n",
       "      <td>062XX W FLETCHER ST</td>\n",
       "      <td>0266</td>\n",
       "      <td>CRIM SEXUAL ASSAULT</td>\n",
       "      <td>PREDATORY</td>\n",
       "      <td>RESIDENCE</td>\n",
       "      <td>False</td>\n",
       "      <td>False</td>\n",
       "      <td>...</td>\n",
       "      <td>36.0</td>\n",
       "      <td>19.0</td>\n",
       "      <td>02</td>\n",
       "      <td>1134271.0</td>\n",
       "      <td>1920282.0</td>\n",
       "      <td>2019</td>\n",
       "      <td>10/20/2019 03:56:02 PM</td>\n",
       "      <td>41.937458</td>\n",
       "      <td>-87.781946</td>\n",
       "      <td>(41.937457995, -87.781946088)</td>\n",
       "    </tr>\n",
       "    <tr>\n",
       "      <td>2</td>\n",
       "      <td>11857593</td>\n",
       "      <td>JC468729</td>\n",
       "      <td>2019-01-01 00:01:00</td>\n",
       "      <td>011XX N KEDZIE AVE</td>\n",
       "      <td>0810</td>\n",
       "      <td>THEFT</td>\n",
       "      <td>OVER $500</td>\n",
       "      <td>OTHER</td>\n",
       "      <td>False</td>\n",
       "      <td>False</td>\n",
       "      <td>...</td>\n",
       "      <td>26.0</td>\n",
       "      <td>23.0</td>\n",
       "      <td>06</td>\n",
       "      <td>1154827.0</td>\n",
       "      <td>1907315.0</td>\n",
       "      <td>2019</td>\n",
       "      <td>10/16/2019 04:05:26 PM</td>\n",
       "      <td>41.901488</td>\n",
       "      <td>-87.706747</td>\n",
       "      <td>(41.901487821, -87.706746857)</td>\n",
       "    </tr>\n",
       "    <tr>\n",
       "      <td>3</td>\n",
       "      <td>11847094</td>\n",
       "      <td>JC456079</td>\n",
       "      <td>2019-01-01 00:01:00</td>\n",
       "      <td>081XX S HARPER AVE</td>\n",
       "      <td>1753</td>\n",
       "      <td>OFFENSE INVOLVING CHILDREN</td>\n",
       "      <td>SEX ASSLT OF CHILD BY FAM MBR</td>\n",
       "      <td>RESIDENCE</td>\n",
       "      <td>False</td>\n",
       "      <td>True</td>\n",
       "      <td>...</td>\n",
       "      <td>8.0</td>\n",
       "      <td>45.0</td>\n",
       "      <td>02</td>\n",
       "      <td>1187889.0</td>\n",
       "      <td>1851369.0</td>\n",
       "      <td>2019</td>\n",
       "      <td>10/04/2019 03:59:59 PM</td>\n",
       "      <td>41.747242</td>\n",
       "      <td>-87.587093</td>\n",
       "      <td>(41.747241844, -87.587093052)</td>\n",
       "    </tr>\n",
       "    <tr>\n",
       "      <td>4</td>\n",
       "      <td>11846507</td>\n",
       "      <td>JC455304</td>\n",
       "      <td>2019-01-01 00:01:00</td>\n",
       "      <td>012XX N MARION CT</td>\n",
       "      <td>1582</td>\n",
       "      <td>OFFENSE INVOLVING CHILDREN</td>\n",
       "      <td>CHILD PORNOGRAPHY</td>\n",
       "      <td>RESIDENCE</td>\n",
       "      <td>False</td>\n",
       "      <td>False</td>\n",
       "      <td>...</td>\n",
       "      <td>1.0</td>\n",
       "      <td>24.0</td>\n",
       "      <td>17</td>\n",
       "      <td>1163773.0</td>\n",
       "      <td>1908489.0</td>\n",
       "      <td>2019</td>\n",
       "      <td>10/04/2019 03:59:59 PM</td>\n",
       "      <td>41.904525</td>\n",
       "      <td>-87.673854</td>\n",
       "      <td>(41.90452536, -87.6738541)</td>\n",
       "    </tr>\n",
       "    <tr>\n",
       "      <td>5</td>\n",
       "      <td>11848145</td>\n",
       "      <td>JC457348</td>\n",
       "      <td>2019-01-01 00:01:00</td>\n",
       "      <td>003XX S HAMLIN BLVD</td>\n",
       "      <td>1752</td>\n",
       "      <td>OFFENSE INVOLVING CHILDREN</td>\n",
       "      <td>AGG CRIM SEX ABUSE FAM MEMBER</td>\n",
       "      <td>APARTMENT</td>\n",
       "      <td>False</td>\n",
       "      <td>True</td>\n",
       "      <td>...</td>\n",
       "      <td>28.0</td>\n",
       "      <td>26.0</td>\n",
       "      <td>17</td>\n",
       "      <td>1151093.0</td>\n",
       "      <td>1898340.0</td>\n",
       "      <td>2019</td>\n",
       "      <td>10/05/2019 04:04:25 PM</td>\n",
       "      <td>41.876934</td>\n",
       "      <td>-87.720698</td>\n",
       "      <td>(41.876933506, -87.72069769)</td>\n",
       "    </tr>\n",
       "  </tbody>\n",
       "</table>\n",
       "<p>5 rows × 22 columns</p>\n",
       "</div>"
      ],
      "text/plain": [
       "         id case number                date                block  iucr  \\\n",
       "1  11863954    JC476438 2019-01-01 00:01:00  062XX W FLETCHER ST  0266   \n",
       "2  11857593    JC468729 2019-01-01 00:01:00   011XX N KEDZIE AVE  0810   \n",
       "3  11847094    JC456079 2019-01-01 00:01:00   081XX S HARPER AVE  1753   \n",
       "4  11846507    JC455304 2019-01-01 00:01:00    012XX N MARION CT  1582   \n",
       "5  11848145    JC457348 2019-01-01 00:01:00  003XX S HAMLIN BLVD  1752   \n",
       "\n",
       "                 primary type                    description  \\\n",
       "1         CRIM SEXUAL ASSAULT                      PREDATORY   \n",
       "2                       THEFT                      OVER $500   \n",
       "3  OFFENSE INVOLVING CHILDREN  SEX ASSLT OF CHILD BY FAM MBR   \n",
       "4  OFFENSE INVOLVING CHILDREN              CHILD PORNOGRAPHY   \n",
       "5  OFFENSE INVOLVING CHILDREN  AGG CRIM SEX ABUSE FAM MEMBER   \n",
       "\n",
       "  location description  arrest  domestic  ...  ward  community area  fbi code  \\\n",
       "1            RESIDENCE   False     False  ...  36.0            19.0        02   \n",
       "2                OTHER   False     False  ...  26.0            23.0        06   \n",
       "3            RESIDENCE   False      True  ...   8.0            45.0        02   \n",
       "4            RESIDENCE   False     False  ...   1.0            24.0        17   \n",
       "5            APARTMENT   False      True  ...  28.0            26.0        17   \n",
       "\n",
       "   x coordinate y coordinate  year              updated on   latitude  \\\n",
       "1     1134271.0    1920282.0  2019  10/20/2019 03:56:02 PM  41.937458   \n",
       "2     1154827.0    1907315.0  2019  10/16/2019 04:05:26 PM  41.901488   \n",
       "3     1187889.0    1851369.0  2019  10/04/2019 03:59:59 PM  41.747242   \n",
       "4     1163773.0    1908489.0  2019  10/04/2019 03:59:59 PM  41.904525   \n",
       "5     1151093.0    1898340.0  2019  10/05/2019 04:04:25 PM  41.876934   \n",
       "\n",
       "   longitude                       location  \n",
       "1 -87.781946  (41.937457995, -87.781946088)  \n",
       "2 -87.706747  (41.901487821, -87.706746857)  \n",
       "3 -87.587093  (41.747241844, -87.587093052)  \n",
       "4 -87.673854     (41.90452536, -87.6738541)  \n",
       "5 -87.720698   (41.876933506, -87.72069769)  \n",
       "\n",
       "[5 rows x 22 columns]"
      ]
     },
     "execution_count": 4,
     "metadata": {},
     "output_type": "execute_result"
    }
   ],
   "source": [
    "crime = pd.read_csv(\"data/crime-info-2019.csv\")\n",
    "crime.columns = list(map(lambda x: x.lower(), crime.columns))\n",
    "crime[\"date\"] = pd.to_datetime(crime[\"date\"])\n",
    "crime = crime.dropna(subset=[\"location\"])\n",
    "crime.head()"
   ]
  },
  {
   "cell_type": "code",
   "execution_count": 5,
   "metadata": {},
   "outputs": [
    {
     "data": {
      "text/html": [
       "<div>\n",
       "<style scoped>\n",
       "    .dataframe tbody tr th:only-of-type {\n",
       "        vertical-align: middle;\n",
       "    }\n",
       "\n",
       "    .dataframe tbody tr th {\n",
       "        vertical-align: top;\n",
       "    }\n",
       "\n",
       "    .dataframe thead th {\n",
       "        text-align: right;\n",
       "    }\n",
       "</style>\n",
       "<table border=\"1\" class=\"dataframe\">\n",
       "  <thead>\n",
       "    <tr style=\"text-align: right;\">\n",
       "      <th></th>\n",
       "      <th>id</th>\n",
       "      <th>latitude</th>\n",
       "      <th>longitude</th>\n",
       "      <th>geometry</th>\n",
       "      <th>index_right</th>\n",
       "      <th>pri_neigh</th>\n",
       "      <th>sec_neigh</th>\n",
       "      <th>shape_area</th>\n",
       "      <th>shape_len</th>\n",
       "    </tr>\n",
       "  </thead>\n",
       "  <tbody>\n",
       "    <tr>\n",
       "      <td>1</td>\n",
       "      <td>11863954</td>\n",
       "      <td>41.937458</td>\n",
       "      <td>-87.781946</td>\n",
       "      <td>POINT (-87.781946088 41.937457995)</td>\n",
       "      <td>93.0</td>\n",
       "      <td>Belmont Cragin</td>\n",
       "      <td>BELMONT CRAGIN,HERMOSA</td>\n",
       "      <td>109099407.211</td>\n",
       "      <td>43311.706886</td>\n",
       "    </tr>\n",
       "    <tr>\n",
       "      <td>2</td>\n",
       "      <td>11857593</td>\n",
       "      <td>41.901488</td>\n",
       "      <td>-87.706747</td>\n",
       "      <td>POINT (-87.70674685700001 41.901487821)</td>\n",
       "      <td>4.0</td>\n",
       "      <td>Humboldt Park</td>\n",
       "      <td>HUMBOLDT PARK</td>\n",
       "      <td>125010425.593</td>\n",
       "      <td>46126.751351</td>\n",
       "    </tr>\n",
       "    <tr>\n",
       "      <td>3</td>\n",
       "      <td>11847094</td>\n",
       "      <td>41.747242</td>\n",
       "      <td>-87.587093</td>\n",
       "      <td>POINT (-87.58709305200001 41.747241844)</td>\n",
       "      <td>9.0</td>\n",
       "      <td>Avalon Park</td>\n",
       "      <td>AVALON PARK,CALUMET HEIGHTS</td>\n",
       "      <td>34852737.7366</td>\n",
       "      <td>27630.822534</td>\n",
       "    </tr>\n",
       "    <tr>\n",
       "      <td>4</td>\n",
       "      <td>11846507</td>\n",
       "      <td>41.904525</td>\n",
       "      <td>-87.673854</td>\n",
       "      <td>POINT (-87.6738541 41.90452536)</td>\n",
       "      <td>88.0</td>\n",
       "      <td>Wicker Park</td>\n",
       "      <td>WICKER PARK,WEST TOWN</td>\n",
       "      <td>26853193.0926</td>\n",
       "      <td>21992.660946</td>\n",
       "    </tr>\n",
       "    <tr>\n",
       "      <td>5</td>\n",
       "      <td>11848145</td>\n",
       "      <td>41.876934</td>\n",
       "      <td>-87.720698</td>\n",
       "      <td>POINT (-87.72069768999999 41.876933506)</td>\n",
       "      <td>5.0</td>\n",
       "      <td>Garfield Park</td>\n",
       "      <td>GARFIELD PARK</td>\n",
       "      <td>89976069.5947</td>\n",
       "      <td>44460.91922</td>\n",
       "    </tr>\n",
       "  </tbody>\n",
       "</table>\n",
       "</div>"
      ],
      "text/plain": [
       "         id   latitude  longitude                                 geometry  \\\n",
       "1  11863954  41.937458 -87.781946       POINT (-87.781946088 41.937457995)   \n",
       "2  11857593  41.901488 -87.706747  POINT (-87.70674685700001 41.901487821)   \n",
       "3  11847094  41.747242 -87.587093  POINT (-87.58709305200001 41.747241844)   \n",
       "4  11846507  41.904525 -87.673854          POINT (-87.6738541 41.90452536)   \n",
       "5  11848145  41.876934 -87.720698  POINT (-87.72069768999999 41.876933506)   \n",
       "\n",
       "   index_right       pri_neigh                    sec_neigh     shape_area  \\\n",
       "1         93.0  Belmont Cragin       BELMONT CRAGIN,HERMOSA  109099407.211   \n",
       "2          4.0   Humboldt Park                HUMBOLDT PARK  125010425.593   \n",
       "3          9.0     Avalon Park  AVALON PARK,CALUMET HEIGHTS  34852737.7366   \n",
       "4         88.0     Wicker Park        WICKER PARK,WEST TOWN  26853193.0926   \n",
       "5          5.0   Garfield Park                GARFIELD PARK  89976069.5947   \n",
       "\n",
       "      shape_len  \n",
       "1  43311.706886  \n",
       "2  46126.751351  \n",
       "3  27630.822534  \n",
       "4  21992.660946  \n",
       "5   44460.91922  "
      ]
     },
     "execution_count": 5,
     "metadata": {},
     "output_type": "execute_result"
    }
   ],
   "source": [
    "crime_location = crime[[\"id\", \"latitude\", \"longitude\"]]\n",
    "geometry = [Point(x, y) for x, y in zip(crime_location.longitude, crime_location.latitude)]\n",
    "crs = {'init': 'epsg:4326'}\n",
    "crime_location = gpd.GeoDataFrame(crime_location, crs=crs, geometry=geometry)\n",
    "crime_to_neigh = sjoin(crime_location, geo_df, how=\"left\")\n",
    "crime_to_neigh.head()"
   ]
  },
  {
   "cell_type": "code",
   "execution_count": 6,
   "metadata": {},
   "outputs": [
    {
     "data": {
      "text/plain": [
       "id             False\n",
       "latitude       False\n",
       "longitude      False\n",
       "geometry       False\n",
       "index_right     True\n",
       "pri_neigh       True\n",
       "sec_neigh       True\n",
       "shape_area      True\n",
       "shape_len       True\n",
       "dtype: bool"
      ]
     },
     "execution_count": 6,
     "metadata": {},
     "output_type": "execute_result"
    }
   ],
   "source": [
    "crime_to_neigh.isnull().any()"
   ]
  },
  {
   "cell_type": "code",
   "execution_count": 7,
   "metadata": {},
   "outputs": [
    {
     "data": {
      "text/plain": [
       "562"
      ]
     },
     "execution_count": 7,
     "metadata": {},
     "output_type": "execute_result"
    }
   ],
   "source": [
    "crime_wo_region = crime_to_neigh[pd.isna(crime_to_neigh.pri_neigh)]\n",
    "len(crime_wo_region)"
   ]
  },
  {
   "cell_type": "code",
   "execution_count": 8,
   "metadata": {},
   "outputs": [
    {
     "data": {
      "text/plain": [
       "206181"
      ]
     },
     "execution_count": 8,
     "metadata": {},
     "output_type": "execute_result"
    }
   ],
   "source": [
    "crime_to_region = crime_to_neigh.dropna()\n",
    "len(crime_to_region)"
   ]
  },
  {
   "cell_type": "code",
   "execution_count": 9,
   "metadata": {},
   "outputs": [
    {
     "data": {
      "text/plain": [
       "pri_neigh\n",
       "Albany Park       1770\n",
       "Andersonville      268\n",
       "Archer Heights     639\n",
       "Armour Square      438\n",
       "Ashburn           1759\n",
       "Name: id, dtype: int64"
      ]
     },
     "execution_count": 9,
     "metadata": {},
     "output_type": "execute_result"
    }
   ],
   "source": [
    "crime = crime.merge(crime_to_region, left_on=\"id\", right_on=\"id\")\n",
    "n_crimes_neigh = crime.groupby(\"pri_neigh\").count()[\"id\"]\n",
    "n_crimes_neigh.head()"
   ]
  },
  {
   "cell_type": "code",
   "execution_count": 10,
   "metadata": {},
   "outputs": [
    {
     "data": {
      "text/plain": [
       "<folium.features.Choropleth at 0x190abf5a0c8>"
      ]
     },
     "execution_count": 10,
     "metadata": {},
     "output_type": "execute_result"
    }
   ],
   "source": [
    "m = folium.Map(location=[chicago_location.latitude, chicago_location.longitude], tiles='Mapbox Bright', zoom_start=11)\n",
    "\n",
    "folium.Choropleth(\n",
    "    geo_data=geo_df,\n",
    "    name='choropleth',\n",
    "    data=n_crimes_neigh,\n",
    "    columns=[\"pri_neigh\", \"crime\"],\n",
    "    key_on='feature.properties.pri_neigh',\n",
    "    fill_color='YlGn',\n",
    "    fill_opacity=0.7,\n",
    "    line_opacity=0.2\n",
    ").add_to(m)"
   ]
  },
  {
   "cell_type": "code",
   "execution_count": 11,
   "metadata": {},
   "outputs": [],
   "source": [
    "for idx, row in crime_wo_region.iterrows():\n",
    "    folium.Marker([row.latitude, row.longitude], popup=\"id\").add_to(m)"
   ]
  },
  {
   "cell_type": "code",
   "execution_count": 12,
   "metadata": {},
   "outputs": [],
   "source": [
    "m.save(\"map.html\")"
   ]
  },
  {
   "cell_type": "markdown",
   "metadata": {},
   "source": [
    "### In this dataset, there many things in the boundary"
   ]
  },
  {
   "cell_type": "code",
   "execution_count": 13,
   "metadata": {},
   "outputs": [
    {
     "data": {
      "text/html": [
       "<div>\n",
       "<style scoped>\n",
       "    .dataframe tbody tr th:only-of-type {\n",
       "        vertical-align: middle;\n",
       "    }\n",
       "\n",
       "    .dataframe tbody tr th {\n",
       "        vertical-align: top;\n",
       "    }\n",
       "\n",
       "    .dataframe thead th {\n",
       "        text-align: right;\n",
       "    }\n",
       "</style>\n",
       "<table border=\"1\" class=\"dataframe\">\n",
       "  <thead>\n",
       "    <tr style=\"text-align: right;\">\n",
       "      <th></th>\n",
       "      <th>pri_neigh</th>\n",
       "      <th>sec_neigh</th>\n",
       "      <th>shape_area</th>\n",
       "      <th>shape_len</th>\n",
       "      <th>geometry</th>\n",
       "    </tr>\n",
       "  </thead>\n",
       "  <tbody>\n",
       "    <tr>\n",
       "      <td>0</td>\n",
       "      <td>Grand Boulevard</td>\n",
       "      <td>BRONZEVILLE</td>\n",
       "      <td>48492503.1554</td>\n",
       "      <td>28196.837157</td>\n",
       "      <td>(POLYGON ((-87.60670812560372 41.8168137713739...</td>\n",
       "    </tr>\n",
       "    <tr>\n",
       "      <td>1</td>\n",
       "      <td>Printers Row</td>\n",
       "      <td>PRINTERS ROW</td>\n",
       "      <td>2162137.97139</td>\n",
       "      <td>6864.247156</td>\n",
       "      <td>(POLYGON ((-87.62760697485348 41.8743709778537...</td>\n",
       "    </tr>\n",
       "    <tr>\n",
       "      <td>2</td>\n",
       "      <td>United Center</td>\n",
       "      <td>UNITED CENTER</td>\n",
       "      <td>32520512.7053</td>\n",
       "      <td>23101.363745</td>\n",
       "      <td>(POLYGON ((-87.66706868914602 41.8888518776954...</td>\n",
       "    </tr>\n",
       "    <tr>\n",
       "      <td>3</td>\n",
       "      <td>Sheffield &amp; DePaul</td>\n",
       "      <td>SHEFFIELD &amp; DEPAUL</td>\n",
       "      <td>10482592.2987</td>\n",
       "      <td>13227.049745</td>\n",
       "      <td>(POLYGON ((-87.65833494805533 41.9216614422918...</td>\n",
       "    </tr>\n",
       "    <tr>\n",
       "      <td>4</td>\n",
       "      <td>Humboldt Park</td>\n",
       "      <td>HUMBOLDT PARK</td>\n",
       "      <td>125010425.593</td>\n",
       "      <td>46126.751351</td>\n",
       "      <td>(POLYGON ((-87.74059567509266 41.8878231689323...</td>\n",
       "    </tr>\n",
       "  </tbody>\n",
       "</table>\n",
       "</div>"
      ],
      "text/plain": [
       "            pri_neigh           sec_neigh     shape_area     shape_len  \\\n",
       "0     Grand Boulevard         BRONZEVILLE  48492503.1554  28196.837157   \n",
       "1        Printers Row        PRINTERS ROW  2162137.97139   6864.247156   \n",
       "2       United Center       UNITED CENTER  32520512.7053  23101.363745   \n",
       "3  Sheffield & DePaul  SHEFFIELD & DEPAUL  10482592.2987  13227.049745   \n",
       "4       Humboldt Park       HUMBOLDT PARK  125010425.593  46126.751351   \n",
       "\n",
       "                                            geometry  \n",
       "0  (POLYGON ((-87.60670812560372 41.8168137713739...  \n",
       "1  (POLYGON ((-87.62760697485348 41.8743709778537...  \n",
       "2  (POLYGON ((-87.66706868914602 41.8888518776954...  \n",
       "3  (POLYGON ((-87.65833494805533 41.9216614422918...  \n",
       "4  (POLYGON ((-87.74059567509266 41.8878231689323...  "
      ]
     },
     "execution_count": 13,
     "metadata": {},
     "output_type": "execute_result"
    }
   ],
   "source": [
    "geo_df.head()"
   ]
  },
  {
   "cell_type": "code",
   "execution_count": 14,
   "metadata": {},
   "outputs": [
    {
     "data": {
      "text/html": [
       "<div>\n",
       "<style scoped>\n",
       "    .dataframe tbody tr th:only-of-type {\n",
       "        vertical-align: middle;\n",
       "    }\n",
       "\n",
       "    .dataframe tbody tr th {\n",
       "        vertical-align: top;\n",
       "    }\n",
       "\n",
       "    .dataframe thead th {\n",
       "        text-align: right;\n",
       "    }\n",
       "</style>\n",
       "<table border=\"1\" class=\"dataframe\">\n",
       "  <thead>\n",
       "    <tr style=\"text-align: right;\">\n",
       "      <th></th>\n",
       "      <th>id</th>\n",
       "      <th>latitude</th>\n",
       "      <th>longitude</th>\n",
       "      <th>geometry</th>\n",
       "      <th>index_right</th>\n",
       "      <th>pri_neigh</th>\n",
       "      <th>sec_neigh</th>\n",
       "      <th>shape_area</th>\n",
       "      <th>shape_len</th>\n",
       "    </tr>\n",
       "  </thead>\n",
       "  <tbody>\n",
       "    <tr>\n",
       "      <td>344</td>\n",
       "      <td>11554021</td>\n",
       "      <td>42.019399</td>\n",
       "      <td>-87.675049</td>\n",
       "      <td>POINT (-87.675049485 42.01939923699999)</td>\n",
       "      <td>NaN</td>\n",
       "      <td>NaN</td>\n",
       "      <td>NaN</td>\n",
       "      <td>NaN</td>\n",
       "      <td>NaN</td>\n",
       "    </tr>\n",
       "    <tr>\n",
       "      <td>631</td>\n",
       "      <td>11553241</td>\n",
       "      <td>41.703805</td>\n",
       "      <td>-87.720821</td>\n",
       "      <td>POINT (-87.72082053700001 41.703805075)</td>\n",
       "      <td>NaN</td>\n",
       "      <td>NaN</td>\n",
       "      <td>NaN</td>\n",
       "      <td>NaN</td>\n",
       "      <td>NaN</td>\n",
       "    </tr>\n",
       "    <tr>\n",
       "      <td>996</td>\n",
       "      <td>11553871</td>\n",
       "      <td>42.019399</td>\n",
       "      <td>-87.675049</td>\n",
       "      <td>POINT (-87.675049485 42.01939923699999)</td>\n",
       "      <td>NaN</td>\n",
       "      <td>NaN</td>\n",
       "      <td>NaN</td>\n",
       "      <td>NaN</td>\n",
       "      <td>NaN</td>\n",
       "    </tr>\n",
       "    <tr>\n",
       "      <td>2009</td>\n",
       "      <td>11555751</td>\n",
       "      <td>41.865519</td>\n",
       "      <td>-87.769873</td>\n",
       "      <td>POINT (-87.769873088 41.865519477)</td>\n",
       "      <td>NaN</td>\n",
       "      <td>NaN</td>\n",
       "      <td>NaN</td>\n",
       "      <td>NaN</td>\n",
       "      <td>NaN</td>\n",
       "    </tr>\n",
       "    <tr>\n",
       "      <td>2182</td>\n",
       "      <td>11556182</td>\n",
       "      <td>41.803033</td>\n",
       "      <td>-87.752816</td>\n",
       "      <td>POINT (-87.752815958 41.803032525)</td>\n",
       "      <td>NaN</td>\n",
       "      <td>NaN</td>\n",
       "      <td>NaN</td>\n",
       "      <td>NaN</td>\n",
       "      <td>NaN</td>\n",
       "    </tr>\n",
       "  </tbody>\n",
       "</table>\n",
       "</div>"
      ],
      "text/plain": [
       "            id   latitude  longitude                                 geometry  \\\n",
       "344   11554021  42.019399 -87.675049  POINT (-87.675049485 42.01939923699999)   \n",
       "631   11553241  41.703805 -87.720821  POINT (-87.72082053700001 41.703805075)   \n",
       "996   11553871  42.019399 -87.675049  POINT (-87.675049485 42.01939923699999)   \n",
       "2009  11555751  41.865519 -87.769873       POINT (-87.769873088 41.865519477)   \n",
       "2182  11556182  41.803033 -87.752816       POINT (-87.752815958 41.803032525)   \n",
       "\n",
       "      index_right pri_neigh sec_neigh shape_area shape_len  \n",
       "344           NaN       NaN       NaN        NaN       NaN  \n",
       "631           NaN       NaN       NaN        NaN       NaN  \n",
       "996           NaN       NaN       NaN        NaN       NaN  \n",
       "2009          NaN       NaN       NaN        NaN       NaN  \n",
       "2182          NaN       NaN       NaN        NaN       NaN  "
      ]
     },
     "execution_count": 14,
     "metadata": {},
     "output_type": "execute_result"
    }
   ],
   "source": [
    "crime_wo_region.head()"
   ]
  },
  {
   "cell_type": "code",
   "execution_count": 33,
   "metadata": {},
   "outputs": [
    {
     "data": {
      "text/plain": [
       "48"
      ]
     },
     "execution_count": 33,
     "metadata": {},
     "output_type": "execute_result"
    }
   ],
   "source": [
    "geo_df.geometry.distance(crime_wo_region.iloc[0].geometry).idxmin()"
   ]
  },
  {
   "cell_type": "markdown",
   "metadata": {},
   "source": [
    "### We can get the nearest neighbourhood as follows"
   ]
  },
  {
   "cell_type": "code",
   "execution_count": 48,
   "metadata": {},
   "outputs": [
    {
     "data": {
      "text/plain": [
       "344         Rogers Park\n",
       "631     Mount Greenwood\n",
       "996         Rogers Park\n",
       "2009             Austin\n",
       "2182     Garfield Ridge\n",
       "Name: geometry, dtype: object"
      ]
     },
     "execution_count": 48,
     "metadata": {},
     "output_type": "execute_result"
    }
   ],
   "source": [
    "def get_nearest_neigh(point, geo_df):\n",
    "    idx = geo_df.geometry.distance(point).idxmin()\n",
    "    return geo_df.loc[idx, 'pri_neigh']\n",
    "\n",
    "na_regions = crime_wo_region.copy().geometry.apply(get_nearest_neigh, geo_df=geo_df)\n",
    "na_regions.head()"
   ]
  },
  {
   "cell_type": "code",
   "execution_count": 51,
   "metadata": {},
   "outputs": [
    {
     "name": "stderr",
     "output_type": "stream",
     "text": [
      "C:\\Users\\Gabriel\\Miniconda3\\envs\\ada\\lib\\site-packages\\ipykernel_launcher.py:1: SettingWithCopyWarning: \n",
      "A value is trying to be set on a copy of a slice from a DataFrame.\n",
      "Try using .loc[row_indexer,col_indexer] = value instead\n",
      "\n",
      "See the caveats in the documentation: http://pandas.pydata.org/pandas-docs/stable/user_guide/indexing.html#returning-a-view-versus-a-copy\n",
      "  \"\"\"Entry point for launching an IPython kernel.\n"
     ]
    },
    {
     "data": {
      "text/html": [
       "<div>\n",
       "<style scoped>\n",
       "    .dataframe tbody tr th:only-of-type {\n",
       "        vertical-align: middle;\n",
       "    }\n",
       "\n",
       "    .dataframe tbody tr th {\n",
       "        vertical-align: top;\n",
       "    }\n",
       "\n",
       "    .dataframe thead th {\n",
       "        text-align: right;\n",
       "    }\n",
       "</style>\n",
       "<table border=\"1\" class=\"dataframe\">\n",
       "  <thead>\n",
       "    <tr style=\"text-align: right;\">\n",
       "      <th></th>\n",
       "      <th>id</th>\n",
       "      <th>latitude</th>\n",
       "      <th>longitude</th>\n",
       "      <th>geometry</th>\n",
       "      <th>index_right</th>\n",
       "      <th>pri_neigh</th>\n",
       "      <th>sec_neigh</th>\n",
       "      <th>shape_area</th>\n",
       "      <th>shape_len</th>\n",
       "      <th>location</th>\n",
       "    </tr>\n",
       "  </thead>\n",
       "  <tbody>\n",
       "    <tr>\n",
       "      <td>344</td>\n",
       "      <td>11554021</td>\n",
       "      <td>42.019399</td>\n",
       "      <td>-87.675049</td>\n",
       "      <td>POINT (-87.675049485 42.01939923699999)</td>\n",
       "      <td>NaN</td>\n",
       "      <td>Rogers Park</td>\n",
       "      <td>NaN</td>\n",
       "      <td>NaN</td>\n",
       "      <td>NaN</td>\n",
       "      <td>Rogers Park</td>\n",
       "    </tr>\n",
       "    <tr>\n",
       "      <td>631</td>\n",
       "      <td>11553241</td>\n",
       "      <td>41.703805</td>\n",
       "      <td>-87.720821</td>\n",
       "      <td>POINT (-87.72082053700001 41.703805075)</td>\n",
       "      <td>NaN</td>\n",
       "      <td>Mount Greenwood</td>\n",
       "      <td>NaN</td>\n",
       "      <td>NaN</td>\n",
       "      <td>NaN</td>\n",
       "      <td>Mount Greenwood</td>\n",
       "    </tr>\n",
       "    <tr>\n",
       "      <td>996</td>\n",
       "      <td>11553871</td>\n",
       "      <td>42.019399</td>\n",
       "      <td>-87.675049</td>\n",
       "      <td>POINT (-87.675049485 42.01939923699999)</td>\n",
       "      <td>NaN</td>\n",
       "      <td>Rogers Park</td>\n",
       "      <td>NaN</td>\n",
       "      <td>NaN</td>\n",
       "      <td>NaN</td>\n",
       "      <td>Rogers Park</td>\n",
       "    </tr>\n",
       "    <tr>\n",
       "      <td>2009</td>\n",
       "      <td>11555751</td>\n",
       "      <td>41.865519</td>\n",
       "      <td>-87.769873</td>\n",
       "      <td>POINT (-87.769873088 41.865519477)</td>\n",
       "      <td>NaN</td>\n",
       "      <td>Austin</td>\n",
       "      <td>NaN</td>\n",
       "      <td>NaN</td>\n",
       "      <td>NaN</td>\n",
       "      <td>Austin</td>\n",
       "    </tr>\n",
       "    <tr>\n",
       "      <td>2182</td>\n",
       "      <td>11556182</td>\n",
       "      <td>41.803033</td>\n",
       "      <td>-87.752816</td>\n",
       "      <td>POINT (-87.752815958 41.803032525)</td>\n",
       "      <td>NaN</td>\n",
       "      <td>Garfield Ridge</td>\n",
       "      <td>NaN</td>\n",
       "      <td>NaN</td>\n",
       "      <td>NaN</td>\n",
       "      <td>Garfield Ridge</td>\n",
       "    </tr>\n",
       "  </tbody>\n",
       "</table>\n",
       "</div>"
      ],
      "text/plain": [
       "            id   latitude  longitude                                 geometry  \\\n",
       "344   11554021  42.019399 -87.675049  POINT (-87.675049485 42.01939923699999)   \n",
       "631   11553241  41.703805 -87.720821  POINT (-87.72082053700001 41.703805075)   \n",
       "996   11553871  42.019399 -87.675049  POINT (-87.675049485 42.01939923699999)   \n",
       "2009  11555751  41.865519 -87.769873       POINT (-87.769873088 41.865519477)   \n",
       "2182  11556182  41.803033 -87.752816       POINT (-87.752815958 41.803032525)   \n",
       "\n",
       "      index_right        pri_neigh sec_neigh shape_area shape_len  \\\n",
       "344           NaN      Rogers Park       NaN        NaN       NaN   \n",
       "631           NaN  Mount Greenwood       NaN        NaN       NaN   \n",
       "996           NaN      Rogers Park       NaN        NaN       NaN   \n",
       "2009          NaN           Austin       NaN        NaN       NaN   \n",
       "2182          NaN   Garfield Ridge       NaN        NaN       NaN   \n",
       "\n",
       "             location  \n",
       "344       Rogers Park  \n",
       "631   Mount Greenwood  \n",
       "996       Rogers Park  \n",
       "2009           Austin  \n",
       "2182   Garfield Ridge  "
      ]
     },
     "execution_count": 51,
     "metadata": {},
     "output_type": "execute_result"
    }
   ],
   "source": [
    "crime_wo_region[\"location\"] = na_regions\n",
    "crime_wo_region.head()"
   ]
  },
  {
   "cell_type": "code",
   "execution_count": 52,
   "metadata": {},
   "outputs": [
    {
     "data": {
      "text/plain": [
       "location\n",
       "Ashburn     54\n",
       "Austin      91\n",
       "Beverly     23\n",
       "Clearing    16\n",
       "Dunning     19\n",
       "Name: id, dtype: int64"
      ]
     },
     "execution_count": 52,
     "metadata": {},
     "output_type": "execute_result"
    }
   ],
   "source": [
    "n_crimes_na_neigh = crime_wo_region.groupby(\"location\").count()[\"id\"]\n",
    "n_crimes_na_neigh.head()"
   ]
  },
  {
   "cell_type": "code",
   "execution_count": 57,
   "metadata": {},
   "outputs": [],
   "source": [
    "n_crimes_total = n_crimes_na_neigh.add(n_crimes_neigh, fill_value=0)"
   ]
  },
  {
   "cell_type": "code",
   "execution_count": 58,
   "metadata": {},
   "outputs": [
    {
     "data": {
      "text/plain": [
       "<folium.features.Choropleth at 0x190abe79708>"
      ]
     },
     "execution_count": 58,
     "metadata": {},
     "output_type": "execute_result"
    }
   ],
   "source": [
    "m = folium.Map(location=[chicago_location.latitude, chicago_location.longitude], tiles='Mapbox Bright', zoom_start=11)\n",
    "\n",
    "folium.Choropleth(\n",
    "    geo_data=geo_df,\n",
    "    name='choropleth',\n",
    "    data=n_crimes_total,\n",
    "    columns=[\"pri_neigh\", \"id\"],\n",
    "    key_on='feature.properties.pri_neigh',\n",
    "    fill_color='YlGn',\n",
    "    fill_opacity=0.7,\n",
    "    line_opacity=0.2\n",
    ").add_to(m)"
   ]
  },
  {
   "cell_type": "code",
   "execution_count": 59,
   "metadata": {},
   "outputs": [],
   "source": [
    "m.save(\"map.html\")"
   ]
  },
  {
   "cell_type": "markdown",
   "metadata": {},
   "source": []
  }
 ],
 "metadata": {
  "kernelspec": {
   "display_name": "Python 3",
   "language": "python",
   "name": "python3"
  },
  "language_info": {
   "codemirror_mode": {
    "name": "ipython",
    "version": 3
   },
   "file_extension": ".py",
   "mimetype": "text/x-python",
   "name": "python",
   "nbconvert_exporter": "python",
   "pygments_lexer": "ipython3",
   "version": "3.7.4"
  }
 },
 "nbformat": 4,
 "nbformat_minor": 2
}
