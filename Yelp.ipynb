{
 "cells": [
  {
   "cell_type": "code",
   "execution_count": 44,
   "metadata": {},
   "outputs": [],
   "source": [
    "import requests\n",
    "import json\n",
    "import pandas as pd\n",
    "import geopandas as gpd\n",
    "from geopandas.tools import sjoin\n",
    "from geopy.geocoders import Nominatim\n",
    "from shapely.geometry import Point, Polygon"
   ]
  },
  {
   "cell_type": "code",
   "execution_count": 15,
   "metadata": {},
   "outputs": [],
   "source": [
    "CLIENT_ID = \"TLIYr5sSlL7AGheLZ0ruA\"\n",
    "API_KEY = \"UnQvi6WM4kG4wodZgTsR4GSdF8Bva1U3faS1dp0DzLcBAHujLyX2_5puEBrhtE4xXKxZpJG2iBb8s4ulucSjMTEgD-TmLz_wkLLKr38SqPiT0-15ouO35RjaB7jPXXYx\"\n",
    "\n",
    "headers = {\"Authorization\": \"Bearer {}\".format(API_KEY)}"
   ]
  },
  {
   "cell_type": "code",
   "execution_count": 23,
   "metadata": {},
   "outputs": [],
   "source": [
    "url='https://api.yelp.com/v3/businesses/search'"
   ]
  },
  {
   "cell_type": "code",
   "execution_count": 25,
   "metadata": {},
   "outputs": [],
   "source": [
    "restaurants = []\n",
    "limit = 50\n",
    "\n",
    "for offset in range(0, 1000, limit):\n",
    "    req=requests.get(url, params=params, headers=headers)\n",
    "    params = {'location': 'Chicago', \"limit\": limit, \"offset\": offset}\n",
    "    if req.status_code == 200:\n",
    "        restaurants += json.loads(req.text)[\"businesses\"]\n",
    "    else:\n",
    "        print(\"Error\")"
   ]
  },
  {
   "cell_type": "code",
   "execution_count": 54,
   "metadata": {},
   "outputs": [
    {
     "data": {
      "text/html": [
       "<div>\n",
       "<style scoped>\n",
       "    .dataframe tbody tr th:only-of-type {\n",
       "        vertical-align: middle;\n",
       "    }\n",
       "\n",
       "    .dataframe tbody tr th {\n",
       "        vertical-align: top;\n",
       "    }\n",
       "\n",
       "    .dataframe thead th {\n",
       "        text-align: right;\n",
       "    }\n",
       "</style>\n",
       "<table border=\"1\" class=\"dataframe\">\n",
       "  <thead>\n",
       "    <tr style=\"text-align: right;\">\n",
       "      <th></th>\n",
       "      <th>id</th>\n",
       "      <th>alias</th>\n",
       "      <th>name</th>\n",
       "      <th>image_url</th>\n",
       "      <th>is_closed</th>\n",
       "      <th>url</th>\n",
       "      <th>review_count</th>\n",
       "      <th>categories</th>\n",
       "      <th>rating</th>\n",
       "      <th>coordinates</th>\n",
       "      <th>transactions</th>\n",
       "      <th>price</th>\n",
       "      <th>location</th>\n",
       "      <th>phone</th>\n",
       "      <th>display_phone</th>\n",
       "      <th>distance</th>\n",
       "    </tr>\n",
       "  </thead>\n",
       "  <tbody>\n",
       "    <tr>\n",
       "      <td>0</td>\n",
       "      <td>qjnpkS8yZO8xcyEIy5OU9A</td>\n",
       "      <td>girl-and-the-goat-chicago</td>\n",
       "      <td>Girl &amp; the Goat</td>\n",
       "      <td>https://s3-media1.fl.yelpcdn.com/bphoto/ya6gjD...</td>\n",
       "      <td>False</td>\n",
       "      <td>https://www.yelp.com/biz/girl-and-the-goat-chi...</td>\n",
       "      <td>8475</td>\n",
       "      <td>[{'alias': 'newamerican', 'title': 'American (...</td>\n",
       "      <td>4.5</td>\n",
       "      <td>{'latitude': 41.884176, 'longitude': -87.64794...</td>\n",
       "      <td>[]</td>\n",
       "      <td>$$$</td>\n",
       "      <td>{'address1': '809 W Randolph St', 'address2': ...</td>\n",
       "      <td>+13124926262</td>\n",
       "      <td>(312) 492-6262</td>\n",
       "      <td>3396.525043</td>\n",
       "    </tr>\n",
       "    <tr>\n",
       "      <td>1</td>\n",
       "      <td>cKZNbMvoqJaUe7n6lf6i7w</td>\n",
       "      <td>wildberry-pancakes-and-cafe-chicago-2</td>\n",
       "      <td>Wildberry Pancakes and Cafe</td>\n",
       "      <td>https://s3-media3.fl.yelpcdn.com/bphoto/or0SLp...</td>\n",
       "      <td>False</td>\n",
       "      <td>https://www.yelp.com/biz/wildberry-pancakes-an...</td>\n",
       "      <td>7099</td>\n",
       "      <td>[{'alias': 'pancakes', 'title': 'Pancakes'}, {...</td>\n",
       "      <td>4.5</td>\n",
       "      <td>{'latitude': 41.884668, 'longitude': -87.62288}</td>\n",
       "      <td>[pickup]</td>\n",
       "      <td>$$</td>\n",
       "      <td>{'address1': '130 E Randolph St', 'address2': ...</td>\n",
       "      <td>+13129389777</td>\n",
       "      <td>(312) 938-9777</td>\n",
       "      <td>5082.221755</td>\n",
       "    </tr>\n",
       "    <tr>\n",
       "      <td>2</td>\n",
       "      <td>xoi7Cw7FoknAx5p880RtWQ</td>\n",
       "      <td>au-cheval-chicago</td>\n",
       "      <td>Au Cheval</td>\n",
       "      <td>https://s3-media4.fl.yelpcdn.com/bphoto/a0yhvS...</td>\n",
       "      <td>False</td>\n",
       "      <td>https://www.yelp.com/biz/au-cheval-chicago?adj...</td>\n",
       "      <td>6860</td>\n",
       "      <td>[{'alias': 'bars', 'title': 'Bars'}, {'alias':...</td>\n",
       "      <td>4.5</td>\n",
       "      <td>{'latitude': 41.88466, 'longitude': -87.647668}</td>\n",
       "      <td>[]</td>\n",
       "      <td>$$</td>\n",
       "      <td>{'address1': '800 W Randolph St', 'address2': ...</td>\n",
       "      <td>+13129294580</td>\n",
       "      <td>(312) 929-4580</td>\n",
       "      <td>3376.598427</td>\n",
       "    </tr>\n",
       "    <tr>\n",
       "      <td>3</td>\n",
       "      <td>boE4Ahsssqic7o5wQLI04w</td>\n",
       "      <td>the-purple-pig-chicago</td>\n",
       "      <td>The Purple Pig</td>\n",
       "      <td>https://s3-media2.fl.yelpcdn.com/bphoto/Qf9YAh...</td>\n",
       "      <td>False</td>\n",
       "      <td>https://www.yelp.com/biz/the-purple-pig-chicag...</td>\n",
       "      <td>7025</td>\n",
       "      <td>[{'alias': 'tapasmallplates', 'title': 'Tapas/...</td>\n",
       "      <td>4.0</td>\n",
       "      <td>{'latitude': 41.890694, 'longitude': -87.624782}</td>\n",
       "      <td>[]</td>\n",
       "      <td>$$</td>\n",
       "      <td>{'address1': '444 N Michigan Ave', 'address2':...</td>\n",
       "      <td>+13124641744</td>\n",
       "      <td>(312) 464-1744</td>\n",
       "      <td>4670.876907</td>\n",
       "    </tr>\n",
       "    <tr>\n",
       "      <td>4</td>\n",
       "      <td>8vFJH_paXsMocmEO_KAa3w</td>\n",
       "      <td>lou-malnatis-pizzeria-chicago</td>\n",
       "      <td>Lou Malnati's Pizzeria</td>\n",
       "      <td>https://s3-media1.fl.yelpcdn.com/bphoto/cv0OrG...</td>\n",
       "      <td>False</td>\n",
       "      <td>https://www.yelp.com/biz/lou-malnatis-pizzeria...</td>\n",
       "      <td>5976</td>\n",
       "      <td>[{'alias': 'pizza', 'title': 'Pizza'}, {'alias...</td>\n",
       "      <td>4.0</td>\n",
       "      <td>{'latitude': 41.890357, 'longitude': -87.633704}</td>\n",
       "      <td>[delivery, pickup]</td>\n",
       "      <td>$$</td>\n",
       "      <td>{'address1': '439 N Wells St', 'address2': '',...</td>\n",
       "      <td>+13128289800</td>\n",
       "      <td>(312) 828-9800</td>\n",
       "      <td>4000.999053</td>\n",
       "    </tr>\n",
       "  </tbody>\n",
       "</table>\n",
       "</div>"
      ],
      "text/plain": [
       "                       id                                  alias  \\\n",
       "0  qjnpkS8yZO8xcyEIy5OU9A              girl-and-the-goat-chicago   \n",
       "1  cKZNbMvoqJaUe7n6lf6i7w  wildberry-pancakes-and-cafe-chicago-2   \n",
       "2  xoi7Cw7FoknAx5p880RtWQ                      au-cheval-chicago   \n",
       "3  boE4Ahsssqic7o5wQLI04w                 the-purple-pig-chicago   \n",
       "4  8vFJH_paXsMocmEO_KAa3w          lou-malnatis-pizzeria-chicago   \n",
       "\n",
       "                          name  \\\n",
       "0              Girl & the Goat   \n",
       "1  Wildberry Pancakes and Cafe   \n",
       "2                    Au Cheval   \n",
       "3               The Purple Pig   \n",
       "4       Lou Malnati's Pizzeria   \n",
       "\n",
       "                                           image_url  is_closed  \\\n",
       "0  https://s3-media1.fl.yelpcdn.com/bphoto/ya6gjD...      False   \n",
       "1  https://s3-media3.fl.yelpcdn.com/bphoto/or0SLp...      False   \n",
       "2  https://s3-media4.fl.yelpcdn.com/bphoto/a0yhvS...      False   \n",
       "3  https://s3-media2.fl.yelpcdn.com/bphoto/Qf9YAh...      False   \n",
       "4  https://s3-media1.fl.yelpcdn.com/bphoto/cv0OrG...      False   \n",
       "\n",
       "                                                 url  review_count  \\\n",
       "0  https://www.yelp.com/biz/girl-and-the-goat-chi...          8475   \n",
       "1  https://www.yelp.com/biz/wildberry-pancakes-an...          7099   \n",
       "2  https://www.yelp.com/biz/au-cheval-chicago?adj...          6860   \n",
       "3  https://www.yelp.com/biz/the-purple-pig-chicag...          7025   \n",
       "4  https://www.yelp.com/biz/lou-malnatis-pizzeria...          5976   \n",
       "\n",
       "                                          categories  rating  \\\n",
       "0  [{'alias': 'newamerican', 'title': 'American (...     4.5   \n",
       "1  [{'alias': 'pancakes', 'title': 'Pancakes'}, {...     4.5   \n",
       "2  [{'alias': 'bars', 'title': 'Bars'}, {'alias':...     4.5   \n",
       "3  [{'alias': 'tapasmallplates', 'title': 'Tapas/...     4.0   \n",
       "4  [{'alias': 'pizza', 'title': 'Pizza'}, {'alias...     4.0   \n",
       "\n",
       "                                         coordinates        transactions  \\\n",
       "0  {'latitude': 41.884176, 'longitude': -87.64794...                  []   \n",
       "1    {'latitude': 41.884668, 'longitude': -87.62288}            [pickup]   \n",
       "2    {'latitude': 41.88466, 'longitude': -87.647668}                  []   \n",
       "3   {'latitude': 41.890694, 'longitude': -87.624782}                  []   \n",
       "4   {'latitude': 41.890357, 'longitude': -87.633704}  [delivery, pickup]   \n",
       "\n",
       "  price                                           location         phone  \\\n",
       "0   $$$  {'address1': '809 W Randolph St', 'address2': ...  +13124926262   \n",
       "1    $$  {'address1': '130 E Randolph St', 'address2': ...  +13129389777   \n",
       "2    $$  {'address1': '800 W Randolph St', 'address2': ...  +13129294580   \n",
       "3    $$  {'address1': '444 N Michigan Ave', 'address2':...  +13124641744   \n",
       "4    $$  {'address1': '439 N Wells St', 'address2': '',...  +13128289800   \n",
       "\n",
       "    display_phone     distance  \n",
       "0  (312) 492-6262  3396.525043  \n",
       "1  (312) 938-9777  5082.221755  \n",
       "2  (312) 929-4580  3376.598427  \n",
       "3  (312) 464-1744  4670.876907  \n",
       "4  (312) 828-9800  4000.999053  "
      ]
     },
     "execution_count": 54,
     "metadata": {},
     "output_type": "execute_result"
    }
   ],
   "source": [
    "yelp = pd.DataFrame(restaurants)\n",
    "yelp.head()"
   ]
  },
  {
   "cell_type": "code",
   "execution_count": 47,
   "metadata": {},
   "outputs": [],
   "source": [
    "inspections = pd.read_csv(\"EPFL/CS401/Food-Quality-and-Social-Groups-in-Chicago/data/food-inspections.csv\")\n",
    "columns_to_keep = [\"Inspection ID\", \"DBA Name\", \"AKA Name\", \"Risk\", \"Results\", \"Latitude\", \"Longitude\", \"Violations\", \"Inspection Date\"]\n",
    "inspections = inspections[columns_to_keep]\n",
    "inspections.columns = [\"inspection_id\", \"dba_name\", \"aka_name\", \"risk\", \"results\", \"latitude\", \"longitude\", \"violations\", \"date\"]\n",
    "inspections.columns\n",
    "\n",
    "def map_risk(x_):\n",
    "    x = str(x_)\n",
    "    if \"High\" in x:\n",
    "        return 3\n",
    "    elif \"Medium\" in x:\n",
    "        return 2\n",
    "    elif \"Low\" in x:\n",
    "        return 1\n",
    "    else:\n",
    "        return x\n",
    "    \n",
    "def map_n_violations(x_):\n",
    "    x = str(x_)\n",
    "    return x.split(\".\")[0]\n",
    "    \n",
    "inspections[\"date\"] = pd.to_datetime(inspections[\"date\"])\n",
    "inspections = inspections.dropna(subset=[\"latitude\", \"longitude\"])\n",
    "inspections = inspections[inspections[\"results\"].isin([\"Pass\", \"Pass w/ Conditions\", \"Fail\"])]\n",
    "inspections[\"risk\"] = inspections[\"risk\"].apply(map_risk)\n",
    "inspections = inspections[inspections[\"risk\"].isin([1, 2, 3])]\n",
    "inspections[\"risk\"] = inspections[\"risk\"].astype(\"int16\")\n",
    "inspections[\"n_violations\"] = inspections[\"violations\"].fillna(0).apply(map_n_violations)\n",
    "inspections[\"n_violations\"] = inspections[\"n_violations\"].astype(\"int32\")"
   ]
  },
  {
   "cell_type": "code",
   "execution_count": 48,
   "metadata": {},
   "outputs": [],
   "source": [
    "geo_df = gpd.read_file(\"EPFL/CS401/Food-Quality-and-Social-Groups-in-Chicago/data/chicago_boundaries_community_area.geojson\")\n",
    "geo_df = geo_df[[\"community\", \"shape_area\", \"shape_len\", \"geometry\"]]"
   ]
  },
  {
   "cell_type": "code",
   "execution_count": 49,
   "metadata": {},
   "outputs": [],
   "source": [
    "def get_nearest_neigh(point, geo_df):\n",
    "    idx = geo_df.geometry.distance(point).idxmin()\n",
    "    return geo_df.loc[idx, 'community']\n",
    "\n",
    "## key: key that will be used to join\n",
    "def assign_community(geo_df, data, latitude=\"latitude\", longitude=\"longitude\", verbose=False):\n",
    "    geometry = [Point(x, y) for x, y in zip(data[longitude], data[latitude])]\n",
    "    crs = {'init': 'epsg:4326'}\n",
    "    data_to_join = gpd.GeoDataFrame(data, \n",
    "                                       crs=crs,\n",
    "                                       geometry=geometry)\n",
    "    points_to_neigh = sjoin(data_to_join, geo_df, how='left')\n",
    "    \n",
    "    neigh_not_found = points_to_neigh[pd.isna(points_to_neigh['community'])]\n",
    "    \n",
    "    if verbose:\n",
    "        print(\"There are {} points without an exact neighborhood\".format(len(neigh_not_found)))\n",
    "    \n",
    "    neigh_not_found['community'] = neigh_not_found.copy().geometry.apply(get_nearest_neigh, geo_df=geo_df)\n",
    "    points_to_neigh.loc[neigh_not_found.index] = neigh_not_found\n",
    "    \n",
    "    if verbose:\n",
    "        print(\"There are {} points without an exact neighborhood\"\\\n",
    "              .format(len(points_to_neigh[pd.isna(points_to_neigh['community'])])))\n",
    "    \n",
    "    columns_to_return = list(data.columns) + [\"community\"]\n",
    "    return points_to_neigh[columns_to_return]"
   ]
  },
  {
   "cell_type": "code",
   "execution_count": 53,
   "metadata": {},
   "outputs": [
    {
     "name": "stdout",
     "output_type": "stream",
     "text": [
      "There are 2665 points without an exact neighborhood\n",
      "There are 0 points without an exact neighborhood\n"
     ]
    },
    {
     "name": "stderr",
     "output_type": "stream",
     "text": [
      "C:\\Users\\Gabriel\\Miniconda3\\envs\\ada\\lib\\site-packages\\ipykernel_launcher.py:19: SettingWithCopyWarning: \n",
      "A value is trying to be set on a copy of a slice from a DataFrame.\n",
      "Try using .loc[row_indexer,col_indexer] = value instead\n",
      "\n",
      "See the caveats in the documentation: http://pandas.pydata.org/pandas-docs/stable/user_guide/indexing.html#returning-a-view-versus-a-copy\n"
     ]
    }
   ],
   "source": [
    "inspections_community = assign_community(geo_df, inspections, verbose=True)"
   ]
  },
  {
   "cell_type": "code",
   "execution_count": 88,
   "metadata": {},
   "outputs": [
    {
     "data": {
      "text/plain": [
       "community\n",
       "ALBANY PARK       139\n",
       "ARCHER HEIGHTS     57\n",
       "ARMOUR SQUARE      93\n",
       "ASHBURN            93\n",
       "AUBURN GRESHAM     77\n",
       "                 ... \n",
       "WEST LAWN         102\n",
       "WEST PULLMAN       26\n",
       "WEST RIDGE        244\n",
       "WEST TOWN         385\n",
       "WOODLAWN           23\n",
       "Name: dba_name, Length: 76, dtype: int64"
      ]
     },
     "execution_count": 88,
     "metadata": {},
     "output_type": "execute_result"
    }
   ],
   "source": [
    "inspections_community[inspections_community[\"date\"].dt.year == 2019].groupby(\"community\")[\"dba_name\"].nunique()"
   ]
  },
  {
   "cell_type": "code",
   "execution_count": 89,
   "metadata": {},
   "outputs": [],
   "source": [
    "tmp = pd.DataFrame([yelp[\"coordinates\"].apply(lambda x: x[\"latitude\"]),\n",
    "                    yelp[\"coordinates\"].apply(lambda x: x[\"longitude\"])]).transpose()\n",
    "\n",
    "tmp.columns = [\"latitude\", \"longitude\"]\n",
    "yelp[[\"latitude\", \"longitude\"]] = tmp"
   ]
  },
  {
   "cell_type": "code",
   "execution_count": 90,
   "metadata": {},
   "outputs": [
    {
     "name": "stdout",
     "output_type": "stream",
     "text": [
      "There are 1 points without an exact neighborhood\n",
      "There are 0 points without an exact neighborhood\n"
     ]
    },
    {
     "name": "stderr",
     "output_type": "stream",
     "text": [
      "C:\\Users\\Gabriel\\Miniconda3\\envs\\ada\\lib\\site-packages\\ipykernel_launcher.py:19: SettingWithCopyWarning: \n",
      "A value is trying to be set on a copy of a slice from a DataFrame.\n",
      "Try using .loc[row_indexer,col_indexer] = value instead\n",
      "\n",
      "See the caveats in the documentation: http://pandas.pydata.org/pandas-docs/stable/user_guide/indexing.html#returning-a-view-versus-a-copy\n"
     ]
    }
   ],
   "source": [
    "yelp_community = assign_community(geo_df, yelp, verbose=True)"
   ]
  },
  {
   "cell_type": "code",
   "execution_count": 91,
   "metadata": {},
   "outputs": [
    {
     "data": {
      "text/plain": [
       "community\n",
       "ALBANY PARK            10\n",
       "ARCHER HEIGHTS          1\n",
       "ARMOUR SQUARE          16\n",
       "AVONDALE                9\n",
       "BELMONT CRAGIN          3\n",
       "BRIDGEPORT              6\n",
       "DUNNING                 3\n",
       "EAST GARFIELD PARK      2\n",
       "EDGEWATER              31\n",
       "FOREST GLEN             2\n",
       "HUMBOLDT PARK           3\n",
       "IRVING PARK             9\n",
       "JEFFERSON PARK          1\n",
       "KENWOOD                 1\n",
       "LAKE VIEW             107\n",
       "LINCOLN PARK           81\n",
       "LINCOLN SQUARE         27\n",
       "LOGAN SQUARE           67\n",
       "LOOP                   78\n",
       "LOWER WEST SIDE        22\n",
       "NEAR NORTH SIDE       202\n",
       "NEAR SOUTH SIDE        13\n",
       "NEAR WEST SIDE         88\n",
       "NORTH CENTER           16\n",
       "NORTH PARK              3\n",
       "NORWOOD PARK            4\n",
       "PORTAGE PARK            6\n",
       "ROGERS PARK             6\n",
       "SOUTH LAWNDALE          1\n",
       "UPTOWN                 26\n",
       "WEST RIDGE              3\n",
       "WEST TOWN             123\n",
       "Name: id, dtype: int64"
      ]
     },
     "execution_count": 91,
     "metadata": {},
     "output_type": "execute_result"
    }
   ],
   "source": [
    "yelp_community.groupby(\"community\").count()[\"id\"]"
   ]
  },
  {
   "cell_type": "code",
   "execution_count": null,
   "metadata": {},
   "outputs": [],
   "source": []
  }
 ],
 "metadata": {
  "kernelspec": {
   "display_name": "Python 3",
   "language": "python",
   "name": "python3"
  },
  "language_info": {
   "codemirror_mode": {
    "name": "ipython",
    "version": 3
   },
   "file_extension": ".py",
   "mimetype": "text/x-python",
   "name": "python",
   "nbconvert_exporter": "python",
   "pygments_lexer": "ipython3",
   "version": "3.7.4"
  }
 },
 "nbformat": 4,
 "nbformat_minor": 2
}
