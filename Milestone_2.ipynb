{
 "cells": [
  {
   "cell_type": "code",
   "execution_count": 103,
   "metadata": {},
   "outputs": [],
   "source": [
    "from geopy.geocoders import Nominatim\n",
    "import pandas as pd\n",
    "import numpy as np\n",
    "import folium\n",
    "import json\n",
    "import datetime\n",
    "import geopandas as gpd\n",
    "from shapely.geometry import Point, Polygon\n",
    "import requests\n",
    "from bs4 import BeautifulSoup\n",
    "from geopandas.tools import sjoin"
   ]
  },
  {
   "cell_type": "markdown",
   "metadata": {},
   "source": [
    "## Dealing with GeoJson"
   ]
  },
  {
   "cell_type": "code",
   "execution_count": 48,
   "metadata": {},
   "outputs": [
    {
     "data": {
      "text/html": [
       "<div>\n",
       "<style scoped>\n",
       "    .dataframe tbody tr th:only-of-type {\n",
       "        vertical-align: middle;\n",
       "    }\n",
       "\n",
       "    .dataframe tbody tr th {\n",
       "        vertical-align: top;\n",
       "    }\n",
       "\n",
       "    .dataframe thead th {\n",
       "        text-align: right;\n",
       "    }\n",
       "</style>\n",
       "<table border=\"1\" class=\"dataframe\">\n",
       "  <thead>\n",
       "    <tr style=\"text-align: right;\">\n",
       "      <th></th>\n",
       "      <th>pri_neigh</th>\n",
       "      <th>sec_neigh</th>\n",
       "      <th>shape_area</th>\n",
       "      <th>shape_len</th>\n",
       "      <th>geometry</th>\n",
       "    </tr>\n",
       "  </thead>\n",
       "  <tbody>\n",
       "    <tr>\n",
       "      <td>52</td>\n",
       "      <td>Albany Park</td>\n",
       "      <td>NORTH PARK,ALBANY PARK</td>\n",
       "      <td>53542230.819</td>\n",
       "      <td>39339.016439</td>\n",
       "      <td>(POLYGON ((-87.70403771340104 41.9735515838182...</td>\n",
       "    </tr>\n",
       "    <tr>\n",
       "      <td>42</td>\n",
       "      <td>Andersonville</td>\n",
       "      <td>ANDERSONVILLE</td>\n",
       "      <td>9584592.89906</td>\n",
       "      <td>12534.092625</td>\n",
       "      <td>(POLYGON ((-87.66114249176968 41.9763032707800...</td>\n",
       "    </tr>\n",
       "    <tr>\n",
       "      <td>78</td>\n",
       "      <td>Archer Heights</td>\n",
       "      <td>ARCHER HEIGHTS,WEST ELSDON</td>\n",
       "      <td>55922505.7212</td>\n",
       "      <td>31880.02103</td>\n",
       "      <td>(POLYGON ((-87.71436934735939 41.8260405636423...</td>\n",
       "    </tr>\n",
       "    <tr>\n",
       "      <td>8</td>\n",
       "      <td>Armour Square</td>\n",
       "      <td>ARMOUR SQUARE,CHINATOWN</td>\n",
       "      <td>17141468.6356</td>\n",
       "      <td>24359.189625</td>\n",
       "      <td>(POLYGON ((-87.62920071904188 41.8471270613852...</td>\n",
       "    </tr>\n",
       "    <tr>\n",
       "      <td>21</td>\n",
       "      <td>Ashburn</td>\n",
       "      <td>ASHBURN</td>\n",
       "      <td>135460337.208</td>\n",
       "      <td>54818.154632</td>\n",
       "      <td>(POLYGON ((-87.71254775561138 41.7573373338274...</td>\n",
       "    </tr>\n",
       "    <tr>\n",
       "      <td>70</td>\n",
       "      <td>Auburn Gresham</td>\n",
       "      <td>AUBURN GRESHAM</td>\n",
       "      <td>105065353.602</td>\n",
       "      <td>46757.721716</td>\n",
       "      <td>(POLYGON ((-87.63990005778429 41.7561457832194...</td>\n",
       "    </tr>\n",
       "    <tr>\n",
       "      <td>94</td>\n",
       "      <td>Austin</td>\n",
       "      <td>AUSTIN</td>\n",
       "      <td>170037750.826</td>\n",
       "      <td>55473.345911</td>\n",
       "      <td>(POLYGON ((-87.75619515209075 41.9154695475812...</td>\n",
       "    </tr>\n",
       "    <tr>\n",
       "      <td>9</td>\n",
       "      <td>Avalon Park</td>\n",
       "      <td>AVALON PARK,CALUMET HEIGHTS</td>\n",
       "      <td>34852737.7366</td>\n",
       "      <td>27630.822534</td>\n",
       "      <td>(POLYGON ((-87.58565529833413 41.7515019433031...</td>\n",
       "    </tr>\n",
       "    <tr>\n",
       "      <td>12</td>\n",
       "      <td>Avondale</td>\n",
       "      <td>IRVING PARK,AVONDALE</td>\n",
       "      <td>55290595.482</td>\n",
       "      <td>34261.933404</td>\n",
       "      <td>(POLYGON ((-87.68798678784357 41.9361039411813...</td>\n",
       "    </tr>\n",
       "    <tr>\n",
       "      <td>93</td>\n",
       "      <td>Belmont Cragin</td>\n",
       "      <td>BELMONT CRAGIN,HERMOSA</td>\n",
       "      <td>109099407.211</td>\n",
       "      <td>43311.706886</td>\n",
       "      <td>(POLYGON ((-87.74142999502229 41.9169848303604...</td>\n",
       "    </tr>\n",
       "  </tbody>\n",
       "</table>\n",
       "</div>"
      ],
      "text/plain": [
       "         pri_neigh                    sec_neigh     shape_area     shape_len  \\\n",
       "52     Albany Park       NORTH PARK,ALBANY PARK   53542230.819  39339.016439   \n",
       "42   Andersonville                ANDERSONVILLE  9584592.89906  12534.092625   \n",
       "78  Archer Heights   ARCHER HEIGHTS,WEST ELSDON  55922505.7212   31880.02103   \n",
       "8    Armour Square      ARMOUR SQUARE,CHINATOWN  17141468.6356  24359.189625   \n",
       "21         Ashburn                      ASHBURN  135460337.208  54818.154632   \n",
       "70  Auburn Gresham               AUBURN GRESHAM  105065353.602  46757.721716   \n",
       "94          Austin                       AUSTIN  170037750.826  55473.345911   \n",
       "9      Avalon Park  AVALON PARK,CALUMET HEIGHTS  34852737.7366  27630.822534   \n",
       "12        Avondale         IRVING PARK,AVONDALE   55290595.482  34261.933404   \n",
       "93  Belmont Cragin       BELMONT CRAGIN,HERMOSA  109099407.211  43311.706886   \n",
       "\n",
       "                                             geometry  \n",
       "52  (POLYGON ((-87.70403771340104 41.9735515838182...  \n",
       "42  (POLYGON ((-87.66114249176968 41.9763032707800...  \n",
       "78  (POLYGON ((-87.71436934735939 41.8260405636423...  \n",
       "8   (POLYGON ((-87.62920071904188 41.8471270613852...  \n",
       "21  (POLYGON ((-87.71254775561138 41.7573373338274...  \n",
       "70  (POLYGON ((-87.63990005778429 41.7561457832194...  \n",
       "94  (POLYGON ((-87.75619515209075 41.9154695475812...  \n",
       "9   (POLYGON ((-87.58565529833413 41.7515019433031...  \n",
       "12  (POLYGON ((-87.68798678784357 41.9361039411813...  \n",
       "93  (POLYGON ((-87.74142999502229 41.9169848303604...  "
      ]
     },
     "execution_count": 48,
     "metadata": {},
     "output_type": "execute_result"
    }
   ],
   "source": [
    "geo_df = gpd.read_file(\"data/chicago_boundaries.geojson\")\n",
    "geo_df.sort_values(\"pri_neigh\").head(10)"
   ]
  },
  {
   "cell_type": "code",
   "execution_count": 49,
   "metadata": {},
   "outputs": [],
   "source": [
    "neighs = geo_df.pri_neigh.tolist()"
   ]
  },
  {
   "cell_type": "code",
   "execution_count": 101,
   "metadata": {},
   "outputs": [],
   "source": [
    "def plot_map(geo_df, data=None, column_name=None, map_name=\"map.html\"):\n",
    "    m = folium.Map(location=[41.8755616, -87.6244212], tiles='Mapbox Bright', zoom_start=11) ## This location is Chicago\n",
    "    \n",
    "    if data is None:\n",
    "        folium.GeoJson(\n",
    "            geo_df,\n",
    "            name='geojson'\n",
    "        ).add_to(m)\n",
    "    else:\n",
    "        bins = list(data.quantile(np.linspace(0, 1, 15))) ## to use bins, gotta check fill_color\n",
    "        folium.Choropleth(\n",
    "            geo_data=geo_df,\n",
    "            name='choropleth',\n",
    "            data=data,\n",
    "            columns=[\"pri_neigh\", column_name],\n",
    "            key_on='feature.properties.pri_neigh',\n",
    "            fill_color='YlGnBu',\n",
    "            fill_opacity=0.7,\n",
    "            line_opacity=0.2\n",
    "            #bins=bins\n",
    "        ).add_to(m)\n",
    "        \n",
    "    m.save(map_name)"
   ]
  },
  {
   "cell_type": "code",
   "execution_count": 25,
   "metadata": {},
   "outputs": [],
   "source": [
    "plot_map(geo_df)"
   ]
  },
  {
   "cell_type": "markdown",
   "metadata": {},
   "source": [
    "## Dealing with Food Inspections"
   ]
  },
  {
   "cell_type": "code",
   "execution_count": 29,
   "metadata": {},
   "outputs": [
    {
     "data": {
      "text/plain": [
       "Index(['Inspection ID', 'DBA Name', 'AKA Name', 'License #', 'Facility Type',\n",
       "       'Risk', 'Address', 'City', 'State', 'Zip', 'Inspection Date',\n",
       "       'Inspection Type', 'Results', 'Violations', 'Latitude', 'Longitude',\n",
       "       'Location', 'Historical Wards 2003-2015', 'Zip Codes',\n",
       "       'Community Areas', 'Census Tracts', 'Wards', 'date'],\n",
       "      dtype='object')"
      ]
     },
     "execution_count": 29,
     "metadata": {},
     "output_type": "execute_result"
    }
   ],
   "source": [
    "inspections = pd.read_csv(\"data/food-inspections.csv\")\n",
    "inspections = inspections.dropna(subset=[\"Latitude\", \"Longitude\"]) ## we drop if we do not know the location\n",
    "inspections[\"date\"] = pd.to_datetime(inspections[\"Inspection Date\"])\n",
    "inspections.columns"
   ]
  },
  {
   "cell_type": "code",
   "execution_count": 99,
   "metadata": {},
   "outputs": [],
   "source": [
    "## key: key that will be used to join\n",
    "def assign_neigh(geo_df, data, key, latitude=\"Latitude\", longitude=\"Longitude\", verbose=False):\n",
    "    geometry = [Point(x, y) for x, y in zip(data[longitude], data[latitude])]\n",
    "    crs = {'init': 'epsg:4326'}\n",
    "    data_to_join = gpd.GeoDataFrame(data[[key, latitude, longitude]], \n",
    "                                       crs=crs,\n",
    "                                       geometry=geometry)\n",
    "    points_to_neigh = sjoin(data_to_join, geo_df, how='left')\n",
    "    \n",
    "    def get_nearest_neigh(point, geo_df):\n",
    "        idx = geo_df.geometry.distance(point).idxmin()\n",
    "        return geo_df.loc[idx, 'pri_neigh']\n",
    "    \n",
    "    neigh_not_found = points_to_neigh[pd.isna(points_to_neigh.pri_neigh)]\n",
    "    \n",
    "    if verbose:\n",
    "        print(\"There are {} points without an exact neighborhood\".format(len(neigh_not_found)))\n",
    "    \n",
    "    neigh_not_found.pri_neigh = neigh_not_found.copy().geometry.apply(get_nearest_neigh, geo_df=geo_df)\n",
    "    points_to_neigh.loc[neigh_not_found.index, \"pri_neigh\"] = neigh_not_found.pri_neigh\n",
    "    \n",
    "    if verbose:\n",
    "        print(\"There are {} points without an exact neighborhood\"\\\n",
    "              .format(len(points_to_neigh[pd.isna(points_to_neigh.pri_neigh)])))\n",
    "    \n",
    "    return points_to_neigh[[key, \"pri_neigh\", \"sec_neigh\"]]\n",
    "    "
   ]
  },
  {
   "cell_type": "code",
   "execution_count": 69,
   "metadata": {},
   "outputs": [
    {
     "name": "stdout",
     "output_type": "stream",
     "text": [
      "There are 2819 points without an exact neighborhood\n",
      "There are 0 points without an exact neighborhood\n"
     ]
    }
   ],
   "source": [
    "inspection_location = assign_neigh(geo_df=geo_df, data=inspections, key=\"Inspection ID\", verbose=True)"
   ]
  },
  {
   "cell_type": "code",
   "execution_count": 70,
   "metadata": {},
   "outputs": [],
   "source": [
    "inspections = inspections.merge(inspection_location, on=\"Inspection ID\")"
   ]
  },
  {
   "cell_type": "code",
   "execution_count": 102,
   "metadata": {},
   "outputs": [],
   "source": [
    "neigh_inspections = inspections.groupby(\"pri_neigh\").count()[\"Inspection ID\"]\n",
    "plot_map(geo_df, data=neigh_inspections, column_name=\"Inspection ID\", map_name=\"map.html\")"
   ]
  },
  {
   "cell_type": "code",
   "execution_count": null,
   "metadata": {},
   "outputs": [],
   "source": []
  }
 ],
 "metadata": {
  "kernelspec": {
   "display_name": "Python 3",
   "language": "python",
   "name": "python3"
  },
  "language_info": {
   "codemirror_mode": {
    "name": "ipython",
    "version": 3
   },
   "file_extension": ".py",
   "mimetype": "text/x-python",
   "name": "python",
   "nbconvert_exporter": "python",
   "pygments_lexer": "ipython3",
   "version": "3.7.4"
  }
 },
 "nbformat": 4,
 "nbformat_minor": 2
}
