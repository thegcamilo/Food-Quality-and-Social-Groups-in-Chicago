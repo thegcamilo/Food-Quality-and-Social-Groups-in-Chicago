{
 "cells": [
  {
   "cell_type": "code",
   "execution_count": null,
   "metadata": {},
   "outputs": [],
   "source": [
    "import json\n",
    "import folium\n",
    "import datetime\n",
    "import requests\n",
    "import numpy as np\n",
    "import pandas as pd\n",
    "import geopandas as gpd\n",
    "import IPython\n",
    "from bs4 import BeautifulSoup\n",
    "from geopandas.tools import sjoin\n",
    "from geopy.geocoders import Nominatim\n",
    "from shapely.geometry import Point, Polygon\n",
    "import matplotlib.pyplot as plt\n",
    "import plotly.graph_objects as go\n",
    "from plotly.offline import init_notebook_mode, plot, iplot\n",
    "from scipy.stats import pearsonr, spearmanr\n",
    "\n",
    "\n",
    "%matplotlib inline"
   ]
  },
  {
   "cell_type": "markdown",
   "metadata": {},
   "source": [
    "## Drawing Maps\n",
    "\n",
    "The following function draws a map following the provided boundaries. If a dataset is provided, it also shows the dataset value associated with each area in the map. Due to problems with Chrome, we save the map with the chosen filename, instead of visualizing it on the notebook"
   ]
  },
  {
   "cell_type": "code",
   "execution_count": null,
   "metadata": {},
   "outputs": [],
   "source": [
    "def generate_map(geo_json, location, z_vals, legend_name):\n",
    "    return go.Choroplethmapbox(geojson = geo_json,\n",
    "                                locations = location,\n",
    "                                z = z_vals,\n",
    "                                autocolorscale = True,\n",
    "                                visible = False,\n",
    "                                #text = [legend_name + \" : \" + str(round(x,2)) for x in z_vals],\n",
    "                                #hoverinfo = 'location<br>text',\n",
    "                                hovertemplate = \"%{location}<br>\" + \n",
    "                                                legend_name + \" : %{z:,.2f}\",     \n",
    "                                name = '',\n",
    "                                marker_opacity=0.7, \n",
    "                                marker_line_width=0.1)\n",
    "                                #colorscale=\"Viridis\")\n",
    "\n",
    "# Set log to True if you want to draw the map in log scale as well\n",
    "def create_map_traces(geo_json, data, log, legend_name):\n",
    "    traces = []\n",
    "    traces.append(generate_map(geo_json, data.index, data.values.ravel(), legend_name))\n",
    "    if (log):\n",
    "        traces.append(generate_map(geo_json, data.index, np.log(data.values), 'Log ' + legend_name))\n",
    "        traces[-1]['visible'] = True\n",
    "    else :\n",
    "        traces[0]['visible'] = True\n",
    "    return traces\n",
    "\n",
    "# The number of button labels must be consistent with the number of maps\n",
    "def create_map_buttons(button_labels):\n",
    "    buttons = []\n",
    "    for i in range(len(button_labels)):\n",
    "        visible_vector = [False] * len(button_labels)\n",
    "        visible_vector[i] = True\n",
    "        dict_obj =  dict(label = button_labels[i],\n",
    "                         method = 'update',\n",
    "                         args = [{'visible': visible_vector } ,\n",
    "                             #{'title': 'Yahoo High'},\n",
    "                            ] )\n",
    "        buttons.append(dict_obj)\n",
    "    return buttons\n"
   ]
  },
  {
   "cell_type": "code",
   "execution_count": null,
   "metadata": {},
   "outputs": [],
   "source": [
    "def plot_map(data=None, legend_name=\" \", log=False): \n",
    "    # Retrieving the geo_json in json format\n",
    "    with open('data/chicago_boundaries_community_area.geojson') as f:\n",
    "        community_areas_geojson = json.load(f)\n",
    "    community_areas = []\n",
    "    for i in range(len(community_areas_geojson['features'])):\n",
    "        community_area = community_areas_geojson['features'][i]['properties']['community']\n",
    "        community_areas.append(community_area)\n",
    "        community_areas_geojson['features'][i]['id'] = community_area\n",
    "    \n",
    "    # Instanciating the map\n",
    "    fig = go.Figure()\n",
    "    \n",
    "    # Creating traces\n",
    "    map_traces = create_map_traces(community_areas_geojson, data, log, legend_name)\n",
    "    \n",
    "    # Creating buttons\n",
    "    if (log) :\n",
    "        dropdown_buttons = create_map_buttons([legend_name,\"Log \" + legend_name])\n",
    "    else : \n",
    "        dropdown_buttons = create_map_buttons([legend_name])\n",
    "        \n",
    "    # Adding traces\n",
    "    for trace in map_traces:\n",
    "        fig.add_trace(trace)\n",
    "        \n",
    "    # Positioning\n",
    "    fig.update_layout(mapbox_style=\"carto-positron\",\n",
    "                  mapbox_zoom=9, mapbox_center = {\"lat\": 41.8523, \"lon\": -87.6660})\n",
    "    fig.update_layout(margin={\"r\":0,\"t\":0,\"l\":0,\"b\":0})\n",
    "    \n",
    "    # Adding the buttons (no need in displaying them if there is only one map)\n",
    "    if len(dropdown_buttons)>1 : \n",
    "        fig.update_layout(updatemenus=[\n",
    "            go.layout.Updatemenu(\n",
    "                 #type=\"buttons\",\n",
    "                 active = len(dropdown_buttons) - 1,\n",
    "                 buttons=list(dropdown_buttons),\n",
    "                 showactive=True,\n",
    "                 x = 0,\n",
    "                 y = 1,\n",
    "                  xanchor = 'left',\n",
    "                  yanchor = 'top'\n",
    "                )])\n",
    "    \n",
    "    # Plotting\n",
    "    iplot(fig,\n",
    "         #config={'scrollZoom': False}\n",
    "         )\n",
    "\n",
    "#LAYOUT POUR TOUT LE RESTE ?\n",
    "# Adapter les map plots avec les vidéos youtube que j'ai vu (changer le display du hover, rajouter titre sur bar..)"
   ]
  },
  {
   "cell_type": "markdown",
   "metadata": {},
   "source": [
    "## Community Areas\n",
    "\n",
    "This dataset was provided by the city of Chicago's government. It divides the city into community areas. Throughout our project, we use these community areas as neighborhoods about which we will present and study correlations between food quality and socio-economical variables."
   ]
  },
  {
   "cell_type": "code",
   "execution_count": null,
   "metadata": {},
   "outputs": [],
   "source": [
    "geo_df = gpd.read_file(\"data/chicago_boundaries_community_area.geojson\")\n",
    "geo_df.head()"
   ]
  },
  {
   "cell_type": "code",
   "execution_count": null,
   "metadata": {},
   "outputs": [],
   "source": [
    "geo_df = geo_df[[\"community\", \"shape_area\", \"shape_len\", \"geometry\", \"area_num_1\"]]\n",
    "len(geo_df)"
   ]
  },
  {
   "cell_type": "code",
   "execution_count": null,
   "metadata": {},
   "outputs": [],
   "source": [
    "geo_df = geo_df.rename(columns={\"area_num_1\": \"community_number\"})\n",
    "geo_df[\"community_number\"] = geo_df[\"community_number\"].astype(int)\n",
    "geo_df.head()"
   ]
  },
  {
   "cell_type": "code",
   "execution_count": null,
   "metadata": {},
   "outputs": [],
   "source": [
    "com_number = geo_df[['community','community_number']].set_index('community')\n",
    "plot_map(com_number, legend_name=\"Community number\")"
   ]
  },
  {
   "cell_type": "markdown",
   "metadata": {},
   "source": [
    "## Assigning Coordinates to Community Area\n",
    "\n",
    "We define the following functions in order to assign a coordinate (i.e., a food inspection location) to the community area in which it is located. If a point is not inside any community area (e.g., in the boundary), we assign it to the nearest one."
   ]
  },
  {
   "cell_type": "code",
   "execution_count": null,
   "metadata": {},
   "outputs": [],
   "source": [
    "def get_nearest_neigh(point, geo_df):\n",
    "    idx = geo_df.geometry.distance(point).idxmin()\n",
    "    return geo_df.loc[idx, 'community']\n",
    "\n",
    "## key: key that will be used to join\n",
    "def assign_community(geo_df, data, latitude=\"latitude\", longitude=\"longitude\", verbose=False):\n",
    "    geometry = [Point(x, y) for x, y in zip(data[longitude], data[latitude])]\n",
    "    crs = {'init': 'epsg:4326'}\n",
    "    data_to_join = gpd.GeoDataFrame(data, \n",
    "                                       crs=crs,\n",
    "                                       geometry=geometry)\n",
    "    points_to_neigh = sjoin(data_to_join, geo_df, how='left')\n",
    "    \n",
    "    neigh_not_found = points_to_neigh[pd.isna(points_to_neigh['community'])]\n",
    "    \n",
    "    if verbose:\n",
    "        print(\"There are {} points without an exact neighborhood\".format(len(neigh_not_found)))\n",
    "    \n",
    "    neigh_not_found['community'] = neigh_not_found.copy().geometry.apply(get_nearest_neigh, geo_df=geo_df)\n",
    "    points_to_neigh.loc[neigh_not_found.index] = neigh_not_found\n",
    "    \n",
    "    if verbose:\n",
    "        print(\"There are {} points without an exact neighborhood\"\\\n",
    "              .format(len(points_to_neigh[pd.isna(points_to_neigh['community'])])))\n",
    "    \n",
    "    columns_to_return = list(data.columns) + [\"community\"]\n",
    "    return points_to_neigh[columns_to_return]"
   ]
  },
  {
   "cell_type": "markdown",
   "metadata": {},
   "source": [
    "## Census Data\n",
    "\n",
    "In order to normalize our results and analyze food quality prejudice by color, we also obtained information of the latest census conducted in Chicago."
   ]
  },
  {
   "cell_type": "code",
   "execution_count": null,
   "metadata": {},
   "outputs": [],
   "source": [
    "census = pd.read_csv(\"data/census.csv\", header=1)\n",
    "census.head()"
   ]
  },
  {
   "cell_type": "code",
   "execution_count": null,
   "metadata": {},
   "outputs": [],
   "source": [
    "columns_to_keep = [\"Community\", \"Total Population\", \"Percent Hispanic\", \"Percent Non‐ Hispanic Black\",\n",
    "                   \"Percent Non‐ Hispanic White\", \"Percent Non‐ Hispanic Asian\",\n",
    "                   \"Percent Non‐ Hispanic Other or Multiple Races\"]\n",
    "census = census[columns_to_keep]\n",
    "## Renaming\n",
    "census.columns = [\"community\", \"population\", \"hispanic\", \"black\", \"white\", \"asian\", \"other\"]\n",
    "census = census.drop(census.tail(1).index)"
   ]
  },
  {
   "cell_type": "code",
   "execution_count": null,
   "metadata": {},
   "outputs": [],
   "source": [
    "races = [\"hispanic\", \"black\", \"white\", \"asian\", \"other\"]\n",
    "census[races] = census[races].apply(lambda x: x.str.replace(\"%\", \"\").astype(\"int32\"), axis=0)\n",
    "census[\"population\"] = census[\"population\"].str.replace(\",\", \"\").astype(\"int32\")\n",
    "census[\"community\"] = census[\"community\"].str.upper()\n",
    "census.head()"
   ]
  },
  {
   "cell_type": "code",
   "execution_count": null,
   "metadata": {},
   "outputs": [],
   "source": [
    "census.loc[census['community'] == \"O'HARE\", 'community'] = 'OHARE'"
   ]
  },
  {
   "cell_type": "code",
   "execution_count": null,
   "metadata": {},
   "outputs": [],
   "source": [
    "## Check if the two dataframe indeed have the same community areas\n",
    "set(geo_df[\"community\"]) == set(census[\"community\"])"
   ]
  },
  {
   "cell_type": "markdown",
   "metadata": {},
   "source": [
    "## Food Inspections in Chicago\n",
    "\n",
    "The main dataset in our project contains information about food inspections in the city of Chicago from 2010 to the present. We use the results of food inspections as a proxy of food quality in a certain community.\n",
    "\n",
    "We drop inspections from our dataset if:\n",
    "* The inspection does not indicate a pass or a failure, since we cannot evaluate the food quality without this information.\n",
    "* The inspection does not assign a risk to a inspections/establishment, since we cannot evaluate the food quality without this information.\n",
    "* The inspection does not have a location (i.e., latitude and longitude) because we cannot assign it to a community."
   ]
  },
  {
   "cell_type": "code",
   "execution_count": null,
   "metadata": {
    "scrolled": true
   },
   "outputs": [],
   "source": [
    "inspections = pd.read_csv(\"data/food-inspections.csv\")\n",
    "inspections.head()"
   ]
  },
  {
   "cell_type": "code",
   "execution_count": null,
   "metadata": {},
   "outputs": [],
   "source": [
    "columns_to_keep = [\"Inspection ID\", \"DBA Name\", \"AKA Name\", \"Risk\", \"Results\", \"Latitude\", \"Longitude\", \"Violations\", \"Inspection Date\"]\n",
    "inspections = inspections[columns_to_keep]\n",
    "## Renaming\n",
    "inspections.columns = [\"inspection_id\", \"dba_name\", \"aka_name\", \"risk\", \"results\", \"latitude\", \"longitude\", \"violations\", \"date\"]"
   ]
  },
  {
   "cell_type": "code",
   "execution_count": null,
   "metadata": {},
   "outputs": [],
   "source": [
    "## Mapping to redifine the risk\n",
    "\n",
    "def map_risk(x_):\n",
    "    x = str(x_)\n",
    "    if \"High\" in x:\n",
    "        return 1\n",
    "    elif \"Medium\" in x:\n",
    "        return 2\n",
    "    elif \"Low\" in x:\n",
    "        return 3\n",
    "    else:\n",
    "        return x\n",
    "    \n",
    "## Mapping to retrieve the value of the violation\n",
    "    \n",
    "def map_n_violations(x_):\n",
    "    x = str(x_)\n",
    "    if x == 'nan':\n",
    "        return 0\n",
    "    return len(x.split(\"|\"))\n",
    "    \n",
    "## Reformating the dataframe\n",
    "inspections[\"date\"] = pd.to_datetime(inspections[\"date\"])\n",
    "inspections = inspections.dropna(subset=[\"latitude\", \"longitude\"])\n",
    "inspections = inspections[inspections[\"results\"].isin([\"Pass\", \"Pass w/ Conditions\", \"Fail\"])]\n",
    "inspections[\"risk\"] = inspections[\"risk\"].apply(map_risk)\n",
    "inspections = inspections[inspections[\"risk\"].isin([1, 2, 3])]\n",
    "inspections[\"risk\"] = inspections[\"risk\"].astype(\"int16\")\n",
    "inspections[\"n_violations\"] = inspections[\"violations\"].apply(map_n_violations)\n",
    "inspections[\"n_violations\"] = inspections[\"n_violations\"].astype(\"int32\")\n",
    "inspections.head()"
   ]
  },
  {
   "cell_type": "code",
   "execution_count": null,
   "metadata": {},
   "outputs": [],
   "source": [
    "## Assigning the community areas\n",
    "inspections_community = assign_community(geo_df, inspections, verbose=True)\n",
    "inspections_community.head()"
   ]
  },
  {
   "cell_type": "markdown",
   "metadata": {},
   "source": [
    "The following maps show:\n",
    "1. The log-number of inspections in each community per 100 citizens.\n",
    "2. Rate of inspection failure by community.\n",
    "3. A community's average risk of an establishment adversely affecting the public’s health in the range [0, 3], with three indicating a higher risk.\n",
    "4. The average number of food inspection violations in each community per 10000 citizens.\n",
    "5. The number of inspections in each community normalized by number of establishments in our dataset.\n",
    "6. The number of violations in each community normalized by number of establishments in our dataset."
   ]
  },
  {
   "cell_type": "code",
   "execution_count": null,
   "metadata": {},
   "outputs": [],
   "source": [
    "population_community = census[[\"community\", \"population\"]].set_index(\"community\")[\"population\"]\n",
    "n_establishments = inspections_community.groupby(\"community\")[\"dba_name\"].nunique()"
   ]
  },
  {
   "cell_type": "code",
   "execution_count": null,
   "metadata": {
    "scrolled": false
   },
   "outputs": [],
   "source": [
    "## 1) Number of inspections per capita\n",
    "n_inspections = inspections_community.groupby(\"community\").count()[\"inspection_id\"].rename(\"values\")\n",
    "n_inspections_per_capita = n_inspections.div(population_community)\n",
    "plot_map(data=n_inspections_per_capita, legend_name=\"Number of inspections per capita\", log=True)"
   ]
  },
  {
   "cell_type": "code",
   "execution_count": null,
   "metadata": {},
   "outputs": [],
   "source": [
    "## 2) Rate of failure\n",
    "neigh_results = inspections_community.groupby([\"community\", \"results\"]).count()[\"inspection_id\"].rename(\"values\")\n",
    "percentage_results = (neigh_results.div(n_inspections) * 100).reset_index()\n",
    "failure_community = percentage_results[percentage_results[\"results\"]==\"Fail\"]\n",
    "failure_community = failure_community.drop(\"results\", axis=\"columns\").set_index(\"community\")[\"values\"]\n",
    "plot_map(data=failure_community, legend_name='Rate of failure (%)')"
   ]
  },
  {
   "cell_type": "code",
   "execution_count": null,
   "metadata": {},
   "outputs": [],
   "source": [
    "## 3) Average risk\n",
    "average_risk = inspections_community.groupby(\"community\").mean()[\"risk\"].rename(\"values\")\n",
    "plot_map(data=average_risk, legend_name='Average risk (between 1 and 3)')"
   ]
  },
  {
   "cell_type": "code",
   "execution_count": null,
   "metadata": {},
   "outputs": [],
   "source": [
    "## 4) Number of violations per capita\n",
    "average_violations = inspections_community.groupby(\"community\").mean()[\"n_violations\"].rename(\"values\")\n",
    "average_violations_per_capita = average_violations.div(population_community)\n",
    "plot_map(data=average_violations_per_capita, legend_name='Average number of food violations per capita', log=True)"
   ]
  },
  {
   "cell_type": "code",
   "execution_count": null,
   "metadata": {},
   "outputs": [],
   "source": [
    "## 5) Number of inspections / # establishments\n",
    "n_inspections = inspections_community.groupby(\"community\").count()[\"inspection_id\"].rename(\"values\")\n",
    "norm_n_inspections = n_inspections.div(n_establishments)\n",
    "plot_map(data=norm_n_inspections, legend_name='Normalized Number of inspections per establishment')"
   ]
  },
  {
   "cell_type": "code",
   "execution_count": null,
   "metadata": {},
   "outputs": [],
   "source": [
    "## 6) Number of violations / # establishments\n",
    "average_violations = inspections_community.groupby(\"community\").mean()[\"n_violations\"].rename(\"values\")\n",
    "norm_average_violations = average_violations.div(n_establishments)\n",
    "plot_map(data=norm_average_violations, legend_name='Normalized Number of food violations per establishment', log=True)"
   ]
  },
  {
   "cell_type": "markdown",
   "metadata": {},
   "source": [
    "We can see through these maps that the food is indeed not of the same quality across all community areas."
   ]
  },
  {
   "cell_type": "markdown",
   "metadata": {},
   "source": [
    "## Hardship Index\n",
    "\n",
    "The city of Chicago also makes available the economic hardship of all its community areas. The economic hardship index is a function of:\n",
    "\n",
    "1. Unemployment (over the age of 16 years),\n",
    "2. Education (over 25 years of age without a high school\n",
    "diploma)\n",
    "3. Per capita income level\n",
    "4. Poverty (below the federal poverty level)\n",
    "5. Crowded housing (housing units with more than one person\n",
    "per room)\n",
    "6. Dependency (population under 18 or over 64 years of age)\n",
    "\n",
    "We will use the economic hardship index as a measurement of economic conditions of each community area in Chicago. A higher index indicates poorer conditions. For more information on the index: https://greatcities.uic.edu/wp-content/uploads/2016/07/GCI-Hardship-Index-Fact-SheetV2.pdf"
   ]
  },
  {
   "cell_type": "code",
   "execution_count": null,
   "metadata": {},
   "outputs": [],
   "source": [
    "income_df = pd.read_csv(\"data/Per_Capita_Income.csv\")\n",
    "income_df.head()"
   ]
  },
  {
   "cell_type": "code",
   "execution_count": null,
   "metadata": {},
   "outputs": [],
   "source": [
    "## Renaming\n",
    "income_df.columns = ['community_number','community','percentage_housing_crowded','percent_households_below_poverty','percent_aged_16+_unemployed','percent_aged_25+_without_highschool_diploma','percent_aged_under_18_or_over_64','per_capita_income','hardship_index']\n",
    "income_df[\"community\"].unique"
   ]
  },
  {
   "cell_type": "code",
   "execution_count": null,
   "metadata": {},
   "outputs": [],
   "source": [
    "## Getting rid of the non relevant last row\n",
    "income_df = income_df[income_df[\"community\"] != 'CHICAGO']\n",
    "## Reformating the community area names\n",
    "income_df[\"community\"] = income_df[\"community\"].str.upper()"
   ]
  },
  {
   "cell_type": "code",
   "execution_count": null,
   "metadata": {},
   "outputs": [],
   "source": [
    "## Checking if the income dataframe has the same community areas as the geojson dataframe\n",
    "set(geo_df[\"community\"]) == set(income_df[\"community\"])"
   ]
  },
  {
   "cell_type": "code",
   "execution_count": null,
   "metadata": {},
   "outputs": [],
   "source": [
    "## Displaying the differences\n",
    "set(geo_df[\"community\"]) - set(income_df[\"community\"])"
   ]
  },
  {
   "cell_type": "code",
   "execution_count": null,
   "metadata": {},
   "outputs": [],
   "source": [
    "set(income_df[\"community\"]) - set(geo_df[\"community\"])"
   ]
  },
  {
   "cell_type": "code",
   "execution_count": null,
   "metadata": {},
   "outputs": [],
   "source": [
    "## Correcting the issue \n",
    "income_df.loc[income_df['community'] == \"O'HARE\", 'community'] = 'OHARE'\n",
    "income_df.loc[income_df['community'] == \"MONTCLAIRE\", 'community'] = 'MONTCLARE'\n",
    "income_df.loc[income_df['community'] == \"WASHINGTON HEIGHT\", 'community'] = 'WASHINGTON HEIGHTS'\n",
    "## Checking if the income dataframe has the same community areas\n",
    "set(geo_df[\"community\"]) == set(income_df[\"community\"])"
   ]
  },
  {
   "cell_type": "markdown",
   "metadata": {},
   "source": [
    "We normalize hardship into a [0, 1] range for our analysis. Since hardship is not a concept easy to understand as it is a function of many economic variables, we believe that comparing between communities will be easier after normalizing the index."
   ]
  },
  {
   "cell_type": "code",
   "execution_count": null,
   "metadata": {},
   "outputs": [],
   "source": [
    "delta_hardship = income_df[\"hardship_index\"].max() - income_df[\"hardship_index\"].min()\n",
    "income_df[\"hardship_index\"] = (income_df[\"hardship_index\"] - income_df[\"hardship_index\"].min())/delta_hardship"
   ]
  },
  {
   "cell_type": "code",
   "execution_count": null,
   "metadata": {
    "scrolled": false
   },
   "outputs": [],
   "source": [
    "hardship = income_df[[\"community\", \"hardship_index\"]].set_index(\"community\").rename(columns={\"hardship_index\": \"values\"})[\"values\"]\n",
    "plot_map(data=hardship, legend_name='Hardship Index')"
   ]
  },
  {
   "cell_type": "markdown",
   "metadata": {},
   "source": [
    "### 1) Correlation Between Race and Food Quality\n",
    "\n",
    "Since each community areas has a dominant race, and that food quality varies from one community to another, we speculate that the food quality may vary depending on the race."
   ]
  },
  {
   "cell_type": "code",
   "execution_count": null,
   "metadata": {},
   "outputs": [],
   "source": [
    "def plot_correlation_food_variables(food_quality_index=None, index_name=\"\",\n",
    "                                    variables_df=None, variables=None, variable_name=\"\", method=\"pearson\"):\n",
    "    correlations = []\n",
    "    for var in variables:\n",
    "        var_community = variables_df[[\"community\", var]].set_index(\"community\")[var]\n",
    "        correlations.append(var_community.corr(food_quality_index, method=method))\n",
    "    plt.bar(x=variables, height=correlations)\n",
    "    plt.title(\"Correlation between {} and {}\".format(variable_name, index_name))"
   ]
  },
  {
   "cell_type": "code",
   "execution_count": null,
   "metadata": {},
   "outputs": [],
   "source": [
    "def scatter_plot(food_quality_index=None, index_name=\"\",\n",
    "                           variable_df=None, variable_name=\"\", method=\"pearson\"):\n",
    "    plt.ylabel(index_name)\n",
    "    plt.xlabel(variable_name)\n",
    "    plt.scatter(variable_df, food_quality_index)"
   ]
  },
  {
   "cell_type": "code",
   "execution_count": null,
   "metadata": {},
   "outputs": [],
   "source": [
    "plt.figure(figsize=(15, 13))\n",
    "\n",
    "## 1) Number of inspections per capita\n",
    "plt.subplot(3, 2, 1)\n",
    "plot_correlation_food_variables(n_inspections_per_capita, index_name=\"number of inspections per capita\",\n",
    "                                variables_df=census, variables=races, variable_name=\"race\")\n",
    "\n",
    "## 2) Rate of failure\n",
    "plt.subplot(3, 2, 2)\n",
    "plot_correlation_food_variables(failure_community, index_name=\"failure rate\",\n",
    "                                variables_df=census, variables=races, variable_name=\"race\")\n",
    "\n",
    "## 3) Average risk\n",
    "## I'm pretty sure that the mapping function of risk is the opposite of what we are doing right now\n",
    "plt.subplot(3, 2, 3)\n",
    "plot_correlation_food_variables(average_risk, index_name=\"average risk\",\n",
    "                                variables_df=census, variables=races, variable_name=\"race\")\n",
    "\n",
    "## 4) Number of violations per capita\n",
    "plt.subplot(3, 2, 4)\n",
    "plot_correlation_food_variables(average_violations_per_capita, index_name=\"inspection violations per capita\",\n",
    "                                variables_df=census, variables=races, variable_name=\"race\")\n",
    "\n",
    "## 5) # inspections / # establishments\n",
    "plt.subplot(3, 2, 5)\n",
    "plot_correlation_food_variables(norm_n_inspections, index_name=\"normalized number of inspections\",\n",
    "                                variables_df=census, variables=races, variable_name=\"race\")\n",
    "\n",
    "## 6) # violations / # establishments\n",
    "plt.subplot(3, 2, 6)\n",
    "plot_correlation_food_variables(norm_average_violations, index_name=\"normalized inspection violations\",\n",
    "                                variables_df=census, variables=races, variable_name=\"race\")"
   ]
  },
  {
   "cell_type": "markdown",
   "metadata": {},
   "source": [
    "Apparently, the black population lives in community areas with lower quality of food, a higher number of inspection violations, a lower number of inspections as well as a higher risk.\n",
    "\n",
    "On the other hand, it is the complete opposite for the white population: they have higher quality of food, a lower number of inspection violations, a higher number of inspections and a lower value of risk."
   ]
  },
  {
   "cell_type": "code",
   "execution_count": null,
   "metadata": {},
   "outputs": [],
   "source": [
    "plt.figure(figsize=(15, 13))\n",
    "\n",
    "## 1) Number of inspections per capita\n",
    "\n",
    "plt.subplot(3, 2, 1)\n",
    "scatter_plot(n_inspections_per_capita, index_name=\"number of inspections per capita\",\n",
    "                                variable_df=census[\"black\"], variable_name=\"percentage of black population\")\n",
    "\n",
    "## 2) Rate of failure\n",
    "plt.subplot(3, 2, 2)\n",
    "scatter_plot(failure_community, index_name=\"failure rate\",\n",
    "                                variable_df=census[\"black\"], variable_name=\"percentage of black population\")\n",
    "\n",
    "## 3) Average risk\n",
    "## I'm pretty sure that the mapping function of risk is the opposite of what we are doing right now\n",
    "plt.subplot(3, 2, 3)\n",
    "scatter_plot(average_risk, index_name=\"average risk\",\n",
    "                                variable_df=census[\"black\"], variable_name=\"percentage of black population\")\n",
    "\n",
    "## 4) Number of violations per capita\n",
    "plt.subplot(3, 2, 4)\n",
    "scatter_plot(average_violations_per_capita, index_name=\"inspection violations per capita\",\n",
    "                                variable_df=census[\"black\"], variable_name=\"percentage of black population\")\n",
    "\n",
    "## 5) # inspections / # establishments\n",
    "plt.subplot(3, 2, 5)\n",
    "scatter_plot(norm_n_inspections, index_name=\"normalized number of inspections\",\n",
    "                                variable_df=census[\"black\"], variable_name=\"percentage of black population\")\n",
    "\n",
    "## 6) # violations / # establishments\n",
    "plt.subplot(3, 2, 6)\n",
    "scatter_plot(norm_average_violations, index_name=\"normalized inspection violations\",\n",
    "                                variable_df=census[\"black\"], variable_name=\"percentage of black population\")"
   ]
  },
  {
   "cell_type": "code",
   "execution_count": null,
   "metadata": {},
   "outputs": [],
   "source": [
    "# If we use this function, we shouldn't use the buttons\n",
    "def add_plot_trace_with_legend_without_corr(traces, food_quality_index=None, index_name=\"\",\n",
    "                           variable_df=None, variable_name=\"\",):\n",
    "    traces.append(go.Scatter(x=variable_df, \n",
    "                             y=food_quality_index,\n",
    "                             mode='markers',\n",
    "                             #text = [index_name + \" : \\n\" + str(round(y,3)) for y in food_quality_index],\n",
    "                             #hoverinfo = 'text',\n",
    "                             hovertemplate = index_name + \" : %{y:,.3f}<br>\" + \n",
    "                                             variable_name + \" : %{x}%\",\n",
    "                             name=index_name,\n",
    "                             showlegend = True,\n",
    "                             marker_color=food_quality_index))\n",
    "    traces[-1]['visible'] = 'legendonly'\n",
    "    return traces\n",
    "\n",
    "def add_plot_trace_without_corr(traces, food_quality_index=None, index_name=\"\",\n",
    "                           variable_df=None, variable_name=\"\",):\n",
    "    traces.append(go.Scatter(x=variable_df, \n",
    "                             y=food_quality_index,\n",
    "                             mode='markers',\n",
    "                             #text = [index_name + \" : \\n\" + str(round(y,3)) for y in food_quality_index],\n",
    "                             #hoverinfo = 'text',\n",
    "                             hovertemplate = index_name + \" : %{y:,.3f}<br>\" + \n",
    "                                             variable_name + \" : %{x}%\",\n",
    "                             name='',\n",
    "                             marker_color=food_quality_index))\n",
    "    traces[-1]['visible'] = False\n",
    "    return traces"
   ]
  },
  {
   "cell_type": "code",
   "execution_count": null,
   "metadata": {},
   "outputs": [],
   "source": [
    "def add_plot_trace(traces, food_quality_index=None, index_name=\"\",\n",
    "                           variable_df=None, variable_name=\"\",):\n",
    "    corr_p, pval_p = pearsonr(food_quality_index, variable_df)\n",
    "    if pval_p<0.05:\n",
    "        p_sgn = \"Significant\"\n",
    "    else :\n",
    "        p_sgn = \"Not Significant\"\n",
    "    corr_s, pval_s = spearmanr(food_quality_index, variable_df)\n",
    "    if pval_s<0.05:\n",
    "        s_sgn = \"Significant\"\n",
    "    else :\n",
    "        s_sgn = \"Not Significant\"\n",
    "    traces.append(go.Scatter(x=variable_df, \n",
    "                             y=food_quality_index,\n",
    "                             mode='markers',\n",
    "                             hovertemplate = index_name + \" : %{y:,.3f}<br>\" + \n",
    "                                             variable_name + \" : %{x}%\",\n",
    "                             name=\"<b>Correlations :</b><br>\" +\n",
    "                                 \"<i>Pearson's</i> : <br>\" + \n",
    "                                 \"Value : \" + str(round(corr_p,2)) + \", P-value : \" + str(round(pval_p,2)) + \", <b>\" + p_sgn + \"</b><br>\" +\n",
    "                                 \"<i>Spearman's</i> : <br>\" + \n",
    "                                 \"Value : \" + str(round(corr_s,2)) + \", P-value : \" + str(round(pval_s,2)) + \", <b>\" + s_sgn + \"</b><br>\",\n",
    "                             marker_color=food_quality_index))\n",
    "    traces[-1]['visible'] = False\n",
    "    return traces"
   ]
  },
  {
   "cell_type": "code",
   "execution_count": null,
   "metadata": {},
   "outputs": [],
   "source": [
    "def create_plot_buttons(button_labels):\n",
    "    buttons = []\n",
    "    #name = ['okok','okok2','okok3','okok4','okok5','okok6']\n",
    "    for i in range(len(button_labels)):\n",
    "        visible_vector = [False] * len(button_labels)\n",
    "        visible_vector[i] = True\n",
    "        dict_obj =  dict(label = button_labels[i],\n",
    "                         method = 'update',\n",
    "                         #name = name[i],\n",
    "                         args = [{'visible': visible_vector } ,\n",
    "                         #{'title': 'Yahoo High'},\n",
    "                            ] )\n",
    "        buttons.append(dict_obj)\n",
    "    return buttons  "
   ]
  },
  {
   "cell_type": "code",
   "execution_count": null,
   "metadata": {
    "scrolled": false
   },
   "outputs": [],
   "source": [
    "# Instanciating the figure\n",
    "fig = go.Figure()\n",
    "\n",
    "# Creating traces\n",
    "scatter_traces = []\n",
    "## 1) Number of inspections per capita\n",
    "scatter_traces = add_plot_trace(scatter_traces, n_inspections_per_capita, index_name=\"Number of inspections per capita\",\n",
    "                            variable_df=census[\"black\"], variable_name=\"Percentage of black population\")\n",
    "## 2) Rate of failure\n",
    "scatter_traces = add_plot_trace(scatter_traces, failure_community, index_name=\"Failure rate (%)\",\n",
    "                            variable_df=census[\"black\"], variable_name=\"Percentage of black population\")\n",
    "## 3) Average risk\n",
    "scatter_traces = add_plot_trace(scatter_traces, average_risk, index_name=\"Average risk (1-3)\",\n",
    "                            variable_df=census[\"black\"], variable_name=\"Percentage of black population\")\n",
    "## 4) Number of violations per capita\n",
    "scatter_traces = add_plot_trace(scatter_traces, average_violations_per_capita, index_name=\"Inspection violations per capita\",\n",
    "                            variable_df=census[\"black\"], variable_name=\"Percentage of black population\")\n",
    "## 5) # inspections / # establishments\n",
    "scatter_traces = add_plot_trace(scatter_traces, norm_n_inspections, index_name=\"Normalized number of inspections\",\n",
    "                            variable_df=census[\"black\"], variable_name=\"Percentage of black population\")\n",
    "## 6) # violations / # establishments\n",
    "scatter_traces = add_plot_trace(scatter_traces, norm_average_violations, index_name=\"Normalized inspection violations\",\n",
    "                            variable_df=census[\"black\"], variable_name=\"Percentage of black population\")\n",
    "\n",
    "scatter_plot_titles = ['Number of inspections per capita',# / Percentage of black population',\n",
    "                       'Failure rate (%)',# / Percentage of black population',\n",
    "                       'Average risk (1-3)',# / Percentage of black population',\n",
    "                       'Inspection violations per capita',# / Percentage of black population',\n",
    "                       'Normalized number of inspections',# / Percentage of black population',\n",
    "                       'Normalized inspection violations']# / Percentage of black population']\n",
    "\n",
    "# Rendering the last scatter plot visible\n",
    "scatter_traces[-1]['visible'] = True\n",
    "\n",
    "# Creating buttons\n",
    "dropdown_buttons = create_plot_buttons(scatter_plot_titles)\n",
    "\n",
    "# Adding traces\n",
    "for trace in scatter_traces:\n",
    "    fig.add_trace(trace)\n",
    "\n",
    "# Adding the buttons \n",
    "fig.update_layout(\n",
    "    xaxis = dict(title = \"Percentage of black population\"),\n",
    "    title = dict(text = \"<b>Food quality index / Percentage of black population</b>\", x=0.5),\n",
    "    updatemenus=[\n",
    "    go.layout.Updatemenu(\n",
    "         active = len(dropdown_buttons) - 1,\n",
    "         buttons = list(dropdown_buttons),\n",
    "         showactive=True,\n",
    "         x = 0,\n",
    "         y = 1.1,#Change to 1 if you want to display it on the top left corner inside the plot\n",
    "          xanchor = 'left',\n",
    "          yanchor = 'top'\n",
    "        )])\n",
    "\n",
    "# Plotting\n",
    "iplot(fig)\n",
    "\n",
    "#Rajouter un titre"
   ]
  },
  {
   "cell_type": "markdown",
   "metadata": {},
   "source": [
    "Unfortunately the scatterplots don't show any correlation. We'll then proceed with a significance test of our correlation index. Note that some of them have a range that is hard to work with. We will then conduct both a pearson and spearman correlation tests to check whether they are correlated."
   ]
  },
  {
   "cell_type": "code",
   "execution_count": null,
   "metadata": {},
   "outputs": [],
   "source": [
    "def correlation_and_pvalue(x_dict,y):\n",
    "    for x in x_dict:\n",
    "        corr_p, pval_p = pearsonr(x[\"data\"], y)\n",
    "        corr_s, pval_s = spearmanr(x[\"data\"], y)\n",
    "        print(x[\"name\"])\n",
    "        print(\"Pearson   r={}, p-value={}\\t{}\".format(corr_p, pval_p, \"Significant\" if pval_p < 0.05 else \"Not significant\"))\n",
    "        print(\"Spearman  r={}, p-value={}\\t{}\\n\".format(corr_s, pval_s, \"Significant\" if pval_s< 0.05 else \"Not significant\"))\n",
    "        \n",
    "variables_list = [\n",
    "    {\"name\": \"N Inspection Per Capita\", \"data\": n_inspections_per_capita},\n",
    "    {\"name\": \"Failure Rate\", \"data\": failure_community},\n",
    "    {\"name\": \"Average Risk\", \"data\": average_risk},\n",
    "    {\"name\": \"N Violations Per Capita\", \"data\": average_violations_per_capita},\n",
    "    {\"name\": \"N Inspection Per Establishment\", \"data\": norm_n_inspections},\n",
    "    {\"name\": \"N Violations Per Establishment\", \"data\": norm_average_violations}\n",
    "]"
   ]
  },
  {
   "cell_type": "code",
   "execution_count": null,
   "metadata": {},
   "outputs": [],
   "source": [
    "correlation_and_pvalue(variables_list, census[\"black\"])"
   ]
  },
  {
   "cell_type": "code",
   "execution_count": null,
   "metadata": {},
   "outputs": [],
   "source": [
    "correlation_and_pvalue(variables_list, census[\"white\"])"
   ]
  },
  {
   "cell_type": "markdown",
   "metadata": {},
   "source": [
    "There is a significant correlation between number of inspections between race composition of a community and number of inspections. The relation, however, does not seem to be linear. \n",
    "- The more black people there is in a community, the higher the number of inspections per capita in that community. The opposite trend is found for white people."
   ]
  },
  {
   "cell_type": "markdown",
   "metadata": {},
   "source": [
    "### 2) Correlation Between Hardship and Food Quality\n",
    "\n",
    "The higher the hardship index is, the lower are the educational and income level.\n",
    "We then speculate that the higher the educational and income level, the higher is the food quality."
   ]
  },
  {
   "cell_type": "code",
   "execution_count": null,
   "metadata": {},
   "outputs": [],
   "source": [
    "plt.figure(figsize=(15, 13))\n",
    "\n",
    "## 1) Number of inspections per capita\n",
    "plt.subplot(3, 2, 1)\n",
    "scatter_plot(n_inspections_per_capita, index_name=\"number of inspections per capita\",\n",
    "                                variable_df=hardship, variable_name=\"hardship\")\n",
    "\n",
    "## 2) Rate of failure\n",
    "plt.subplot(3, 2, 2)\n",
    "scatter_plot(failure_community, index_name=\"failure rate\",\n",
    "                                variable_df=hardship, variable_name=\"hardship\")\n",
    "\n",
    "## 3) Average risk\n",
    "plt.subplot(3, 2, 3)\n",
    "scatter_plot(average_risk, index_name=\"average risk\",\n",
    "                                variable_df=hardship, variable_name=\"hardship\")\n",
    "\n",
    "## 4) Number of violations per capita\n",
    "plt.subplot(3, 2, 4)\n",
    "scatter_plot(average_violations_per_capita, index_name=\"inspection violations per capita\",\n",
    "                                variable_df=hardship, variable_name=\"hardship\")\n",
    "\n",
    "## 5) # inspections / # establishments\n",
    "plt.subplot(3, 2, 5)\n",
    "scatter_plot(norm_n_inspections, index_name=\"normalized number of inspections\",\n",
    "                                variable_df=hardship, variable_name=\"hardship\")\n",
    "\n",
    "## 6) # violations / # establishments\n",
    "plt.subplot(3, 2, 6)\n",
    "scatter_plot(norm_average_violations, index_name=\"normalized inspection violations\",\n",
    "                                variable_df=hardship, variable_name=\"hardship\")"
   ]
  },
  {
   "cell_type": "markdown",
   "metadata": {},
   "source": [
    "Unfortunately, these scatter plots seem to prove the initial assumption wrong: there doesn't seem to be any correlation between the hardship and the food quality."
   ]
  },
  {
   "cell_type": "code",
   "execution_count": null,
   "metadata": {},
   "outputs": [],
   "source": [
    "correlation_and_pvalue(variables_list, hardship)"
   ]
  },
  {
   "cell_type": "markdown",
   "metadata": {},
   "source": [
    "No correlation is significant according to the p-values obtained."
   ]
  },
  {
   "cell_type": "markdown",
   "metadata": {},
   "source": [
    "# Crime Dataset Investigation"
   ]
  },
  {
   "cell_type": "code",
   "execution_count": null,
   "metadata": {},
   "outputs": [],
   "source": [
    "crime_df = pd.read_csv('data/Crimes_2001-2019.csv')\n",
    "crime_df.head()"
   ]
  },
  {
   "cell_type": "markdown",
   "metadata": {},
   "source": [
    "Limit the data to the period 2010-2019"
   ]
  },
  {
   "cell_type": "code",
   "execution_count": null,
   "metadata": {},
   "outputs": [],
   "source": [
    "crime_df = crime_df.loc[crime_df.Year>2009]\n",
    "crime_df.head()"
   ]
  },
  {
   "cell_type": "code",
   "execution_count": null,
   "metadata": {},
   "outputs": [],
   "source": [
    "crime_df['Primary Type'].unique()"
   ]
  },
  {
   "cell_type": "markdown",
   "metadata": {},
   "source": [
    "Some types of violation can be excluded for some resons:\n",
    "- Liquor law violation is not an index of a dangerous neighborhood\n",
    "- Non-criminal actions are used to code police calls that are not crimes\n",
    "- Concealed carry license violations are assigned to a vehicle in movement so we can not connect the place where is found to its original neighborhood"
   ]
  },
  {
   "cell_type": "code",
   "execution_count": null,
   "metadata": {},
   "outputs": [],
   "source": [
    "crime_df = crime_df[~crime_df['Primary Type'].isin(['LIQUOR LAW VIOLATION','CONCEALED CARRY LICENSE VIOLATION','NON-CRIMINAL','NON - CRIMINAL','NON-CRIMINAL (SUBJECT SPECIFIED)'])]\n",
    "crime_df.head(10)"
   ]
  },
  {
   "cell_type": "code",
   "execution_count": null,
   "metadata": {
    "scrolled": true
   },
   "outputs": [],
   "source": [
    "crime_df.columns"
   ]
  },
  {
   "cell_type": "code",
   "execution_count": null,
   "metadata": {
    "scrolled": true
   },
   "outputs": [],
   "source": [
    "crime_df['Location']"
   ]
  },
  {
   "cell_type": "markdown",
   "metadata": {},
   "source": [
    "Note that community area 0 is not a real community area. It is an outlier which (we hypothesize) indicates crimes in areas around Chicago. Also, there is no community area with number 0 in the GeoJson file provided by the city of Chicago.\n",
    "\n",
    "We will finally assign the community area where the crime was commited by comparing the *community_number* column of the GeoJson."
   ]
  },
  {
   "cell_type": "code",
   "execution_count": null,
   "metadata": {},
   "outputs": [],
   "source": [
    "crime_df[\"Community Area\"].value_counts()"
   ]
  },
  {
   "cell_type": "code",
   "execution_count": null,
   "metadata": {},
   "outputs": [],
   "source": [
    "crime_df.drop(['ID', 'Case Number', 'Domestic', 'Beat', 'Ward', 'FBI Code', 'Updated On', 'Block', 'Description', 'Location Description', 'Arrest', 'IUCR', 'Location', 'X Coordinate', 'Y Coordinate'], axis=1, inplace=True)\n",
    "crime_df = crime_df[crime_df[\"Community Area\"] != 0.0]"
   ]
  },
  {
   "cell_type": "code",
   "execution_count": null,
   "metadata": {},
   "outputs": [],
   "source": [
    "crime_df.head()"
   ]
  },
  {
   "cell_type": "code",
   "execution_count": null,
   "metadata": {},
   "outputs": [],
   "source": [
    "crimes_by_community = crime_df.groupby('Community Area').count()['Date'].rename('values')\n",
    "crimes_by_community.index = geo_df.sort_values(\"community_number\")[\"community\"]\n",
    "crimes_by_community"
   ]
  },
  {
   "cell_type": "code",
   "execution_count": null,
   "metadata": {},
   "outputs": [],
   "source": [
    "criminality = crimes_by_community.div(population_community)\n",
    "criminality"
   ]
  },
  {
   "cell_type": "code",
   "execution_count": null,
   "metadata": {},
   "outputs": [],
   "source": [
    "plot_map(data=criminality, legend_name=\"Crimes per capita\")"
   ]
  },
  {
   "cell_type": "markdown",
   "metadata": {},
   "source": [
    "The map shows 2 areas composed by more communities that have more criminality, there is some overlapping between these areas and the parts where there are more food violations"
   ]
  },
  {
   "cell_type": "code",
   "execution_count": null,
   "metadata": {},
   "outputs": [],
   "source": [
    "correlation_and_pvalue(variables_list, criminality)"
   ]
  },
  {
   "cell_type": "markdown",
   "metadata": {},
   "source": [
    "Our results show that there is no significant correlation between criminality and food quality. We also plot the scatter plots for visualization."
   ]
  },
  {
   "cell_type": "code",
   "execution_count": null,
   "metadata": {},
   "outputs": [],
   "source": [
    "plt.figure(figsize=(15, 13))\n",
    "\n",
    "## 1) Number of inspections per capita\n",
    "plt.subplot(3, 2, 1)\n",
    "scatter_plot(n_inspections_per_capita, index_name=\"number of inspections per capita\",\n",
    "                                variable_df=criminality, variable_name=\"crimes per capita\")\n",
    "\n",
    "## 2) Rate of failure\n",
    "plt.subplot(3, 2, 2)\n",
    "scatter_plot(failure_community, index_name=\"failure rate\",\n",
    "                                variable_df=criminality, variable_name=\"crimes per capita\")\n",
    "\n",
    "## 3) Average risk\n",
    "plt.subplot(3, 2, 3)\n",
    "scatter_plot(average_risk, index_name=\"average risk\",\n",
    "                                variable_df=criminality, variable_name=\"crimes per capita\")\n",
    "\n",
    "## 4) Number of violations per capita\n",
    "plt.subplot(3, 2, 4)\n",
    "scatter_plot(average_violations_per_capita, index_name=\"inspection violations per capita\",\n",
    "                                variable_df=criminality, variable_name=\"crimes per capita\")\n",
    "\n",
    "## 5) # inspections / # establishments\n",
    "plt.subplot(3, 2, 5)\n",
    "scatter_plot(norm_n_inspections, index_name=\"normalized number of inspections\",\n",
    "                                variable_df=criminality, variable_name=\"crimes per capita\")\n",
    "\n",
    "## 6) # violations / # establishments\n",
    "plt.subplot(3, 2, 6)\n",
    "scatter_plot(norm_average_violations, index_name=\"normalized inspection violations\",\n",
    "                                variable_df=criminality, variable_name=\"crimes per capita\")"
   ]
  },
  {
   "cell_type": "code",
   "execution_count": null,
   "metadata": {},
   "outputs": [],
   "source": []
  }
 ],
 "metadata": {
  "kernelspec": {
   "display_name": "Python 3",
   "language": "python",
   "name": "python3"
  },
  "language_info": {
   "codemirror_mode": {
    "name": "ipython",
    "version": 3
   },
   "file_extension": ".py",
   "mimetype": "text/x-python",
   "name": "python",
   "nbconvert_exporter": "python",
   "pygments_lexer": "ipython3",
   "version": "3.7.3"
  }
 },
 "nbformat": 4,
 "nbformat_minor": 2
}
