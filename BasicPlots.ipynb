{
 "cells": [
  {
   "cell_type": "code",
   "execution_count": 111,
   "metadata": {},
   "outputs": [],
   "source": [
    "from geopy.geocoders import Nominatim\n",
    "import pandas as pd\n",
    "import folium\n",
    "import json\n",
    "import datetime\n",
    "import geopandas as gpd\n",
    "from shapely.geometry import Point, Polygon\n",
    "import requests\n",
    "from bs4 import BeautifulSoup"
   ]
  },
  {
   "cell_type": "markdown",
   "metadata": {},
   "source": [
    "### Basic Map with Boundaries"
   ]
  },
  {
   "cell_type": "code",
   "execution_count": 4,
   "metadata": {},
   "outputs": [
    {
     "data": {
      "text/plain": [
       "(41.8755616, -87.6244212)"
      ]
     },
     "execution_count": 4,
     "metadata": {},
     "output_type": "execute_result"
    }
   ],
   "source": [
    "geolocator = Nominatim(user_agent=\"NMKG\")\n",
    "chicago_location = geolocator.geocode(\"Chicago\")\n",
    "(chicago_location.latitude, chicago_location.longitude)"
   ]
  },
  {
   "cell_type": "code",
   "execution_count": 16,
   "metadata": {
    "scrolled": true
   },
   "outputs": [],
   "source": [
    "m = folium.Map(location=[chicago_location.latitude, chicago_location.longitude], zoom_start=11)"
   ]
  },
  {
   "cell_type": "code",
   "execution_count": 17,
   "metadata": {},
   "outputs": [],
   "source": [
    "geojson_data = json.load(open(\"data/chicago_boundaries.geojson\"))\n",
    "folium.GeoJson(\n",
    "    geojson_data,\n",
    "    name='geojson'\n",
    ").add_to(m)"
   ]
  },
  {
   "cell_type": "markdown",
   "metadata": {},
   "source": [
    "### Get Neighbourhood <-> Community Area - Maybe will be useful?"
   ]
  },
  {
   "cell_type": "code",
   "execution_count": 131,
   "metadata": {},
   "outputs": [
    {
     "data": {
      "text/html": [
       "<div>\n",
       "<style scoped>\n",
       "    .dataframe tbody tr th:only-of-type {\n",
       "        vertical-align: middle;\n",
       "    }\n",
       "\n",
       "    .dataframe tbody tr th {\n",
       "        vertical-align: top;\n",
       "    }\n",
       "\n",
       "    .dataframe thead th {\n",
       "        text-align: right;\n",
       "    }\n",
       "</style>\n",
       "<table border=\"1\" class=\"dataframe\">\n",
       "  <thead>\n",
       "    <tr style=\"text-align: right;\">\n",
       "      <th></th>\n",
       "      <th>neigh</th>\n",
       "      <th>community</th>\n",
       "    </tr>\n",
       "  </thead>\n",
       "  <tbody>\n",
       "    <tr>\n",
       "      <td>0</td>\n",
       "      <td>Albany Park</td>\n",
       "      <td>Albany Park</td>\n",
       "    </tr>\n",
       "    <tr>\n",
       "      <td>1</td>\n",
       "      <td>Altgeld Gardens</td>\n",
       "      <td>Riverdale</td>\n",
       "    </tr>\n",
       "    <tr>\n",
       "      <td>2</td>\n",
       "      <td>Andersonville</td>\n",
       "      <td>Edgewater</td>\n",
       "    </tr>\n",
       "    <tr>\n",
       "      <td>3</td>\n",
       "      <td>Archer Heights</td>\n",
       "      <td>Archer Heights</td>\n",
       "    </tr>\n",
       "    <tr>\n",
       "      <td>4</td>\n",
       "      <td>Armour Square</td>\n",
       "      <td>Armour Square</td>\n",
       "    </tr>\n",
       "  </tbody>\n",
       "</table>\n",
       "</div>"
      ],
      "text/plain": [
       "             neigh       community\n",
       "0      Albany Park     Albany Park\n",
       "1  Altgeld Gardens       Riverdale\n",
       "2    Andersonville       Edgewater\n",
       "3   Archer Heights  Archer Heights\n",
       "4    Armour Square   Armour Square"
      ]
     },
     "execution_count": 131,
     "metadata": {},
     "output_type": "execute_result"
    }
   ],
   "source": [
    "url = \"https://en.wikipedia.org/wiki/List_of_neighborhoods_in_Chicago\"\n",
    "response = requests.get(url)\n",
    "html_soup = BeautifulSoup(response.text, 'html.parser')\n",
    "table_content = html_soup.find(\"tbody\").find_all(\"tr\")[1:]\n",
    "map_list = []\n",
    "i = 0\n",
    "for entry in table_content:\n",
    "    neigh_community = entry.find_all(\"td\")\n",
    "    if len(neigh_community) > 0:\n",
    "        neigh = neigh_community[0].text if \"<a>\" not in neigh_community[0].text else neigh_community.find_all(a)[0].text\n",
    "        community = neigh_community[1].text if \"<a>\" not in neigh_community[1].text else neigh_community.find_all(a)[0].text\n",
    "        map_list.append([neigh.strip(), community.strip()])\n",
    "\n",
    "map_list = pd.DataFrame(map_list, columns=[\"neigh\", \"community\"])\n",
    "map_list.head()"
   ]
  },
  {
   "cell_type": "markdown",
   "metadata": {},
   "source": [
    "### Map with Inspections"
   ]
  },
  {
   "cell_type": "code",
   "execution_count": 79,
   "metadata": {},
   "outputs": [],
   "source": [
    "inspections = pd.read_csv(\"data/food-inspections.csv\")\n",
    "inspections.head()\n",
    "inspections = inspections.dropna(subset=[\"Latitude\", \"Longitude\"])"
   ]
  },
  {
   "cell_type": "code",
   "execution_count": 80,
   "metadata": {},
   "outputs": [
    {
     "data": {
      "text/plain": [
       "Index(['Inspection ID', 'DBA Name', 'AKA Name', 'License #', 'Facility Type',\n",
       "       'Risk', 'Address', 'City', 'State', 'Zip', 'Inspection Date',\n",
       "       'Inspection Type', 'Results', 'Violations', 'Latitude', 'Longitude',\n",
       "       'Location', 'Historical Wards 2003-2015', 'Zip Codes',\n",
       "       'Community Areas', 'Census Tracts', 'Wards'],\n",
       "      dtype='object')"
      ]
     },
     "execution_count": 80,
     "metadata": {},
     "output_type": "execute_result"
    }
   ],
   "source": [
    "inspections.columns"
   ]
  },
  {
   "cell_type": "code",
   "execution_count": 81,
   "metadata": {},
   "outputs": [],
   "source": [
    "inspections[\"date\"] = pd.to_datetime(inspections[\"Inspection Date\"])"
   ]
  },
  {
   "cell_type": "code",
   "execution_count": 82,
   "metadata": {},
   "outputs": [
    {
     "data": {
      "text/plain": [
       "14130   2019-01-02\n",
       "14131   2019-01-02\n",
       "14132   2019-01-02\n",
       "14133   2019-01-02\n",
       "14134   2019-01-02\n",
       "Name: date, dtype: datetime64[ns]"
      ]
     },
     "execution_count": 82,
     "metadata": {},
     "output_type": "execute_result"
    }
   ],
   "source": [
    "## getting only 2019 to make it easier\n",
    "inspections_2019 = inspections[inspections[\"date\"].dt.year == 2019]\n",
    "inspections_2019[\"date\"].tail()"
   ]
  },
  {
   "cell_type": "code",
   "execution_count": 83,
   "metadata": {},
   "outputs": [
    {
     "name": "stdout",
     "output_type": "stream",
     "text": [
      "True\n"
     ]
    },
    {
     "data": {
      "text/html": [
       "<div>\n",
       "<style scoped>\n",
       "    .dataframe tbody tr th:only-of-type {\n",
       "        vertical-align: middle;\n",
       "    }\n",
       "\n",
       "    .dataframe tbody tr th {\n",
       "        vertical-align: top;\n",
       "    }\n",
       "\n",
       "    .dataframe thead th {\n",
       "        text-align: right;\n",
       "    }\n",
       "</style>\n",
       "<table border=\"1\" class=\"dataframe\">\n",
       "  <thead>\n",
       "    <tr style=\"text-align: right;\">\n",
       "      <th></th>\n",
       "      <th>pri_neigh</th>\n",
       "      <th>sec_neigh</th>\n",
       "      <th>shape_area</th>\n",
       "      <th>shape_len</th>\n",
       "      <th>geometry</th>\n",
       "    </tr>\n",
       "  </thead>\n",
       "  <tbody>\n",
       "    <tr>\n",
       "      <td>52</td>\n",
       "      <td>Albany Park</td>\n",
       "      <td>NORTH PARK,ALBANY PARK</td>\n",
       "      <td>53542230.819</td>\n",
       "      <td>39339.016439</td>\n",
       "      <td>(POLYGON ((-87.70403771340104 41.9735515838182...</td>\n",
       "    </tr>\n",
       "    <tr>\n",
       "      <td>42</td>\n",
       "      <td>Andersonville</td>\n",
       "      <td>ANDERSONVILLE</td>\n",
       "      <td>9584592.89906</td>\n",
       "      <td>12534.092625</td>\n",
       "      <td>(POLYGON ((-87.66114249176968 41.9763032707800...</td>\n",
       "    </tr>\n",
       "    <tr>\n",
       "      <td>78</td>\n",
       "      <td>Archer Heights</td>\n",
       "      <td>ARCHER HEIGHTS,WEST ELSDON</td>\n",
       "      <td>55922505.7212</td>\n",
       "      <td>31880.02103</td>\n",
       "      <td>(POLYGON ((-87.71436934735939 41.8260405636423...</td>\n",
       "    </tr>\n",
       "    <tr>\n",
       "      <td>8</td>\n",
       "      <td>Armour Square</td>\n",
       "      <td>ARMOUR SQUARE,CHINATOWN</td>\n",
       "      <td>17141468.6356</td>\n",
       "      <td>24359.189625</td>\n",
       "      <td>(POLYGON ((-87.62920071904188 41.8471270613852...</td>\n",
       "    </tr>\n",
       "    <tr>\n",
       "      <td>21</td>\n",
       "      <td>Ashburn</td>\n",
       "      <td>ASHBURN</td>\n",
       "      <td>135460337.208</td>\n",
       "      <td>54818.154632</td>\n",
       "      <td>(POLYGON ((-87.71254775561138 41.7573373338274...</td>\n",
       "    </tr>\n",
       "  </tbody>\n",
       "</table>\n",
       "</div>"
      ],
      "text/plain": [
       "         pri_neigh                   sec_neigh     shape_area     shape_len  \\\n",
       "52     Albany Park      NORTH PARK,ALBANY PARK   53542230.819  39339.016439   \n",
       "42   Andersonville               ANDERSONVILLE  9584592.89906  12534.092625   \n",
       "78  Archer Heights  ARCHER HEIGHTS,WEST ELSDON  55922505.7212   31880.02103   \n",
       "8    Armour Square     ARMOUR SQUARE,CHINATOWN  17141468.6356  24359.189625   \n",
       "21         Ashburn                     ASHBURN  135460337.208  54818.154632   \n",
       "\n",
       "                                             geometry  \n",
       "52  (POLYGON ((-87.70403771340104 41.9735515838182...  \n",
       "42  (POLYGON ((-87.66114249176968 41.9763032707800...  \n",
       "78  (POLYGON ((-87.71436934735939 41.8260405636423...  \n",
       "8   (POLYGON ((-87.62920071904188 41.8471270613852...  \n",
       "21  (POLYGON ((-87.71254775561138 41.7573373338274...  "
      ]
     },
     "execution_count": 83,
     "metadata": {},
     "output_type": "execute_result"
    }
   ],
   "source": [
    "## reasing geojson\n",
    "geo_df = gpd.read_file(\"data/chicago_boundaries.geojson\")\n",
    "print(geo_df[\"pri_neigh\"].nunique() == len(geo_df))\n",
    "geo_df.sort_values(\"pri_neigh\").head()"
   ]
  },
  {
   "cell_type": "code",
   "execution_count": 92,
   "metadata": {},
   "outputs": [
    {
     "data": {
      "text/html": [
       "<div>\n",
       "<style scoped>\n",
       "    .dataframe tbody tr th:only-of-type {\n",
       "        vertical-align: middle;\n",
       "    }\n",
       "\n",
       "    .dataframe tbody tr th {\n",
       "        vertical-align: top;\n",
       "    }\n",
       "\n",
       "    .dataframe thead th {\n",
       "        text-align: right;\n",
       "    }\n",
       "</style>\n",
       "<table border=\"1\" class=\"dataframe\">\n",
       "  <thead>\n",
       "    <tr style=\"text-align: right;\">\n",
       "      <th></th>\n",
       "      <th>Inspection ID</th>\n",
       "      <th>Latitude</th>\n",
       "      <th>Longitude</th>\n",
       "      <th>geometry</th>\n",
       "    </tr>\n",
       "  </thead>\n",
       "  <tbody>\n",
       "    <tr>\n",
       "      <td>0</td>\n",
       "      <td>2320315</td>\n",
       "      <td>41.714168</td>\n",
       "      <td>-87.655291</td>\n",
       "      <td>POINT (-87.65529116028439 41.7141680989703)</td>\n",
       "    </tr>\n",
       "    <tr>\n",
       "      <td>1</td>\n",
       "      <td>2320342</td>\n",
       "      <td>41.913588</td>\n",
       "      <td>-87.682203</td>\n",
       "      <td>POINT (-87.6822028354253 41.9135877900482)</td>\n",
       "    </tr>\n",
       "    <tr>\n",
       "      <td>2</td>\n",
       "      <td>2320328</td>\n",
       "      <td>41.808025</td>\n",
       "      <td>-87.720037</td>\n",
       "      <td>POINT (-87.72003743037237 41.80802515275297)</td>\n",
       "    </tr>\n",
       "    <tr>\n",
       "      <td>3</td>\n",
       "      <td>2320319</td>\n",
       "      <td>41.808025</td>\n",
       "      <td>-87.720037</td>\n",
       "      <td>POINT (-87.72003743037237 41.80802515275297)</td>\n",
       "    </tr>\n",
       "    <tr>\n",
       "      <td>4</td>\n",
       "      <td>2320228</td>\n",
       "      <td>41.807662</td>\n",
       "      <td>-87.731480</td>\n",
       "      <td>POINT (-87.7314802731113 41.8076619936005)</td>\n",
       "    </tr>\n",
       "  </tbody>\n",
       "</table>\n",
       "</div>"
      ],
      "text/plain": [
       "   Inspection ID   Latitude  Longitude  \\\n",
       "0        2320315  41.714168 -87.655291   \n",
       "1        2320342  41.913588 -87.682203   \n",
       "2        2320328  41.808025 -87.720037   \n",
       "3        2320319  41.808025 -87.720037   \n",
       "4        2320228  41.807662 -87.731480   \n",
       "\n",
       "                                       geometry  \n",
       "0   POINT (-87.65529116028439 41.7141680989703)  \n",
       "1    POINT (-87.6822028354253 41.9135877900482)  \n",
       "2  POINT (-87.72003743037237 41.80802515275297)  \n",
       "3  POINT (-87.72003743037237 41.80802515275297)  \n",
       "4    POINT (-87.7314802731113 41.8076619936005)  "
      ]
     },
     "execution_count": 92,
     "metadata": {},
     "output_type": "execute_result"
    }
   ],
   "source": [
    "## create a geodataframe with the location info of inspections\n",
    "geometry = [Point(x, y) for x, y in zip(inspections_2019.Longitude, inspections_2019.Latitude)]\n",
    "crs = {'init': 'epsg:4326'}\n",
    "inspections_to_join = gpd.GeoDataFrame(inspections_2019[[\"Inspection ID\", \"Latitude\", \"Longitude\"]], \n",
    "                                       crs=crs,\n",
    "                                       geometry=geometry)\n",
    "inspections_to_join.head()"
   ]
  },
  {
   "cell_type": "code",
   "execution_count": 94,
   "metadata": {},
   "outputs": [
    {
     "data": {
      "text/html": [
       "<div>\n",
       "<style scoped>\n",
       "    .dataframe tbody tr th:only-of-type {\n",
       "        vertical-align: middle;\n",
       "    }\n",
       "\n",
       "    .dataframe tbody tr th {\n",
       "        vertical-align: top;\n",
       "    }\n",
       "\n",
       "    .dataframe thead th {\n",
       "        text-align: right;\n",
       "    }\n",
       "</style>\n",
       "<table border=\"1\" class=\"dataframe\">\n",
       "  <thead>\n",
       "    <tr style=\"text-align: right;\">\n",
       "      <th></th>\n",
       "      <th>Inspection ID</th>\n",
       "      <th>DBA Name</th>\n",
       "      <th>AKA Name</th>\n",
       "      <th>License #</th>\n",
       "      <th>Facility Type</th>\n",
       "      <th>Risk</th>\n",
       "      <th>Address</th>\n",
       "      <th>City</th>\n",
       "      <th>State</th>\n",
       "      <th>Zip</th>\n",
       "      <th>...</th>\n",
       "      <th>Wards</th>\n",
       "      <th>date</th>\n",
       "      <th>Latitude_y</th>\n",
       "      <th>Longitude_y</th>\n",
       "      <th>geometry</th>\n",
       "      <th>index_right</th>\n",
       "      <th>pri_neigh</th>\n",
       "      <th>sec_neigh</th>\n",
       "      <th>shape_area</th>\n",
       "      <th>shape_len</th>\n",
       "    </tr>\n",
       "  </thead>\n",
       "  <tbody>\n",
       "    <tr>\n",
       "      <td>0</td>\n",
       "      <td>2320315</td>\n",
       "      <td>SERENDIPITY CHILDCARE</td>\n",
       "      <td>SERENDIPITY CHILDCARE</td>\n",
       "      <td>2216009.0</td>\n",
       "      <td>Daycare Above and Under 2 Years</td>\n",
       "      <td>Risk 1 (High)</td>\n",
       "      <td>1300 W 99TH ST</td>\n",
       "      <td>CHICAGO</td>\n",
       "      <td>IL</td>\n",
       "      <td>60643.0</td>\n",
       "      <td>...</td>\n",
       "      <td>NaN</td>\n",
       "      <td>2019-10-23</td>\n",
       "      <td>41.714168</td>\n",
       "      <td>-87.655291</td>\n",
       "      <td>POINT (-87.65529116028439 41.7141680989703)</td>\n",
       "      <td>72.0</td>\n",
       "      <td>Washington Heights</td>\n",
       "      <td>WASHINGTON HEIGHTS,ROSELAND</td>\n",
       "      <td>79635752.8769</td>\n",
       "      <td>42222.598163</td>\n",
       "    </tr>\n",
       "    <tr>\n",
       "      <td>1</td>\n",
       "      <td>2320342</td>\n",
       "      <td>YOLK TEST KITCHEN</td>\n",
       "      <td>YOLK TEST KITCHEN</td>\n",
       "      <td>2589655.0</td>\n",
       "      <td>Restaurant</td>\n",
       "      <td>Risk 1 (High)</td>\n",
       "      <td>1767 N MILWAUKEE AVE</td>\n",
       "      <td>CHICAGO</td>\n",
       "      <td>IL</td>\n",
       "      <td>60647.0</td>\n",
       "      <td>...</td>\n",
       "      <td>NaN</td>\n",
       "      <td>2019-10-23</td>\n",
       "      <td>41.913588</td>\n",
       "      <td>-87.682203</td>\n",
       "      <td>POINT (-87.6822028354253 41.9135877900482)</td>\n",
       "      <td>88.0</td>\n",
       "      <td>Wicker Park</td>\n",
       "      <td>WICKER PARK,WEST TOWN</td>\n",
       "      <td>26853193.0926</td>\n",
       "      <td>21992.660946</td>\n",
       "    </tr>\n",
       "    <tr>\n",
       "      <td>2</td>\n",
       "      <td>2320328</td>\n",
       "      <td>LAS ASADAS MEXICAN GRILL</td>\n",
       "      <td>LAS ASADAS MEXICAN GRILL</td>\n",
       "      <td>2583309.0</td>\n",
       "      <td>Restaurant</td>\n",
       "      <td>Risk 1 (High)</td>\n",
       "      <td>3834 W 47TH ST</td>\n",
       "      <td>CHICAGO</td>\n",
       "      <td>IL</td>\n",
       "      <td>60632.0</td>\n",
       "      <td>...</td>\n",
       "      <td>NaN</td>\n",
       "      <td>2019-10-23</td>\n",
       "      <td>41.808025</td>\n",
       "      <td>-87.720037</td>\n",
       "      <td>POINT (-87.72003743037237 41.80802515275297)</td>\n",
       "      <td>78.0</td>\n",
       "      <td>Archer Heights</td>\n",
       "      <td>ARCHER HEIGHTS,WEST ELSDON</td>\n",
       "      <td>55922505.7212</td>\n",
       "      <td>31880.02103</td>\n",
       "    </tr>\n",
       "    <tr>\n",
       "      <td>3</td>\n",
       "      <td>2320319</td>\n",
       "      <td>LA PALAPITA</td>\n",
       "      <td>LA PALAPITA</td>\n",
       "      <td>2694702.0</td>\n",
       "      <td>Restaurant</td>\n",
       "      <td>Risk 1 (High)</td>\n",
       "      <td>3834 W 47TH ST</td>\n",
       "      <td>CHICAGO</td>\n",
       "      <td>IL</td>\n",
       "      <td>60632.0</td>\n",
       "      <td>...</td>\n",
       "      <td>NaN</td>\n",
       "      <td>2019-10-23</td>\n",
       "      <td>41.808025</td>\n",
       "      <td>-87.720037</td>\n",
       "      <td>POINT (-87.72003743037237 41.80802515275297)</td>\n",
       "      <td>78.0</td>\n",
       "      <td>Archer Heights</td>\n",
       "      <td>ARCHER HEIGHTS,WEST ELSDON</td>\n",
       "      <td>55922505.7212</td>\n",
       "      <td>31880.02103</td>\n",
       "    </tr>\n",
       "    <tr>\n",
       "      <td>4</td>\n",
       "      <td>2320228</td>\n",
       "      <td>47TH ST CANTINA</td>\n",
       "      <td>47TH ST CANTINA</td>\n",
       "      <td>2678250.0</td>\n",
       "      <td>Liquor</td>\n",
       "      <td>Risk 3 (Low)</td>\n",
       "      <td>4311 W 47TH ST</td>\n",
       "      <td>CHICAGO</td>\n",
       "      <td>IL</td>\n",
       "      <td>60632.0</td>\n",
       "      <td>...</td>\n",
       "      <td>NaN</td>\n",
       "      <td>2019-10-22</td>\n",
       "      <td>41.807662</td>\n",
       "      <td>-87.731480</td>\n",
       "      <td>POINT (-87.7314802731113 41.8076619936005)</td>\n",
       "      <td>78.0</td>\n",
       "      <td>Archer Heights</td>\n",
       "      <td>ARCHER HEIGHTS,WEST ELSDON</td>\n",
       "      <td>55922505.7212</td>\n",
       "      <td>31880.02103</td>\n",
       "    </tr>\n",
       "  </tbody>\n",
       "</table>\n",
       "<p>5 rows × 31 columns</p>\n",
       "</div>"
      ],
      "text/plain": [
       "   Inspection ID                  DBA Name                  AKA Name  \\\n",
       "0        2320315     SERENDIPITY CHILDCARE     SERENDIPITY CHILDCARE   \n",
       "1        2320342         YOLK TEST KITCHEN         YOLK TEST KITCHEN   \n",
       "2        2320328  LAS ASADAS MEXICAN GRILL  LAS ASADAS MEXICAN GRILL   \n",
       "3        2320319               LA PALAPITA               LA PALAPITA   \n",
       "4        2320228           47TH ST CANTINA           47TH ST CANTINA   \n",
       "\n",
       "   License #                    Facility Type           Risk  \\\n",
       "0  2216009.0  Daycare Above and Under 2 Years  Risk 1 (High)   \n",
       "1  2589655.0                       Restaurant  Risk 1 (High)   \n",
       "2  2583309.0                       Restaurant  Risk 1 (High)   \n",
       "3  2694702.0                       Restaurant  Risk 1 (High)   \n",
       "4  2678250.0                           Liquor   Risk 3 (Low)   \n",
       "\n",
       "                 Address     City State      Zip  ... Wards       date  \\\n",
       "0        1300 W 99TH ST   CHICAGO    IL  60643.0  ...   NaN 2019-10-23   \n",
       "1  1767 N MILWAUKEE AVE   CHICAGO    IL  60647.0  ...   NaN 2019-10-23   \n",
       "2        3834 W 47TH ST   CHICAGO    IL  60632.0  ...   NaN 2019-10-23   \n",
       "3        3834 W 47TH ST   CHICAGO    IL  60632.0  ...   NaN 2019-10-23   \n",
       "4        4311 W 47TH ST   CHICAGO    IL  60632.0  ...   NaN 2019-10-22   \n",
       "\n",
       "  Latitude_y Longitude_y                                      geometry  \\\n",
       "0  41.714168  -87.655291   POINT (-87.65529116028439 41.7141680989703)   \n",
       "1  41.913588  -87.682203    POINT (-87.6822028354253 41.9135877900482)   \n",
       "2  41.808025  -87.720037  POINT (-87.72003743037237 41.80802515275297)   \n",
       "3  41.808025  -87.720037  POINT (-87.72003743037237 41.80802515275297)   \n",
       "4  41.807662  -87.731480    POINT (-87.7314802731113 41.8076619936005)   \n",
       "\n",
       "   index_right           pri_neigh                    sec_neigh  \\\n",
       "0         72.0  Washington Heights  WASHINGTON HEIGHTS,ROSELAND   \n",
       "1         88.0         Wicker Park        WICKER PARK,WEST TOWN   \n",
       "2         78.0      Archer Heights   ARCHER HEIGHTS,WEST ELSDON   \n",
       "3         78.0      Archer Heights   ARCHER HEIGHTS,WEST ELSDON   \n",
       "4         78.0      Archer Heights   ARCHER HEIGHTS,WEST ELSDON   \n",
       "\n",
       "      shape_area     shape_len  \n",
       "0  79635752.8769  42222.598163  \n",
       "1  26853193.0926  21992.660946  \n",
       "2  55922505.7212   31880.02103  \n",
       "3  55922505.7212   31880.02103  \n",
       "4  55922505.7212   31880.02103  \n",
       "\n",
       "[5 rows x 31 columns]"
      ]
     },
     "execution_count": 94,
     "metadata": {},
     "output_type": "execute_result"
    }
   ],
   "source": [
    "## merging locations and polygons to find the neighbourhood\n",
    "from geopandas.tools import sjoin\n",
    "\n",
    "points_to_neigh = sjoin(inspections_to_join, geo_df, how='left')\n",
    "inspections_2019 = inspections_2019.merge(points_to_neigh, left_on=\"Inspection ID\", right_on=\"Inspection ID\")\n",
    "inspections_2019.head()"
   ]
  },
  {
   "cell_type": "code",
   "execution_count": 104,
   "metadata": {},
   "outputs": [
    {
     "data": {
      "text/plain": [
       "pri_neigh\n",
       "Albany Park       283\n",
       "Andersonville      59\n",
       "Archer Heights     95\n",
       "Armour Square      31\n",
       "Ashburn           153\n",
       "Name: Inspection ID, dtype: int64"
      ]
     },
     "execution_count": 104,
     "metadata": {},
     "output_type": "execute_result"
    }
   ],
   "source": [
    "inspection_per_neigh = inspections_2019.groupby(\"pri_neigh\").count()[\"Inspection ID\"]\n",
    "inspection_per_neigh.head()"
   ]
  },
  {
   "cell_type": "code",
   "execution_count": 179,
   "metadata": {},
   "outputs": [
    {
     "data": {
      "text/plain": [
       "<folium.features.Choropleth at 0x1de0bb0ac08>"
      ]
     },
     "execution_count": 179,
     "metadata": {},
     "output_type": "execute_result"
    }
   ],
   "source": [
    "m = folium.Map(location=[chicago_location.latitude, chicago_location.longitude], zoom_start=11)\n",
    "\n",
    "folium.Choropleth(\n",
    "    geo_data=geo_df,\n",
    "    name='choropleth',\n",
    "    data=inspection_per_neigh,\n",
    "    columns=[\"pri_neigh\", \"Inspection ID\"],\n",
    "    key_on='feature.properties.pri_neigh',\n",
    "    fill_color='YlGn',\n",
    "    fill_opacity=0.7,\n",
    "    line_opacity=0.2\n",
    ").add_to(m)"
   ]
  },
  {
   "cell_type": "code",
   "execution_count": 158,
   "metadata": {},
   "outputs": [
    {
     "data": {
      "text/plain": [
       "{'Burnside', 'Grant Park'}"
      ]
     },
     "execution_count": 158,
     "metadata": {},
     "output_type": "execute_result"
    }
   ],
   "source": [
    "set(geo_df[\"pri_neigh\"].unique()) - set(inspections_2019[\"pri_neigh\"].unique())\n",
    "## These are the neighborhood without inspections in 2019"
   ]
  },
  {
   "cell_type": "code",
   "execution_count": 183,
   "metadata": {},
   "outputs": [
    {
     "data": {
      "text/plain": [
       "{nan}"
      ]
     },
     "execution_count": 183,
     "metadata": {},
     "output_type": "execute_result"
    }
   ],
   "source": [
    "set(inspections_2019[\"pri_neigh\"].unique()) - set(geo_df[\"pri_neigh\"].unique())\n",
    "## There are NaN because they are outside the boundary given by the city"
   ]
  },
  {
   "cell_type": "code",
   "execution_count": 180,
   "metadata": {},
   "outputs": [
    {
     "name": "stdout",
     "output_type": "stream",
     "text": [
      "263\n"
     ]
    }
   ],
   "source": [
    "not_in_map = inspections_2019[inspections_2019[\"pri_neigh\"].isna()]\n",
    "i = 0\n",
    "for idx, row in not_in_map.iterrows():\n",
    "    i = i + 1\n",
    "    folium.Marker([row.Latitude_x, row.Longitude_x], popup=idx).add_to(m)\n",
    "print(i)"
   ]
  },
  {
   "cell_type": "code",
   "execution_count": 181,
   "metadata": {},
   "outputs": [],
   "source": [
    "m.save(\"map.html\")"
   ]
  },
  {
   "cell_type": "code",
   "execution_count": 182,
   "metadata": {},
   "outputs": [
    {
     "data": {
      "text/plain": [
       "(array([42.0085364 , 41.89224916, 41.89233781]),\n",
       " array([-87.91442844, -87.60951805, -87.60404476]))"
      ]
     },
     "execution_count": 182,
     "metadata": {},
     "output_type": "execute_result"
    }
   ],
   "source": [
    "(not_in_map.Latitude_y.unique(), not_in_map.Longitude_y.unique())"
   ]
  },
  {
   "cell_type": "markdown",
   "metadata": {},
   "source": [
    "#### If you check this map, you will see two things that look weird\n",
    "1) If we intersect the polygons provided by the government and the points of inspections, there are 3 points (and 263 inspections) that are \"not anywhere\". However the problem is because of really small erorrs in measurement, it is actually quite easy to set it by hand. Have a look at the map.\n",
    "2) The black neighbourhood actually did not have any inspections lol"
   ]
  },
  {
   "cell_type": "markdown",
   "metadata": {},
   "source": [
    "### Map with Income"
   ]
  },
  {
   "cell_type": "code",
   "execution_count": 217,
   "metadata": {},
   "outputs": [
    {
     "data": {
      "text/html": [
       "<div>\n",
       "<style scoped>\n",
       "    .dataframe tbody tr th:only-of-type {\n",
       "        vertical-align: middle;\n",
       "    }\n",
       "\n",
       "    .dataframe tbody tr th {\n",
       "        vertical-align: top;\n",
       "    }\n",
       "\n",
       "    .dataframe thead th {\n",
       "        text-align: right;\n",
       "    }\n",
       "</style>\n",
       "<table border=\"1\" class=\"dataframe\">\n",
       "  <thead>\n",
       "    <tr style=\"text-align: right;\">\n",
       "      <th></th>\n",
       "      <th>area_number</th>\n",
       "      <th>area_name</th>\n",
       "      <th>housing_crowded</th>\n",
       "      <th>household_below_poverty</th>\n",
       "      <th>unemployment_16</th>\n",
       "      <th>wo_hs_25</th>\n",
       "      <th>aged_18_64</th>\n",
       "      <th>per_capita_income</th>\n",
       "      <th>hardship_index</th>\n",
       "    </tr>\n",
       "  </thead>\n",
       "  <tbody>\n",
       "    <tr>\n",
       "      <td>0</td>\n",
       "      <td>1</td>\n",
       "      <td>Rogers Park</td>\n",
       "      <td>7.7</td>\n",
       "      <td>23.6</td>\n",
       "      <td>8.7</td>\n",
       "      <td>18.2</td>\n",
       "      <td>27.5</td>\n",
       "      <td>23939</td>\n",
       "      <td>39</td>\n",
       "    </tr>\n",
       "    <tr>\n",
       "      <td>1</td>\n",
       "      <td>2</td>\n",
       "      <td>West Ridge</td>\n",
       "      <td>7.8</td>\n",
       "      <td>17.2</td>\n",
       "      <td>8.8</td>\n",
       "      <td>20.8</td>\n",
       "      <td>38.5</td>\n",
       "      <td>23040</td>\n",
       "      <td>46</td>\n",
       "    </tr>\n",
       "    <tr>\n",
       "      <td>2</td>\n",
       "      <td>3</td>\n",
       "      <td>Uptown</td>\n",
       "      <td>3.8</td>\n",
       "      <td>24.0</td>\n",
       "      <td>8.9</td>\n",
       "      <td>11.8</td>\n",
       "      <td>22.2</td>\n",
       "      <td>35787</td>\n",
       "      <td>20</td>\n",
       "    </tr>\n",
       "    <tr>\n",
       "      <td>3</td>\n",
       "      <td>4</td>\n",
       "      <td>Lincoln Square</td>\n",
       "      <td>3.4</td>\n",
       "      <td>10.9</td>\n",
       "      <td>8.2</td>\n",
       "      <td>13.4</td>\n",
       "      <td>25.5</td>\n",
       "      <td>37524</td>\n",
       "      <td>17</td>\n",
       "    </tr>\n",
       "    <tr>\n",
       "      <td>4</td>\n",
       "      <td>5</td>\n",
       "      <td>North Center</td>\n",
       "      <td>0.3</td>\n",
       "      <td>7.5</td>\n",
       "      <td>5.2</td>\n",
       "      <td>4.5</td>\n",
       "      <td>26.2</td>\n",
       "      <td>57123</td>\n",
       "      <td>6</td>\n",
       "    </tr>\n",
       "  </tbody>\n",
       "</table>\n",
       "</div>"
      ],
      "text/plain": [
       "   area_number       area_name  housing_crowded  household_below_poverty  \\\n",
       "0            1     Rogers Park              7.7                     23.6   \n",
       "1            2      West Ridge              7.8                     17.2   \n",
       "2            3          Uptown              3.8                     24.0   \n",
       "3            4  Lincoln Square              3.4                     10.9   \n",
       "4            5    North Center              0.3                      7.5   \n",
       "\n",
       "   unemployment_16  wo_hs_25  aged_18_64  per_capita_income  hardship_index  \n",
       "0              8.7      18.2        27.5              23939              39  \n",
       "1              8.8      20.8        38.5              23040              46  \n",
       "2              8.9      11.8        22.2              35787              20  \n",
       "3              8.2      13.4        25.5              37524              17  \n",
       "4              5.2       4.5        26.2              57123               6  "
      ]
     },
     "execution_count": 217,
     "metadata": {},
     "output_type": "execute_result"
    }
   ],
   "source": [
    "eco_info = pd.read_csv(\"data/economic-info.csv\")\n",
    "eco_info.head()"
   ]
  },
  {
   "cell_type": "code",
   "execution_count": 218,
   "metadata": {},
   "outputs": [
    {
     "data": {
      "text/plain": [
       "<folium.features.Choropleth at 0x1de3489c988>"
      ]
     },
     "execution_count": 218,
     "metadata": {},
     "output_type": "execute_result"
    }
   ],
   "source": [
    "m = folium.Map(location=[chicago_location.latitude, chicago_location.longitude], zoom_start=11)\n",
    "\n",
    "folium.Choropleth(\n",
    "    geo_data=geo_df,\n",
    "    name='choropleth',\n",
    "    data=eco_info,\n",
    "    columns=[\"area_name\", \"per_capita_income\"],\n",
    "    key_on='feature.properties.pri_neigh',\n",
    "    fill_color='YlGn',\n",
    "    fill_opacity=0.7,\n",
    "    line_opacity=0.2\n",
    ").add_to(m)"
   ]
  },
  {
   "cell_type": "code",
   "execution_count": 219,
   "metadata": {},
   "outputs": [],
   "source": [
    "m.save(\"map.html\")"
   ]
  },
  {
   "cell_type": "code",
   "execution_count": 220,
   "metadata": {},
   "outputs": [
    {
     "data": {
      "text/plain": [
       "{'East Garfield Park',\n",
       " 'Forest Glen',\n",
       " 'Greater Grand Crossing',\n",
       " 'Humboldt park',\n",
       " 'McKinley Park',\n",
       " 'Montclaire',\n",
       " 'Near North Side',\n",
       " 'Near West Side',\n",
       " 'South Lawndale',\n",
       " 'Washington Height',\n",
       " 'West Englewood',\n",
       " 'West Garfield Park'}"
      ]
     },
     "execution_count": 220,
     "metadata": {},
     "output_type": "execute_result"
    }
   ],
   "source": [
    "set(eco_info[\"area_name\"]) - set(geo_df[\"pri_neigh\"].unique())"
   ]
  },
  {
   "cell_type": "code",
   "execution_count": 221,
   "metadata": {},
   "outputs": [
    {
     "data": {
      "text/plain": [
       "{'Andersonville',\n",
       " 'Boystown',\n",
       " 'Bucktown',\n",
       " 'Chinatown',\n",
       " 'East Village',\n",
       " 'Galewood',\n",
       " 'Garfield Park',\n",
       " 'Gold Coast',\n",
       " 'Grand Crossing',\n",
       " 'Grant Park',\n",
       " 'Greektown',\n",
       " 'Humboldt Park',\n",
       " 'Jackson Park',\n",
       " 'Little Italy, UIC',\n",
       " 'Little Village',\n",
       " 'Magnificent Mile',\n",
       " 'Mckinley Park',\n",
       " 'Millenium Park',\n",
       " 'Montclare',\n",
       " 'Museum Campus',\n",
       " 'Old Town',\n",
       " 'Printers Row',\n",
       " 'River North',\n",
       " 'Rush & Division',\n",
       " 'Sauganash,Forest Glen',\n",
       " 'Sheffield & DePaul',\n",
       " 'Streeterville',\n",
       " 'Ukrainian Village',\n",
       " 'United Center',\n",
       " 'Washington Heights',\n",
       " 'West Loop',\n",
       " 'Wicker Park',\n",
       " 'Wrigleyville'}"
      ]
     },
     "execution_count": 221,
     "metadata": {},
     "output_type": "execute_result"
    }
   ],
   "source": [
    "set(geo_df[\"pri_neigh\"].unique()) - set(eco_info[\"area_name\"])"
   ]
  },
  {
   "cell_type": "code",
   "execution_count": 224,
   "metadata": {},
   "outputs": [
    {
     "data": {
      "text/plain": [
       "Location(Jackson Park, Woodlawn, Chicago, Cook County, Illinois, United States of America, (41.78323175, -87.5804432439724, 0.0))"
      ]
     },
     "execution_count": 224,
     "metadata": {},
     "output_type": "execute_result"
    }
   ],
   "source": [
    "geolocator = Nominatim(user_agent=\"NMKG\")\n",
    "geolocator.geocode(\"Jackson Park Chicago\")"
   ]
  },
  {
   "cell_type": "code",
   "execution_count": 228,
   "metadata": {},
   "outputs": [
    {
     "data": {
      "text/plain": [
       "Location(North Chicago, Lake County, Illinois, USA, (42.325578, -87.8411818, 0.0))"
      ]
     },
     "execution_count": 228,
     "metadata": {},
     "output_type": "execute_result"
    }
   ],
   "source": [
    "geolocator = Nominatim(user_agent=\"NMKG\")\n",
    "geolocator.geocode(\"River North Chicago\")"
   ]
  },
  {
   "cell_type": "markdown",
   "metadata": {},
   "source": [
    "See that there are some areas that are actually in other regions but it is not necessarily a neighborhood. Gotta clean it somehow."
   ]
  },
  {
   "cell_type": "markdown",
   "metadata": {},
   "source": [
    "### Map with Crime"
   ]
  },
  {
   "cell_type": "code",
   "execution_count": null,
   "metadata": {},
   "outputs": [],
   "source": []
  }
 ],
 "metadata": {
  "kernelspec": {
   "display_name": "Python 3",
   "language": "python",
   "name": "python3"
  },
  "language_info": {
   "codemirror_mode": {
    "name": "ipython",
    "version": 3
   },
   "file_extension": ".py",
   "mimetype": "text/x-python",
   "name": "python",
   "nbconvert_exporter": "python",
   "pygments_lexer": "ipython3",
   "version": "3.7.4"
  }
 },
 "nbformat": 4,
 "nbformat_minor": 2
}
